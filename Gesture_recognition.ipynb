{
  "cells": [
    {
      "cell_type": "markdown",
      "metadata": {
        "id": "iDjHF65ZBuUK"
      },
      "source": [
        "**Gesture Recognition:**\n",
        "          Import the libraries."
      ]
    },
    {
      "cell_type": "code",
      "execution_count": 1,
      "metadata": {
        "id": "_yn3aqijvgcW"
      },
      "outputs": [],
      "source": [
        "import os\n",
        "import numpy as np\n",
        "import datetime\n",
        "import pathlib\n",
        "import warnings\n",
        "warnings.filterwarnings(\"ignore\")\n",
        "from sys import getsizeof"
      ]
    },
    {
      "cell_type": "code",
      "execution_count": 2,
      "metadata": {
        "colab": {
          "base_uri": "https://localhost:8080/"
        },
        "id": "HHCuswvJ4hgc",
        "outputId": "b7a525e4-afa4-4e05-ce8f-420ed488e1e7"
      },
      "outputs": [
        {
          "output_type": "stream",
          "name": "stdout",
          "text": [
            "Requirement already satisfied: scipy==1.2.2 in /usr/local/lib/python3.7/dist-packages (1.2.2)\n",
            "Requirement already satisfied: numpy>=1.8.2 in /usr/local/lib/python3.7/dist-packages (from scipy==1.2.2) (1.21.5)\n"
          ]
        }
      ],
      "source": [
        "pip install scipy==1.2.2"
      ]
    },
    {
      "cell_type": "code",
      "execution_count": 3,
      "metadata": {
        "id": "j0H7zaSfzYXH"
      },
      "outputs": [],
      "source": [
        "from imageio import imread\n",
        "from skimage.transform import resize\n",
        "from scipy.misc import imread, imresize"
      ]
    },
    {
      "cell_type": "markdown",
      "metadata": {
        "id": "dGZeHLisCLg5"
      },
      "source": [
        " - Set the random seed so that the results don't vary drastically."
      ]
    },
    {
      "cell_type": "code",
      "execution_count": 4,
      "metadata": {
        "id": "0Pqc2bXB3sZ5"
      },
      "outputs": [],
      "source": [
        "np.random.seed(30)\n",
        "import random as rn\n",
        "rn.seed(30)\n",
        "import tensorflow as tf\n",
        "from tensorflow import keras\n",
        "from tensorflow.keras import backend as K\n",
        "tf.random.set_seed(30)"
      ]
    },
    {
      "cell_type": "code",
      "execution_count": 5,
      "metadata": {
        "id": "4OoU5A9d7Nkf"
      },
      "outputs": [],
      "source": [
        "import cv2\n",
        "import matplotlib.pyplot as plt\n",
        "%matplotlib inline"
      ]
    },
    {
      "cell_type": "markdown",
      "metadata": {
        "id": "0XR1Y0UGDYVH"
      },
      "source": [
        "- Read the folder names for training and validation and also set the `batch_size` here. \n",
        "- The batch size in such a way that are able to use the GPU full capacity. \n",
        "  increasing the batch size until the machine throws an error."
      ]
    },
    {
      "cell_type": "code",
      "execution_count": 6,
      "metadata": {
        "colab": {
          "base_uri": "https://localhost:8080/"
        },
        "id": "wrbJAyjMDUva",
        "outputId": "be564db4-5bb1-4338-b225-19cf9dda763e"
      },
      "outputs": [
        {
          "output_type": "stream",
          "name": "stdout",
          "text": [
            "Drive already mounted at /content/gdrive; to attempt to forcibly remount, call drive.mount(\"/content/gdrive\", force_remount=True).\n"
          ]
        }
      ],
      "source": [
        "from google.colab import drive\n",
        "drive.mount('/content/gdrive')\n",
        "root_path = 'gdrive/My Drive/Project_data/'"
      ]
    },
    {
      "cell_type": "code",
      "execution_count": 7,
      "metadata": {
        "id": "PmVD_cw1L0h_"
      },
      "outputs": [],
      "source": [
        "\n",
        "train_doc = np.random.permutation(open(\"gdrive/My Drive/Project_data/train.csv\").readlines())\n",
        "val_doc = np.random.permutation(open(\"gdrive/My Drive/Project_data/val.csv\").readlines())\n",
        "#train_doc = pathlib.Path('gdrive/My Drive/Project_data/train.csv')\n",
        "#val_doc = pathlib.Path('gdrive/My Drive/Project_data/val.csv')  \n",
        "batch_size = 30"
      ]
    },
    {
      "cell_type": "code",
      "execution_count": 8,
      "metadata": {
        "id": "7PWOE6V1IYv1"
      },
      "outputs": [],
      "source": [
        "from keras.models import Sequential, Model\n",
        "from keras.layers import Dense, GRU, Flatten, TimeDistributed, Flatten, BatchNormalization, Activation\n",
        "from keras.layers.convolutional import Conv3D, MaxPooling3D, Conv2D, MaxPooling2D\n",
        "from keras.layers.recurrent import LSTM\n",
        "from keras.callbacks import ModelCheckpoint, ReduceLROnPlateau\n",
        "from keras import optimizers\n",
        "from keras.layers import Dropout\n"
      ]
    },
    {
      "cell_type": "code",
      "execution_count": 9,
      "metadata": {
        "id": "ZST8nOUJIfNg"
      },
      "outputs": [],
      "source": [
        "project_folder=\"gdrive/My Drive/Project_data\""
      ]
    },
    {
      "cell_type": "markdown",
      "metadata": {
        "id": "fVt4Av09IsGN"
      },
      "source": [
        "**Plotting:**"
      ]
    },
    {
      "cell_type": "code",
      "execution_count": 10,
      "metadata": {
        "id": "CxCuqX9GIpHO"
      },
      "outputs": [],
      "source": [
        "def plot(history):\n",
        "    fig, axes = plt.subplots(nrows=1, ncols=2, figsize=(15,4))\n",
        "    axes[0].plot(history.history['loss'])   \n",
        "    axes[0].plot(history.history['val_loss'])\n",
        "    axes[0].legend(['loss','val_loss'])\n",
        "\n",
        "    axes[1].plot(history.history['categorical_accuracy'])   \n",
        "    axes[1].plot(history.history['val_categorical_accuracy'])\n",
        "    axes[1].legend(['categorical_accuracy','val_categorical_accuracy'])"
      ]
    },
    {
      "cell_type": "markdown",
      "metadata": {
        "id": "NRrcCpTnHtwx"
      },
      "source": [
        "**Generator**\n",
        "This is one of the most important part of the code. The overall structure of the generator has been given. In the generator, going to preprocess the images as you have images of 2 different dimensions as well as create a batch of video frames. You have to experiment with img_idx, y,z and normalization such that you get high accuracy."
      ]
    },
    {
      "cell_type": "code",
      "execution_count": 11,
      "metadata": {
        "id": "Fay_h1hmuORN"
      },
      "outputs": [],
      "source": [
        "import abc\n",
        "class ModelBuilder(metaclass= abc.ABCMeta):\n",
        "    \n",
        "    def initialize_path(self,project_folder):\n",
        "        self.train_doc = np.random.permutation(open(project_folder + '/' + 'train.csv').readlines())\n",
        "        self.val_doc = np.random.permutation(open(project_folder + '/' + 'val.csv').readlines())\n",
        "        self.train_path = project_folder + '/' + 'train'\n",
        "        self.val_path =  project_folder + '/' + 'val'\n",
        "        self.num_train_sequences = len(self.train_doc)\n",
        "        self.num_val_sequences = len(self.val_doc)\n",
        "        \n",
        "    def initialize_image_properties(self,image_height=100,image_width=100):\n",
        "        self.image_height=image_height\n",
        "        self.image_width=image_width\n",
        "        self.channels=3\n",
        "        self.num_classes=5\n",
        "        self.total_frames=30\n",
        "          \n",
        "    def initialize_hyperparams(self,frames_to_sample=30,batch_size=20,num_epochs=20):\n",
        "        self.frames_to_sample=frames_to_sample\n",
        "        self.batch_size=batch_size\n",
        "        self.num_epochs=num_epochs\n",
        "        \n",
        "        \n",
        "    def generator(self,source_path, folder_list, augment=False):\n",
        "        img_idx = np.round(np.linspace(0,self.total_frames-1,self.frames_to_sample)).astype(int)\n",
        "        batch_size=self.batch_size\n",
        "        while True:\n",
        "            t = np.random.permutation(folder_list)\n",
        "            num_batches = len(t)//batch_size\n",
        "        \n",
        "            for batch in range(num_batches): \n",
        "                batch_data, batch_labels= self.one_batch_data(source_path,t,batch,batch_size,img_idx,augment)\n",
        "                yield batch_data, batch_labels \n",
        "\n",
        "            remaining_seq=len(t)%batch_size\n",
        "        \n",
        "            if (remaining_seq != 0):\n",
        "                batch_data, batch_labels= self.one_batch_data(source_path,t,num_batches,batch_size,img_idx,augment,remaining_seq)\n",
        "                yield batch_data, batch_labels \n",
        "    \n",
        "    \n",
        "    def one_batch_data(self,source_path,t,batch,batch_size,img_idx,augment,remaining_seq=0):\n",
        "    \n",
        "        seq_len = remaining_seq if remaining_seq else batch_size\n",
        "    \n",
        "        batch_data = np.zeros((seq_len,len(img_idx),self.image_height,self.image_width,self.channels)) \n",
        "        batch_labels = np.zeros((seq_len,self.num_classes)) \n",
        "    \n",
        "        if (augment): batch_data_aug = np.zeros((seq_len,len(img_idx),self.image_height,self.image_width,self.channels))\n",
        "\n",
        "        \n",
        "        for folder in range(seq_len): \n",
        "            imgs = os.listdir(source_path+'/'+ t[folder + (batch*batch_size)].split(';')[0]) \n",
        "            for idx,item in enumerate(img_idx): \n",
        "                image = imread(source_path+'/'+ t[folder + (batch*batch_size)].strip().split(';')[0]+'/'+imgs[item]).astype(np.float32)\n",
        "                image_resized=imresize(image,(self.image_height,self.image_width,3))\n",
        "            \n",
        "\n",
        "                batch_data[folder,idx,:,:,0] = (image_resized[:,:,0])/255\n",
        "                batch_data[folder,idx,:,:,1] = (image_resized[:,:,1])/255\n",
        "                batch_data[folder,idx,:,:,2] = (image_resized[:,:,2])/255\n",
        "            \n",
        "                if (augment):\n",
        "                    shifted = cv2.warpAffine(image, \n",
        "                                             np.float32([[1, 0, np.random.randint(-30,30)],[0, 1, np.random.randint(-30,30)]]), \n",
        "                                            (image.shape[1], image.shape[0]))\n",
        "                    \n",
        "                    gray = cv2.cvtColor(shifted,cv2.COLOR_BGR2GRAY)\n",
        "\n",
        "                    x0, y0 = np.argwhere(gray > 0).min(axis=0)\n",
        "                    x1, y1 = np.argwhere(gray > 0).max(axis=0) \n",
        "                    \n",
        "                    cropped=shifted[x0:x1,y0:y1,:]\n",
        "                    \n",
        "                    image_resized=imresize(cropped,(self.image_height,self.image_width,3))\n",
        "                    \n",
        "                    #shifted = cv2.warpAffine(image_resized, \n",
        "                    #                        np.float32([[1, 0, np.random.randint(-3,3)],[0, 1, np.random.randint(-3,3)]]), \n",
        "                    #                        (image_resized.shape[1], image_resized.shape[0]))\n",
        "            \n",
        "                    batch_data_aug[folder,idx,:,:,0] = (image_resized[:,:,0])/255\n",
        "                    batch_data_aug[folder,idx,:,:,1] = (image_resized[:,:,1])/255\n",
        "                    batch_data_aug[folder,idx,:,:,2] = (image_resized[:,:,2])/255\n",
        "                \n",
        "            \n",
        "            batch_labels[folder, int(t[folder + (batch*batch_size)].strip().split(';')[2])] = 1\n",
        "            \n",
        "    \n",
        "        if (augment):\n",
        "            batch_data=np.concatenate([batch_data,batch_data_aug])\n",
        "            batch_labels=np.concatenate([batch_labels,batch_labels])\n",
        "\n",
        "        \n",
        "        return(batch_data,batch_labels)\n",
        "    \n",
        "    \n",
        "    def train_model(self, model, augment_data=False):\n",
        "        train_generator = self.generator(self.train_path, self.train_doc,augment=augment_data)\n",
        "        val_generator = self.generator(self.val_path, self.val_doc)\n",
        "\n",
        "        model_name = 'model_init' + '_' + str(datetime.datetime.now()).replace(' ','').replace(':','_') + '/'\n",
        "    \n",
        "        if not os.path.exists(model_name):\n",
        "            os.mkdir(model_name)\n",
        "        \n",
        "        filepath = model_name + 'model-{epoch:05d}-{loss:.5f}-{categorical_accuracy:.5f}-{val_loss:.5f}-{val_categorical_accuracy:.5f}.h5'\n",
        "\n",
        "        checkpoint = ModelCheckpoint(filepath, monitor='val_loss', verbose=1, save_best_only=False, save_weights_only=False, mode='auto', period=1)\n",
        "        LR = ReduceLROnPlateau(monitor='val_loss', factor=0.2, verbose=1, patience=4)\n",
        "        callbacks_list = [checkpoint, LR]\n",
        "\n",
        "        if (self.num_train_sequences%self.batch_size) == 0:\n",
        "            steps_per_epoch = int(self.num_train_sequences/self.batch_size)\n",
        "        else:\n",
        "            steps_per_epoch = (self.num_train_sequences//self.batch_size) + 1\n",
        "\n",
        "        if (self.num_val_sequences%self.batch_size) == 0:\n",
        "            validation_steps = int(self.num_val_sequences/self.batch_size)\n",
        "        else:\n",
        "            validation_steps = (self.num_val_sequences//self.batch_size) + 1\n",
        "    \n",
        "        history=model.fit_generator(train_generator, steps_per_epoch=steps_per_epoch, epochs=self.num_epochs, verbose=1, \n",
        "                            callbacks=callbacks_list, validation_data=val_generator, \n",
        "                            validation_steps=validation_steps, class_weight=None, workers=1, initial_epoch=0)\n",
        "        return history\n",
        "\n",
        "        \n",
        "    @abc.abstractmethod\n",
        "    def define_model(self):\n",
        "        pass"
      ]
    },
    {
      "cell_type": "markdown",
      "metadata": {
        "id": "-KCL5j8-RxGv"
      },
      "source": [
        "**Model**\n",
        "\n",
        "Now make the model using different functionalities that Keras provides. \n",
        "\n",
        "-Using Conv3D and MaxPooling3D and not Conv2D  and Maxpooling2D for a 3D convolution model.\n",
        " \n",
        "-using TimeDistributed while building a Conv2D + RNN model. Also remember that the last layer is the softmax. Design the network in such a way that the model is able to give good accuracy on the least number of parameters so that it can fit in the memory of the webcam."
      ]
    },
    {
      "cell_type": "markdown",
      "metadata": {
        "id": "vNaBKweZSjWF"
      },
      "source": [
        "**Sample Model**\n"
      ]
    },
    {
      "cell_type": "code",
      "execution_count": 12,
      "metadata": {
        "id": "tJ8EGi9HSokX"
      },
      "outputs": [],
      "source": [
        "class ModelConv3D1(ModelBuilder):\n",
        "    \n",
        "    def define_model(self):\n",
        "\n",
        "        model = Sequential()\n",
        "        model.add(Conv3D(16, (3, 3, 3), padding='same',\n",
        "                 input_shape=(self.frames_to_sample,self.image_height,self.image_width,self.channels)))\n",
        "        model.add(Activation('relu'))\n",
        "        model.add(BatchNormalization())\n",
        "        model.add(MaxPooling3D(pool_size=(2, 2, 2)))\n",
        "\n",
        "        model.add(Conv3D(32, (2, 2, 2), padding='same'))\n",
        "        model.add(Activation('relu'))\n",
        "        model.add(BatchNormalization())\n",
        "        model.add(MaxPooling3D(pool_size=(2, 2, 2)))\n",
        "\n",
        "        model.add(Conv3D(64, (2, 2, 2), padding='same'))\n",
        "        model.add(Activation('relu'))\n",
        "        model.add(BatchNormalization())\n",
        "        model.add(MaxPooling3D(pool_size=(2, 2, 2)))\n",
        "\n",
        "        model.add(Conv3D(128, (2, 2, 2), padding='same'))\n",
        "        model.add(Activation('relu'))\n",
        "        model.add(BatchNormalization())\n",
        "        model.add(MaxPooling3D(pool_size=(2, 2, 2)))\n",
        "\n",
        "        model.add(Flatten())\n",
        "        model.add(Dense(128,activation='relu'))\n",
        "        model.add(BatchNormalization())\n",
        "        model.add(Dropout(0.5))\n",
        "\n",
        "        model.add(Dense(64,activation='relu'))\n",
        "        model.add(BatchNormalization())\n",
        "        model.add(Dropout(0.25))\n",
        "\n",
        "\n",
        "        model.add(Dense(self.num_classes,activation='softmax'))\n",
        "        \n",
        "        optimiser = keras.optimizers.Adam()\n",
        "        #optimiser = 'sgd'\n",
        "        model.compile(optimizer=optimiser, loss='categorical_crossentropy', metrics=['categorical_accuracy'])\n",
        "        return model"
      ]
    },
    {
      "cell_type": "code",
      "execution_count": 13,
      "metadata": {
        "colab": {
          "base_uri": "https://localhost:8080/"
        },
        "id": "kZl9CA_aZdXq",
        "outputId": "f1cebc42-9745-4b7e-b4d8-6659b460f187"
      },
      "outputs": [
        {
          "output_type": "stream",
          "name": "stdout",
          "text": [
            "Model: \"sequential\"\n",
            "_________________________________________________________________\n",
            " Layer (type)                Output Shape              Param #   \n",
            "=================================================================\n",
            " conv3d (Conv3D)             (None, 30, 160, 160, 16)  1312      \n",
            "                                                                 \n",
            " activation (Activation)     (None, 30, 160, 160, 16)  0         \n",
            "                                                                 \n",
            " batch_normalization (BatchN  (None, 30, 160, 160, 16)  64       \n",
            " ormalization)                                                   \n",
            "                                                                 \n",
            " max_pooling3d (MaxPooling3D  (None, 15, 80, 80, 16)   0         \n",
            " )                                                               \n",
            "                                                                 \n",
            " conv3d_1 (Conv3D)           (None, 15, 80, 80, 32)    4128      \n",
            "                                                                 \n",
            " activation_1 (Activation)   (None, 15, 80, 80, 32)    0         \n",
            "                                                                 \n",
            " batch_normalization_1 (Batc  (None, 15, 80, 80, 32)   128       \n",
            " hNormalization)                                                 \n",
            "                                                                 \n",
            " max_pooling3d_1 (MaxPooling  (None, 7, 40, 40, 32)    0         \n",
            " 3D)                                                             \n",
            "                                                                 \n",
            " conv3d_2 (Conv3D)           (None, 7, 40, 40, 64)     16448     \n",
            "                                                                 \n",
            " activation_2 (Activation)   (None, 7, 40, 40, 64)     0         \n",
            "                                                                 \n",
            " batch_normalization_2 (Batc  (None, 7, 40, 40, 64)    256       \n",
            " hNormalization)                                                 \n",
            "                                                                 \n",
            " max_pooling3d_2 (MaxPooling  (None, 3, 20, 20, 64)    0         \n",
            " 3D)                                                             \n",
            "                                                                 \n",
            " conv3d_3 (Conv3D)           (None, 3, 20, 20, 128)    65664     \n",
            "                                                                 \n",
            " activation_3 (Activation)   (None, 3, 20, 20, 128)    0         \n",
            "                                                                 \n",
            " batch_normalization_3 (Batc  (None, 3, 20, 20, 128)   512       \n",
            " hNormalization)                                                 \n",
            "                                                                 \n",
            " max_pooling3d_3 (MaxPooling  (None, 1, 10, 10, 128)   0         \n",
            " 3D)                                                             \n",
            "                                                                 \n",
            " flatten (Flatten)           (None, 12800)             0         \n",
            "                                                                 \n",
            " dense (Dense)               (None, 128)               1638528   \n",
            "                                                                 \n",
            " batch_normalization_4 (Batc  (None, 128)              512       \n",
            " hNormalization)                                                 \n",
            "                                                                 \n",
            " dropout (Dropout)           (None, 128)               0         \n",
            "                                                                 \n",
            " dense_1 (Dense)             (None, 64)                8256      \n",
            "                                                                 \n",
            " batch_normalization_5 (Batc  (None, 64)               256       \n",
            " hNormalization)                                                 \n",
            "                                                                 \n",
            " dropout_1 (Dropout)         (None, 64)                0         \n",
            "                                                                 \n",
            " dense_2 (Dense)             (None, 5)                 325       \n",
            "                                                                 \n",
            "=================================================================\n",
            "Total params: 1,736,389\n",
            "Trainable params: 1,735,525\n",
            "Non-trainable params: 864\n",
            "_________________________________________________________________\n"
          ]
        }
      ],
      "source": [
        "conv_3d1=ModelConv3D1()\n",
        "conv_3d1.initialize_path(project_folder)\n",
        "conv_3d1.initialize_image_properties(image_height=160,image_width=160)\n",
        "conv_3d1.initialize_hyperparams(frames_to_sample=30,batch_size=40,num_epochs=1)\n",
        "conv_3d1_model=conv_3d1.define_model()\n",
        "conv_3d1_model.summary()"
      ]
    },
    {
      "cell_type": "code",
      "execution_count": 13,
      "metadata": {
        "id": "oEpI8nAgsY6T"
      },
      "outputs": [],
      "source": [
        ""
      ]
    },
    {
      "cell_type": "markdown",
      "metadata": {
        "id": "TXe-SG9t-If0"
      },
      "source": [
        "Sample cropping"
      ]
    },
    {
      "cell_type": "code",
      "execution_count": 14,
      "metadata": {
        "colab": {
          "base_uri": "https://localhost:8080/",
          "height": 221
        },
        "id": "HJULVlVTF8gI",
        "outputId": "82e7807f-bb94-4a21-b552-5aee479ddd32"
      },
      "outputs": [
        {
          "output_type": "execute_result",
          "data": {
            "text/plain": [
              "<matplotlib.image.AxesImage at 0x7f5f82d9ff50>"
            ]
          },
          "metadata": {},
          "execution_count": 14
        },
        {
          "output_type": "display_data",
          "data": {
            "text/plain": [
              "<Figure size 432x288 with 2 Axes>"
            ],
            "image/png": "[encoded data removed]"
          },
          "metadata": {
            "needs_background": "light"
          }
        }
      ],
      "source": [
        "test_generator=ModelConv3D1()\n",
        "test_generator.initialize_path(project_folder)\n",
        "test_generator.initialize_image_properties(image_height=160,image_width=160)\n",
        "test_generator.initialize_hyperparams(frames_to_sample=30,batch_size=3,num_epochs=1)\n",
        "\n",
        "g=test_generator.generator(test_generator.val_path,test_generator.val_doc,augment=True)\n",
        "batch_data, batch_labels=next(g)\n",
        "fig, axes = plt.subplots(nrows=1, ncols=2)\n",
        "axes[0].imshow(batch_data[0,15,:,:,:])   \n",
        "axes[1].imshow(batch_data[3,15,:,:,:])   "
      ]
    },
    {
      "cell_type": "markdown",
      "metadata": {
        "id": "Vf_duHjntwxR"
      },
      "source": [
        "**Experimenting with image resolution, number of frames to use and batch_size**"
      ]
    },
    {
      "cell_type": "markdown",
      "metadata": {
        "id": "WBvtCcgquOYp"
      },
      "source": [
        " We had hit the limit on memory resources with image resolution of 160x160 with 30 frames and batch_size of 40...we get the below error"
      ]
    },
    {
      "cell_type": "code",
      "execution_count": 15,
      "metadata": {
        "colab": {
          "base_uri": "https://localhost:8080/"
        },
        "id": "xfqulO0HuIw2",
        "outputId": "9fcd4abd-ad00-423b-d0e2-dab018e2ba26"
      },
      "outputs": [
        {
          "output_type": "stream",
          "name": "stdout",
          "text": [
            "Memory util is 3.6621095314621925 Gigs\n"
          ]
        }
      ],
      "source": [
        "print(\"Memory util is {} Gigs\". format(getsizeof(np.zeros((40,16,30,160,160)))/(1024*1024*1024)))"
      ]
    },
    {
      "cell_type": "markdown",
      "metadata": {
        "id": "kqDreZLWvV4S"
      },
      "source": [
        "**So lets trade-off between these parameters**"
      ]
    },
    {
      "cell_type": "markdown",
      "metadata": {
        "id": "2epiceZsvbN5"
      },
      "source": [
        "**Below are the experiments to see how training time is affected by image resolution, number of images in sequence and batch size**"
      ]
    },
    {
      "cell_type": "code",
      "execution_count": 16,
      "metadata": {
        "colab": {
          "base_uri": "https://localhost:8080/"
        },
        "id": "3kRB91ywvm3K",
        "outputId": "f4171abb-a878-4230-ef55-a18f08eec766"
      },
      "outputs": [
        {
          "output_type": "stream",
          "name": "stdout",
          "text": [
            "Total Params: 1736389\n",
            "WARNING:tensorflow:`period` argument is deprecated. Please use `save_freq` to specify the frequency in number of batches seen.\n",
            "Epoch 1/3\n",
            "23/23 [==============================] - ETA: 0s - loss: 1.5462 - categorical_accuracy: 0.4118  \n",
            "Epoch 1: saving model to model_init_2022-03-3016_02_24.663028/model-00001-1.54619-0.41176-4.07441-0.16000.h5\n",
            "23/23 [==============================] - 3990s 179s/step - loss: 1.5462 - categorical_accuracy: 0.4118 - val_loss: 4.0744 - val_categorical_accuracy: 0.1600 - lr: 0.0010\n",
            "Epoch 2/3\n",
            "23/23 [==============================] - ETA: 0s - loss: 1.0526 - categorical_accuracy: 0.6048 \n",
            "Epoch 2: saving model to model_init_2022-03-3016_02_24.663028/model-00002-1.05262-0.60483-7.55191-0.17000.h5\n",
            "23/23 [==============================] - 1016s 44s/step - loss: 1.0526 - categorical_accuracy: 0.6048 - val_loss: 7.5519 - val_categorical_accuracy: 0.1700 - lr: 0.0010\n",
            "Epoch 3/3\n",
            "23/23 [==============================] - ETA: 0s - loss: 0.9712 - categorical_accuracy: 0.6410 \n",
            "Epoch 3: saving model to model_init_2022-03-3016_02_24.663028/model-00003-0.97124-0.64103-9.24036-0.20000.h5\n",
            "23/23 [==============================] - 1019s 44s/step - loss: 0.9712 - categorical_accuracy: 0.6410 - val_loss: 9.2404 - val_categorical_accuracy: 0.2000 - lr: 0.0010\n"
          ]
        },
        {
          "output_type": "execute_result",
          "data": {
            "text/plain": [
              "<keras.callbacks.History at 0x7f5f8106fb50>"
            ]
          },
          "metadata": {},
          "execution_count": 16
        }
      ],
      "source": [
        "conv_3d1=ModelConv3D1()\n",
        "conv_3d1.initialize_path(project_folder)\n",
        "conv_3d1.initialize_image_properties(image_height=160,image_width=160)\n",
        "conv_3d1.initialize_hyperparams(frames_to_sample=16,batch_size=30,num_epochs=3)\n",
        "conv_3d1_model=conv_3d1.define_model()\n",
        "print(\"Total Params:\", conv_3d1_model.count_params())\n",
        "conv_3d1.train_model(conv_3d1_model)\n"
      ]
    },
    {
      "cell_type": "code",
      "execution_count": null,
      "metadata": {
        "colab": {
          "base_uri": "https://localhost:8080/"
        },
        "id": "u0Rek9aYz0wj",
        "outputId": "47cc6758-1bfd-4c9f-d5fa-1b9f81093b30"
      },
      "outputs": [
        {
          "output_type": "stream",
          "name": "stdout",
          "text": [
            "Total Params: 687813\n",
            "WARNING:tensorflow:`period` argument is deprecated. Please use `save_freq` to specify the frequency in number of batches seen.\n",
            "Epoch 1/2\n",
            " 1/23 [>.............................] - ETA: 12:41 - loss: 2.1055 - categorical_accuracy: 0.3000"
          ]
        }
      ],
      "source": [
        "conv_3d1=ModelConv3D1()\n",
        "conv_3d1.initialize_path(project_folder)\n",
        "conv_3d1.initialize_image_properties(image_height=100,image_width=100)\n",
        "conv_3d1.initialize_hyperparams(frames_to_sample=30,batch_size=30,num_epochs=2)\n",
        "conv_3d1_model=conv_3d1.define_model()\n",
        "print(\"Total Params:\", conv_3d1_model.count_params())\n",
        "conv_3d1.train_model(conv_3d1_model)"
      ]
    },
    {
      "cell_type": "markdown",
      "source": [
        "# New Section"
      ],
      "metadata": {
        "id": "1hjI78kq5efs"
      }
    },
    {
      "cell_type": "code",
      "execution_count": null,
      "metadata": {
        "id": "YWCLFJBLiBMi"
      },
      "outputs": [],
      "source": [
        "conv_3d1=ModelConv3D1()\n",
        "conv_3d1.initialize_path(project_folder)\n",
        "conv_3d1.initialize_image_properties(image_height=100,image_width=100)\n",
        "conv_3d1.initialize_hyperparams(frames_to_sample=30,batch_size=60,num_epochs=2)\n",
        "conv_3d1_model=conv_3d1.define_model()\n",
        "print(\"Total Params:\", conv_3d1_model.count_params())\n",
        "conv_3d1.train_model(conv_3d1_model)"
      ]
    },
    {
      "cell_type": "code",
      "execution_count": null,
      "metadata": {
        "id": "Rx-bWZyJibmv"
      },
      "outputs": [],
      "source": [
        "conv_3d1=ModelConv3D1()\n",
        "conv_3d1.initialize_path(project_folder)\n",
        "conv_3d1.initialize_image_properties(image_height=100,image_width=100)\n",
        "conv_3d1.initialize_hyperparams(frames_to_sample=16,batch_size=60,num_epochs=2)\n",
        "conv_3d1_model=conv_3d1.define_model()\n",
        "print(\"Total Params:\", conv_3d1_model.count_params())\n",
        "conv_3d1.train_model(conv_3d1_model)"
      ]
    },
    {
      "cell_type": "code",
      "execution_count": null,
      "metadata": {
        "id": "ESkelalKj41B"
      },
      "outputs": [],
      "source": [
        "conv_3d1=ModelConv3D1()\n",
        "conv_3d1.initialize_path(project_folder)\n",
        "conv_3d1.initialize_image_properties(image_height=100,image_width=100)\n",
        "conv_3d1.initialize_hyperparams(frames_to_sample=16,batch_size=80,num_epochs=2)\n",
        "conv_3d1_model=conv_3d1.define_model()\n",
        "print(\"Total Params:\", conv_3d1_model.count_params())\n",
        "conv_3d1.train_model(conv_3d1_model)"
      ]
    },
    {
      "cell_type": "code",
      "execution_count": null,
      "metadata": {
        "id": "8XWS08BuiuEG"
      },
      "outputs": [],
      "source": [
        "conv_3d1=ModelConv3D1()\n",
        "conv_3d1.initialize_path(project_folder)\n",
        "conv_3d1.initialize_image_properties(image_height=160,image_width=160)\n",
        "conv_3d1.initialize_hyperparams(frames_to_sample=30,batch_size=15,num_epochs=2)\n",
        "conv_3d1_model=conv_3d1.define_model()\n",
        "print(\"Total Params:\", conv_3d1_model.count_params())\n",
        "conv_3d1.train_model(conv_3d1_model)"
      ]
    },
    {
      "cell_type": "code",
      "execution_count": null,
      "metadata": {
        "id": "wbxbiFqei8YO"
      },
      "outputs": [],
      "source": [
        "conv_3d1=ModelConv3D1()\n",
        "conv_3d1.initialize_path(project_folder)\n",
        "conv_3d1.initialize_image_properties(image_height=160,image_width=160)\n",
        "conv_3d1.initialize_hyperparams(frames_to_sample=16,batch_size=15,num_epochs=2)\n",
        "conv_3d1_model=conv_3d1.define_model()\n",
        "print(\"Total Params:\", conv_3d1_model.count_params())\n",
        "conv_3d1.train_model(conv_3d1_model)"
      ]
    },
    {
      "cell_type": "code",
      "execution_count": null,
      "metadata": {
        "id": "GYoc_t8zkJua"
      },
      "outputs": [],
      "source": [
        "conv_3d1=ModelConv3D1()\n",
        "conv_3d1.initialize_path(project_folder)\n",
        "conv_3d1.initialize_image_properties(image_height=100,image_width=100)\n",
        "conv_3d1.initialize_hyperparams(frames_to_sample=16,batch_size=15,num_epochs=2)\n",
        "conv_3d1_model=conv_3d1.define_model()\n",
        "print(\"Total Params:\", conv_3d1_model.count_params())\n",
        "conv_3d1.train_model(conv_3d1_model)"
      ]
    },
    {
      "cell_type": "code",
      "execution_count": null,
      "metadata": {
        "id": "017SDw2ikVT4"
      },
      "outputs": [],
      "source": [
        "conv_3d1=ModelConv3D1()\n",
        "conv_3d1.initialize_path(project_folder)\n",
        "conv_3d1.initialize_image_properties(image_height=100,image_width=100)\n",
        "conv_3d1.initialize_hyperparams(frames_to_sample=16,batch_size=10,num_epochs=2)\n",
        "conv_3d1_model=conv_3d1.define_model()\n",
        "print(\"Total Params:\", conv_3d1_model.count_params())\n",
        "conv_3d1.train_model(conv_3d1_model)"
      ]
    },
    {
      "cell_type": "code",
      "execution_count": null,
      "metadata": {
        "id": "uPo5htWdkcSC"
      },
      "outputs": [],
      "source": [
        "conv_3d1=ModelConv3D1()\n",
        "conv_3d1.initialize_path(project_folder)\n",
        "conv_3d1.initialize_image_properties(image_height=100,image_width=100)\n",
        "conv_3d1.initialize_hyperparams(frames_to_sample=30,batch_size=10,num_epochs=2)\n",
        "conv_3d1_model=conv_3d1.define_model()\n",
        "print(\"Total Params:\", conv_3d1_model.count_params())\n",
        "conv_3d1.train_model(conv_3d1_model)"
      ]
    },
    {
      "cell_type": "code",
      "execution_count": null,
      "metadata": {
        "id": "idCUhfGLkinN"
      },
      "outputs": [],
      "source": [
        "conv_3d1=ModelConv3D1()\n",
        "conv_3d1.initialize_path(project_folder)\n",
        "conv_3d1.initialize_image_properties(image_height=160,image_width=160)\n",
        "conv_3d1.initialize_hyperparams(frames_to_sample=30,batch_size=10,num_epochs=2)\n",
        "conv_3d1_model=conv_3d1.define_model()\n",
        "print(\"Total Params:\", conv_3d1_model.count_params())\n",
        "conv_3d1.train_model(conv_3d1_model)"
      ]
    },
    {
      "cell_type": "code",
      "execution_count": null,
      "metadata": {
        "id": "_7ezcJv4knzv"
      },
      "outputs": [],
      "source": [
        "conv_3d1=ModelConv3D1()\n",
        "conv_3d1.initialize_path(project_folder)\n",
        "conv_3d1.initialize_image_properties(image_height=160,image_width=160)\n",
        "conv_3d1.initialize_hyperparams(frames_to_sample=16,batch_size=10,num_epochs=2)\n",
        "conv_3d1_model=conv_3d1.define_model()\n",
        "print(\"Total Params:\", conv_3d1_model.count_params())\n",
        "conv_3d1.train_model(conv_3d1_model)"
      ]
    },
    {
      "cell_type": "code",
      "execution_count": null,
      "metadata": {
        "id": "TUh63GHPksQb"
      },
      "outputs": [],
      "source": [
        "conv_3d1=ModelConv3D1()\n",
        "conv_3d1.initialize_path(project_folder)\n",
        "conv_3d1.initialize_image_properties(image_height=160,image_width=160)\n",
        "conv_3d1.initialize_hyperparams(frames_to_sample=16,batch_size=40,num_epochs=2)\n",
        "conv_3d1_model=conv_3d1.define_model()\n",
        "print(\"Total Params:\", conv_3d1_model.count_params())\n",
        "conv_3d1.train_model(conv_3d1_model)"
      ]
    },
    {
      "cell_type": "markdown",
      "metadata": {
        "id": "A5NV8CP9k7O1"
      },
      "source": [
        "**As we see from the above experiments image resolution and number of frames in sequence have more impact on training time than batch_size**"
      ]
    },
    {
      "cell_type": "markdown",
      "metadata": {
        "id": "3AWTWVdIlOqx"
      },
      "source": [
        "***So experimentations are carried with batch size fixed around 15-40 and changing the resolution and number of image per sequence based on the device memory constraints . Models are designed such that their memory foot print is less than 50 MB which corresponds to 4.3 million parameters assuming the datatype size of parameters to be 12 bytes***"
      ]
    },
    {
      "cell_type": "markdown",
      "metadata": {
        "id": "W8jXh2GKlqiD"
      },
      "source": [
        "# **Model 1 - Base Model - No Data Augmentation Batch Size 40 and Epoch 15**"
      ]
    },
    {
      "cell_type": "code",
      "execution_count": null,
      "metadata": {
        "id": "0jhOeGl7lA74"
      },
      "outputs": [],
      "source": [
        "class ModelConv3D1(ModelBuilder):\n",
        "\n",
        "    def define_model(self,filteersize=(3,3,3),dense_neurons=64,dropout=0.25):\n",
        "\n",
        "        model = Sequential()\n",
        "        model.add(Conv3D(16, filtersize, padding='same',\n",
        "                 input_shape=(self.frames_to_sample,self.image_height,self.image_width,self.channels)))\n",
        "        model.add(Activation('relu'))\n",
        "        model.add(BatchNormalization())\n",
        "        model.add(MaxPooling3D(pool_size=(2,2,2)))\n",
        "\n",
        "        model.add(Conv3D(32, filtersize, padding='same'))\n",
        "        model.add(Activation('relu'))\n",
        "        model.add(BatchNormalization())\n",
        "        model.add(MaxPooling3D(pool_size=(2,2,2)))\n",
        "\n",
        "        model.add(Conv3D(64, filtersize, padding='same'))\n",
        "        model.add(Activation('relu'))\n",
        "        model.add(BatchNormalization())\n",
        "        model.add(MaxPooling3D(pool_size=(2, 2, 2)))\n",
        "\n",
        "        model.add(Conv3D(128, filtersize, padding='same'))\n",
        "        model.add(Activation('relu'))\n",
        "        model.add(BatchNormalization())\n",
        "        model.add(MaxPooling3D(pool_size=(2, 2, 2)))\n",
        "\n",
        "        model.add(Flatten())\n",
        "        model.add(Dense(dense_neurons,activation='relu'))\n",
        "        model.add(BatchNormalization())\n",
        "        model.add(Dropout(dropout))\n",
        "\n",
        "        model.add(Dense(dense_neurons,activation='relu'))\n",
        "        model.add(BatchNormalization())\n",
        "        model.add(Dropout(dropout))\n",
        "\n",
        "        model.add(Dense(self.num_classes,activation='softmax'))\n",
        "\n",
        "        optimiser = optimizers.Adam()\n",
        "        model.compile(optimizer=optimiser, loss='categorical_crossentropy', metrics=['categorical_accuracy'])\n",
        "        return model"
      ]
    },
    {
      "cell_type": "code",
      "execution_count": null,
      "metadata": {
        "id": "Yl5QUh9WsSrl"
      },
      "outputs": [],
      "source": [
        "conv_3d1=ModelConv3D1()\n",
        "conv_3d1.initialize_path(project_folder)\n",
        "conv_3d1.initialize_image_properties(image_height=160,image_width=160)\n",
        "conv_3d1.initialize_hyperparams(frames_to_sample=20,batch_size=40,num_epochs=15)\n",
        "conv_3d1_model=conv_3d1.define_model()\n",
        "conv_3d1_model.summary()"
      ]
    },
    {
      "cell_type": "code",
      "execution_count": null,
      "metadata": {
        "id": "q6-JhOl5sqbg"
      },
      "outputs": [],
      "source": [
        "print(\"Total Params:\", conv_3d1_model.count_params())\n",
        "history_model1 = conv_3d1.train_model(conv_3d1_model)"
      ]
    },
    {
      "cell_type": "code",
      "execution_count": null,
      "metadata": {
        "id": "Iif3pI_mtQ1u"
      },
      "outputs": [],
      "source": [
        "plot(history_model1)"
      ]
    },
    {
      "cell_type": "markdown",
      "metadata": {
        "id": "UVpQ5hartnF9"
      },
      "source": [
        "***Model is clearly overfitting. So we need to do data augmentation***"
      ]
    },
    {
      "cell_type": "markdown",
      "metadata": {
        "id": "Nf3DDFWrt8mU"
      },
      "source": [
        "# **Model 2 - Augment Data,(3,3,3) filter & 160x160 image resolution**"
      ]
    },
    {
      "cell_type": "code",
      "execution_count": null,
      "metadata": {
        "id": "EQjSwGjgt4Aq"
      },
      "outputs": [],
      "source": [
        "conv_3d2=ModelConv3D1()\n",
        "conv_3d2.initialize_path(project_folder)\n",
        "conv_3d2.initialize_image_properties(image_height=160,image_width=160)\n",
        "conv_3d2.initialize_hyperparams(frames_to_sample=20,batch_size=20,num_epochs=25)\n",
        "conv_3d2_model=conv_3d2.define_model(dense_neurons=256,dropout=0.5)\n",
        "conv_3d2_model.summary()"
      ]
    },
    {
      "cell_type": "code",
      "execution_count": null,
      "metadata": {
        "id": "FJto4gDcvqGY"
      },
      "outputs": [],
      "source": [
        "print(\"Total Params:\", conv_3d2_model.count_params())\n",
        "history_model2=conv_3d2.train_model(conv_3d2_model,augment_data=True)"
      ]
    },
    {
      "cell_type": "code",
      "execution_count": null,
      "metadata": {
        "id": "I7huK3revklK"
      },
      "outputs": [],
      "source": [
        "plot(history_model2)"
      ]
    },
    {
      "cell_type": "markdown",
      "metadata": {
        "id": "iP49i4G7v4jP"
      },
      "source": [
        "*Model is not overfitting and we get a best validation accuracy of 85% and training accuracy of 91%. Next we will try to reduce the filter size and image resolution and see if get better results. Moreover since we see minor oscillations in loss, let's try lowering the learning rate to 0.0002*"
      ]
    },
    {
      "cell_type": "markdown",
      "metadata": {
        "id": "pKzgruBGwe8N"
      },
      "source": [
        "# **Model 3 - Reduce filter size to (2,2,2) and image res to 120 x 120**"
      ]
    },
    {
      "cell_type": "code",
      "execution_count": null,
      "metadata": {
        "id": "Q1YbtQf9wGaD"
      },
      "outputs": [],
      "source": [
        "class ModelConv3D3(ModelBuilder):\n",
        "    \n",
        "    def define_model(self,filtersize=(3,3,3),dense_neurons=64,dropout=0.25):\n",
        "\n",
        "        model = Sequential()\n",
        "        model.add(Conv3D(16, filtersize, padding='same',\n",
        "                 input_shape=(self.frames_to_sample,self.image_height,self.image_width,self.channels)))\n",
        "        model.add(Activation('relu'))\n",
        "        model.add(BatchNormalization())\n",
        "        model.add(MaxPooling3D(pool_size=(2, 2, 2)))\n",
        "\n",
        "        model.add(Conv3D(32, filtersize, padding='same'))\n",
        "        model.add(Activation('relu'))\n",
        "        model.add(BatchNormalization())\n",
        "        model.add(MaxPooling3D(pool_size=(2, 2, 2)))\n",
        "\n",
        "        model.add(Conv3D(64, filtersize, padding='same'))\n",
        "        model.add(Activation('relu'))\n",
        "        model.add(BatchNormalization())\n",
        "        model.add(MaxPooling3D(pool_size=(2, 2, 2)))\n",
        "\n",
        "        model.add(Conv3D(128, filtersize, padding='same'))\n",
        "        model.add(Activation('relu'))\n",
        "        model.add(BatchNormalization())\n",
        "        model.add(MaxPooling3D(pool_size=(2, 2, 2)))\n",
        "\n",
        "        model.add(Flatten())\n",
        "        model.add(Dense(dense_neurons,activation='relu'))\n",
        "        model.add(BatchNormalization())\n",
        "        model.add(Dropout(dropout))\n",
        "\n",
        "        model.add(Dense(dense_neurons,activation='relu'))\n",
        "        model.add(BatchNormalization())\n",
        "        model.add(Dropout(dropout))\n",
        "\n",
        "\n",
        "        model.add(Dense(self.num_classes,activation='softmax'))\n",
        "\n",
        "        optimiser = optimizers.Adam(lr=0.0002)\n",
        "        model.compile(optimizer=optimiser, loss='categorical_crossentropy', metrics=['categorical_accuracy'])\n",
        "        return model"
      ]
    },
    {
      "cell_type": "code",
      "execution_count": null,
      "metadata": {
        "id": "9E4ls0djw1oS"
      },
      "outputs": [],
      "source": [
        "conv_3d3=ModelConv3D3()\n",
        "conv_3d3.initialize_path(project_folder)\n",
        "conv_3d3.initialize_image_properties(image_height=120,image_width=120)\n",
        "conv_3d3.initialize_hyperparams(frames_to_sample=16,batch_size=30,num_epochs=30)\n",
        "conv_3d3_model=conv_3d3.define_model(filtersize=(2,2,2),dense_neurons=256,dropout=0.5)\n",
        "conv_3d3_model.summary()"
      ]
    },
    {
      "cell_type": "code",
      "execution_count": null,
      "metadata": {
        "id": "FYst95I8xOw2"
      },
      "outputs": [],
      "source": [
        "print(\"Total Params:\", conv_3d3_model.count_params())\n",
        "history_model3=conv_3d3.train_model(conv_3d3_model,augment_data=True)"
      ]
    },
    {
      "cell_type": "code",
      "execution_count": null,
      "metadata": {
        "id": "iLJYtuN5xbxQ"
      },
      "outputs": [],
      "source": [
        "plot(history_model3)"
      ]
    },
    {
      "cell_type": "markdown",
      "metadata": {
        "id": "nLP_JJW6xkOV"
      },
      "source": [
        "***Model has a best validation accuracy of 84% and training accuracy of 84% . Also we were able to reduce the parameter size by half the earlier model. Let's trying adding more layers***"
      ]
    },
    {
      "cell_type": "markdown",
      "metadata": {
        "id": "qS8ZJE7cyGpS"
      },
      "source": [
        "# **Model 4-Adding more layers**"
      ]
    },
    {
      "cell_type": "code",
      "execution_count": null,
      "metadata": {
        "id": "KMrTUprE0R7a"
      },
      "outputs": [],
      "source": [
        "class ModelConv3D4(ModelBuilder):\n",
        "    \n",
        "    def define_model(self,filtersize=(3,3,3),dense_neurons=64,dropout=0.25):\n",
        "\n",
        "        model = Sequential()\n",
        "        model.add(Conv3D(16, filtersize, padding='same',\n",
        "                 input_shape=(self.frames_to_sample,self.image_height,self.image_width,self.channels)))\n",
        "        model.add(Activation('relu'))\n",
        "        model.add(BatchNormalization())\n",
        "        \n",
        "        model.add(Conv3D(16, filtersize, padding='same',\n",
        "                 input_shape=(self.frames_to_sample,self.image_height,self.image_width,self.channels)))\n",
        "        model.add(Activation('relu'))\n",
        "        model.add(BatchNormalization())\n",
        "        \n",
        "        model.add(MaxPooling3D(pool_size=(2, 2, 2)))\n",
        "\n",
        "        model.add(Conv3D(32, filtersize, padding='same'))\n",
        "        model.add(Activation('relu'))\n",
        "        model.add(BatchNormalization())\n",
        "        \n",
        "        model.add(Conv3D(32, filtersize, padding='same'))\n",
        "        model.add(Activation('relu'))\n",
        "        model.add(BatchNormalization())\n",
        "        \n",
        "        model.add(MaxPooling3D(pool_size=(2, 2, 2)))\n",
        "\n",
        "        model.add(Conv3D(64, filtersize, padding='same'))\n",
        "        model.add(Activation('relu'))\n",
        "        model.add(BatchNormalization())\n",
        "        \n",
        "        model.add(Conv3D(64, filtersize, padding='same'))\n",
        "        model.add(Activation('relu'))\n",
        "        model.add(BatchNormalization())\n",
        "        \n",
        "        model.add(MaxPooling3D(pool_size=(2, 2, 2)))\n",
        "\n",
        "        model.add(Conv3D(128, filtersize, padding='same'))\n",
        "        model.add(Activation('relu'))\n",
        "        model.add(BatchNormalization())\n",
        "        \n",
        "        model.add(Conv3D(128, filtersize, padding='same'))\n",
        "        model.add(Activation('relu'))\n",
        "        model.add(BatchNormalization())\n",
        "        \n",
        "        model.add(MaxPooling3D(pool_size=(2, 2, 2)))\n",
        "        \n",
        "\n",
        "        model.add(Flatten())\n",
        "        model.add(Dense(dense_neurons,activation='relu'))\n",
        "        model.add(BatchNormalization())\n",
        "        model.add(Dropout(dropout))\n",
        "\n",
        "        model.add(Dense(dense_neurons,activation='relu'))\n",
        "        model.add(BatchNormalization())\n",
        "        model.add(Dropout(dropout))\n",
        "\n",
        "\n",
        "        model.add(Dense(self.num_classes,activation='softmax'))\n",
        "\n",
        "        optimiser = optimizers.Adam()\n",
        "        model.compile(optimizer=optimiser, loss='categorical_crossentropy', metrics=['categorical_accuracy'])\n",
        "        return model"
      ]
    },
    {
      "cell_type": "code",
      "execution_count": null,
      "metadata": {
        "id": "bxagaxfo0hot"
      },
      "outputs": [],
      "source": [
        "conv_3d4=ModelConv3D4()\n",
        "conv_3d4.initialize_path(project_folder)\n",
        "conv_3d4.initialize_image_properties(image_height=120,image_width=120)\n",
        "conv_3d4.initialize_hyperparams(frames_to_sample=16,batch_size=20,num_epochs=30)\n",
        "conv_3d4_model=conv_3d4.define_model(filtersize=(3,3,3),dense_neurons=256,dropout=0.5)\n",
        "conv_3d4_model.summary()"
      ]
    },
    {
      "cell_type": "code",
      "execution_count": null,
      "metadata": {
        "id": "B6wq0O2z0ol7"
      },
      "outputs": [],
      "source": [
        "print(\"Total Params:\", conv_3d4_model.count_params())\n",
        "history_model4=conv_3d4.train_model(conv_3d4_model,augment_data=True)"
      ]
    },
    {
      "cell_type": "code",
      "execution_count": null,
      "metadata": {
        "id": "PKqBEdAO0wGL"
      },
      "outputs": [],
      "source": [
        "plot(history_model4)"
      ]
    },
    {
      "cell_type": "markdown",
      "metadata": {
        "id": "WSmvCzDN0zMq"
      },
      "source": [
        "***With more layers we dont see much performance improvement. We get a best validation accuracy of 76% . Let's try adding dropouts at the convolution***"
      ]
    },
    {
      "cell_type": "markdown",
      "metadata": {
        "id": "3gQYtNdK0-gZ"
      },
      "source": [
        "# **Model 5: Adding dropout at convolution layers**"
      ]
    },
    {
      "cell_type": "code",
      "execution_count": null,
      "metadata": {
        "id": "Z11u_UIF07m9"
      },
      "outputs": [],
      "source": [
        "class ModelConv3D5(ModelBuilder):\n",
        "    \n",
        "    def define_model(self,filtersize=(3,3,3),dense_neurons=64,dropout=0.25):\n",
        "\n",
        "        model = Sequential()\n",
        "        model.add(Conv3D(16, filtersize, padding='same',\n",
        "                 input_shape=(self.frames_to_sample,self.image_height,self.image_width,self.channels)))\n",
        "        model.add(Activation('relu'))\n",
        "        model.add(BatchNormalization())\n",
        "        \n",
        "        model.add(Conv3D(16, filtersize, padding='same',\n",
        "                 input_shape=(self.frames_to_sample,self.image_height,self.image_width,self.channels)))\n",
        "        model.add(Activation('relu'))\n",
        "        model.add(BatchNormalization())\n",
        "        \n",
        "        model.add(MaxPooling3D(pool_size=(2, 2, 2)))\n",
        "        model.add(Dropout(dropout))\n",
        "\n",
        "        model.add(Conv3D(32, filtersize, padding='same'))\n",
        "        model.add(Activation('relu'))\n",
        "        model.add(BatchNormalization())\n",
        "        \n",
        "        model.add(Conv3D(32, filtersize, padding='same'))\n",
        "        model.add(Activation('relu'))\n",
        "        model.add(BatchNormalization())\n",
        "        \n",
        "        model.add(MaxPooling3D(pool_size=(2, 2, 2)))\n",
        "        model.add(Dropout(dropout))\n",
        "\n",
        "        model.add(Conv3D(64, filtersize, padding='same'))\n",
        "        model.add(Activation('relu'))\n",
        "        model.add(BatchNormalization())\n",
        "        \n",
        "        model.add(Conv3D(64, filtersize, padding='same'))\n",
        "        model.add(Activation('relu'))\n",
        "        model.add(BatchNormalization())\n",
        "        \n",
        "        model.add(MaxPooling3D(pool_size=(2, 2, 2)))\n",
        "        model.add(Dropout(dropout))\n",
        "\n",
        "        model.add(Conv3D(128, filtersize, padding='same'))\n",
        "        model.add(Activation('relu'))\n",
        "        model.add(BatchNormalization())\n",
        "        \n",
        "        model.add(Conv3D(128, filtersize, padding='same'))\n",
        "        model.add(Activation('relu'))\n",
        "        model.add(BatchNormalization())\n",
        "        \n",
        "        model.add(MaxPooling3D(pool_size=(2, 2, 2)))\n",
        "        model.add(Dropout(dropout))\n",
        "        \n",
        "        model.add(Flatten())\n",
        "        model.add(Dense(dense_neurons,activation='relu'))\n",
        "        model.add(BatchNormalization())\n",
        "        model.add(Dropout(dropout))\n",
        "\n",
        "        model.add(Dense(dense_neurons,activation='relu'))\n",
        "        model.add(BatchNormalization())\n",
        "        model.add(Dropout(dropout))\n",
        "\n",
        "\n",
        "        model.add(Dense(self.num_classes,activation='softmax'))\n",
        "\n",
        "        optimiser = optimizers.Adam()\n",
        "        model.compile(optimizer=optimiser, loss='categorical_crossentropy', metrics=['categorical_accuracy'])\n",
        "        return model"
      ]
    },
    {
      "cell_type": "code",
      "execution_count": null,
      "metadata": {
        "id": "0fHVWn7I1Xem"
      },
      "outputs": [],
      "source": [
        "conv_3d5=ModelConv3D5()\n",
        "conv_3d5.initialize_path(project_folder)\n",
        "conv_3d5.initialize_image_properties(image_height=120,image_width=120)\n",
        "conv_3d5.initialize_hyperparams(frames_to_sample=16,batch_size=20,num_epochs=22)\n",
        "conv_3d5_model=conv_3d5.define_model(filtersize=(3,3,3),dense_neurons=256,dropout=0.25)\n",
        "conv_3d5_model.summary()"
      ]
    },
    {
      "cell_type": "code",
      "execution_count": null,
      "metadata": {
        "id": "p0TSJh3y1ddn"
      },
      "outputs": [],
      "source": [
        "print(\"Total Params:\", conv_3d5_model.count_params())\n",
        "history_model5=conv_3d5.train_model(conv_3d5_model,augment_data=True)"
      ]
    },
    {
      "cell_type": "code",
      "execution_count": null,
      "metadata": {
        "id": "IR0BEBRa1hgn"
      },
      "outputs": [],
      "source": [
        "plot(history_model5)"
      ]
    },
    {
      "cell_type": "markdown",
      "metadata": {
        "id": "KhIbMExw1pY2"
      },
      "source": [
        "***Adding dropouts has further reduced validation accuracy as its not to learn generalizable features***"
      ]
    },
    {
      "cell_type": "markdown",
      "metadata": {
        "id": "gOA2kyhI14sd"
      },
      "source": [
        "***All models experimental models above have more than 1 millon parameters. Let's try to reduce the model size and see the performance***"
      ]
    },
    {
      "cell_type": "markdown",
      "metadata": {
        "id": "alVsh4KN2cvZ"
      },
      "source": [
        "# **Model 6 - Reducing the number of parameters**"
      ]
    },
    {
      "cell_type": "code",
      "execution_count": null,
      "metadata": {
        "id": "N6Iuf-nj1nu4"
      },
      "outputs": [],
      "source": [
        "class ModelConv3D6(ModelBuilder):\n",
        "    \n",
        "    def define_model(self,dense_neurons=64,dropout=0.25):\n",
        "\n",
        "        model = Sequential()\n",
        "        model.add(Conv3D(16, (3, 3, 3), padding='same',\n",
        "                 input_shape=(self.frames_to_sample,self.image_height,self.image_width,self.channels)))\n",
        "        model.add(Activation('relu'))\n",
        "        model.add(BatchNormalization())\n",
        "        model.add(MaxPooling3D(pool_size=(2, 2, 2)))\n",
        "\n",
        "        model.add(Conv3D(32, (2, 2, 2), padding='same'))\n",
        "        model.add(Activation('relu'))\n",
        "        model.add(BatchNormalization())\n",
        "        model.add(MaxPooling3D(pool_size=(2, 2, 2)))\n",
        "\n",
        "        model.add(Conv3D(64, (2, 2, 2), padding='same'))\n",
        "        model.add(Activation('relu'))\n",
        "        model.add(BatchNormalization())\n",
        "        model.add(MaxPooling3D(pool_size=(2, 2, 2)))\n",
        "\n",
        "        model.add(Conv3D(128, (2, 2, 2), padding='same'))\n",
        "        model.add(Activation('relu'))\n",
        "        model.add(BatchNormalization())\n",
        "        model.add(MaxPooling3D(pool_size=(2, 2, 2)))\n",
        "        \n",
        "        model.add(Flatten())\n",
        "        model.add(Dense(dense_neurons,activation='relu'))\n",
        "        model.add(BatchNormalization())\n",
        "        model.add(Dropout(dropout))\n",
        "\n",
        "        model.add(Dense(dense_neurons,activation='relu'))\n",
        "        model.add(BatchNormalization())\n",
        "        model.add(Dropout(dropout))\n",
        "\n",
        "        model.add(Dense(self.num_classes,activation='softmax'))\n",
        "\n",
        "        optimiser = optimizers.Adam(lr=0.0002)\n",
        "        model.compile(optimizer=optimiser, loss='categorical_crossentropy', metrics=['categorical_accuracy'])"
      ]
    },
    {
      "cell_type": "code",
      "execution_count": null,
      "metadata": {
        "id": "mTylyONb3aBu"
      },
      "outputs": [],
      "source": [
        "conv_3d6=ModelConv3D6()\n",
        "conv_3d6.initialize_path(project_folder)\n",
        "conv_3d6.initialize_image_properties(image_height=100,image_width=100)\n",
        "conv_3d6.initialize_hyperparams(frames_to_sample=16,batch_size=20,num_epochs=30)\n",
        "conv_3d6_model=conv_3d6.define_model(dense_neurons=128,dropout=0.25)\n",
        "conv_3d6_model.summary()"
      ]
    },
    {
      "cell_type": "code",
      "execution_count": null,
      "metadata": {
        "id": "HgVPHbsW3hu1"
      },
      "outputs": [],
      "source": [
        "print(\"Total Params:\", conv_3d6_model.count_params())\n",
        "history_model6=conv_3d6.train_model(conv_3d6_model,augment_data=True)"
      ]
    },
    {
      "cell_type": "code",
      "execution_count": null,
      "metadata": {
        "id": "n8fz_xCt3m_A"
      },
      "outputs": [],
      "source": [
        "plot(history_model6)"
      ]
    },
    {
      "cell_type": "markdown",
      "metadata": {
        "id": "DCcOGWaI4BBm"
      },
      "source": [
        "# **Model 7 - Reducing the number of parameters**"
      ]
    },
    {
      "cell_type": "code",
      "execution_count": null,
      "metadata": {
        "id": "hdEmD7RH4Ox5"
      },
      "outputs": [],
      "source": [
        "class ModelConv3D7(ModelBuilder):\n",
        "    \n",
        "    def define_model(self,dense_neurons=64,dropout=0.25):\n",
        "\n",
        "        model = Sequential()\n",
        "        model.add(Conv3D(16, (3, 3, 3), padding='same',\n",
        "                 input_shape=(self.frames_to_sample,self.image_height,self.image_width,self.channels)))\n",
        "        model.add(Activation('relu'))\n",
        "        model.add(BatchNormalization())\n",
        "        model.add(MaxPooling3D(pool_size=(2, 2, 2)))\n",
        "\n",
        "        model.add(Conv3D(32, (3, 3, 3), padding='same'))\n",
        "        model.add(Activation('relu'))\n",
        "        model.add(BatchNormalization())\n",
        "        model.add(MaxPooling3D(pool_size=(2, 2, 2)))\n",
        "\n",
        "        model.add(Conv3D(64, (2, 2, 2), padding='same'))\n",
        "        model.add(Activation('relu'))\n",
        "        model.add(BatchNormalization())\n",
        "        model.add(MaxPooling3D(pool_size=(2, 2, 2)))\n",
        "\n",
        "        model.add(Conv3D(128, (2, 2, 2), padding='same'))\n",
        "        model.add(Activation('relu'))\n",
        "        model.add(BatchNormalization())\n",
        "        model.add(MaxPooling3D(pool_size=(2, 2, 2)))\n",
        "        \n",
        "        model.add(Flatten())\n",
        "        model.add(Dense(dense_neurons,activation='relu'))\n",
        "        model.add(BatchNormalization())\n",
        "        model.add(Dropout(dropout))\n",
        "\n",
        "        model.add(Dense(dense_neurons,activation='relu'))\n",
        "        model.add(BatchNormalization())\n",
        "        model.add(Dropout(dropout))\n",
        "\n",
        "        model.add(Dense(self.num_classes,activation='softmax'))\n",
        "\n",
        "        optimiser = optimizers.Adam(lr=0.0002)\n",
        "        model.compile(optimizer=optimiser, loss='categorical_crossentropy', metrics=['categorical_accuracy'])\n",
        "        return model"
      ]
    },
    {
      "cell_type": "code",
      "execution_count": null,
      "metadata": {
        "id": "J_FULFFw4dMh"
      },
      "outputs": [],
      "source": [
        "conv_3d7=ModelConv3D7()\n",
        "conv_3d7.initialize_path(project_folder)\n",
        "conv_3d7.initialize_image_properties(image_height=120,image_width=120)\n",
        "conv_3d7.initialize_hyperparams(frames_to_sample=16,batch_size=20,num_epochs=25)\n",
        "conv_3d7_model=conv_3d7.define_model(dense_neurons=64,dropout=0.25)\n",
        "conv_3d7_model.summary()"
      ]
    },
    {
      "cell_type": "code",
      "execution_count": null,
      "metadata": {
        "id": "sQPGZ8rd4iej"
      },
      "outputs": [],
      "source": [
        "print(\"Total Params:\", conv_3d7_model.count_params())\n",
        "history_model7=conv_3d7.train_model(conv_3d7_model,augment_data=True)"
      ]
    },
    {
      "cell_type": "code",
      "execution_count": null,
      "metadata": {
        "id": "-Z3NFR3T5gZ_"
      },
      "outputs": [],
      "source": [
        "plot(history_model7)"
      ]
    },
    {
      "cell_type": "markdown",
      "metadata": {
        "id": "30gh_6mP5nBA"
      },
      "source": [
        "***For the above low memory foot print model the best validation accuracy of 77%***"
      ]
    },
    {
      "cell_type": "markdown",
      "metadata": {
        "id": "XG7jB2NY521D"
      },
      "source": [
        "# **Model 8 - reducing the number of parameters**"
      ]
    },
    {
      "cell_type": "code",
      "execution_count": null,
      "metadata": {
        "id": "O9fUgSqW5wSl"
      },
      "outputs": [],
      "source": [
        "class ModelConv3D8(ModelBuilder):\n",
        "    \n",
        "    def define_model(self,dense_neurons=64,dropout=0.25):\n",
        "\n",
        "        model = Sequential()\n",
        "        model.add(Conv3D(8, (3, 3, 3), padding='same',\n",
        "                 input_shape=(self.frames_to_sample,self.image_height,self.image_width,self.channels)))\n",
        "        model.add(Activation('relu'))\n",
        "        model.add(BatchNormalization())\n",
        "        model.add(MaxPooling3D(pool_size=(2, 2, 2)))\n",
        "\n",
        "        model.add(Conv3D(16, (3, 3, 3), padding='same'))\n",
        "        model.add(Activation('relu'))\n",
        "        model.add(BatchNormalization())\n",
        "        model.add(MaxPooling3D(pool_size=(2, 2, 2)))\n",
        "\n",
        "        model.add(Conv3D(32, (2, 2, 2), padding='same'))\n",
        "        model.add(Activation('relu'))\n",
        "        model.add(BatchNormalization())\n",
        "        model.add(MaxPooling3D(pool_size=(2, 2, 2)))\n",
        "\n",
        "        model.add(Conv3D(64, (2, 2, 2), padding='same'))\n",
        "        model.add(Activation('relu'))\n",
        "        model.add(BatchNormalization())\n",
        "        model.add(MaxPooling3D(pool_size=(2, 2, 2)))\n",
        "        \n",
        "        model.add(Flatten())\n",
        "        model.add(Dense(dense_neurons,activation='relu'))\n",
        "        model.add(BatchNormalization())\n",
        "        model.add(Dropout(dropout))\n",
        "\n",
        "        model.add(Dense(dense_neurons,activation='relu'))\n",
        "        model.add(BatchNormalization())\n",
        "        model.add(Dropout(dropout))\n",
        "\n",
        "        model.add(Dense(self.num_classes,activation='softmax'))\n",
        "\n",
        "        optimiser = optimizers.Adam(lr=0.0002)\n",
        "        model.compile(optimizer=optimiser, loss='categorical_crossentropy', metrics=['categorical_accuracy'])\n",
        "        return model"
      ]
    },
    {
      "cell_type": "code",
      "execution_count": null,
      "metadata": {
        "id": "Pi9e7H3c6FDX"
      },
      "outputs": [],
      "source": [
        "conv_3d8=ModelConv3D8()\n",
        "conv_3d8.initialize_path(project_folder)\n",
        "conv_3d8.initialize_image_properties(image_height=120,image_width=120)\n",
        "conv_3d8.initialize_hyperparams(frames_to_sample=16,batch_size=20,num_epochs=30)\n",
        "conv_3d8_model=conv_3d8.define_model(dense_neurons=64,dropout=0.25)\n",
        "conv_3d8_model.summary()"
      ]
    },
    {
      "cell_type": "code",
      "execution_count": null,
      "metadata": {
        "id": "5DHUpAPg6J2s"
      },
      "outputs": [],
      "source": [
        "print(\"Total Params:\", conv_3d8_model.count_params())\n",
        "history_model8=conv_3d8.train_model(conv_3d8_model,augment_data=True)"
      ]
    },
    {
      "cell_type": "code",
      "execution_count": null,
      "metadata": {
        "id": "liQ2kJ3M6OWj"
      },
      "outputs": [],
      "source": [
        "plot(history_model8)"
      ]
    },
    {
      "cell_type": "markdown",
      "metadata": {
        "id": "OAZ7Wk-46a52"
      },
      "source": [
        "***For the above low memory foot print model the best validation accuracy of 78%***"
      ]
    },
    {
      "cell_type": "markdown",
      "metadata": {
        "id": "-UoBYXyU68oz"
      },
      "source": [
        "# **Model 9 - CNN - LSTM Model**"
      ]
    },
    {
      "cell_type": "code",
      "execution_count": null,
      "metadata": {
        "id": "wxH_4_Oh6mqL"
      },
      "outputs": [],
      "source": [
        "class RNNCNN1(ModelBuilder):\n",
        "  def define_model(self,lstm_cells=64, dense_neurons=64, dropout=0.25):\n",
        "      model = Sequential()\n",
        "      model.add(TimeDistributed(Conv2D(16, (3,3), padding='sample', activation='relu'),\n",
        "                                input_shape=(self.frames_to_sample,self.image_height,self.image_width,self.channels)))\n",
        "      model.add(TimeDistributed(BatchNormalization()))\n",
        "      model.add(TimeDistributed(MaxPooling2D((2,2))))\n",
        "\n",
        "      model.add(TimeDistributed(Conv2D(32, (3, 3) , padding='same', activation='relu')))\n",
        "      model.add(TimeDistributed(BatchNormalization()))\n",
        "      model.add(TimeDistributed(MaxPooling2D((2, 2))))\n",
        "        \n",
        "      model.add(TimeDistributed(Conv2D(64, (3, 3) , padding='same', activation='relu')))\n",
        "      model.add(TimeDistributed(BatchNormalization()))\n",
        "      model.add(TimeDistributed(MaxPooling2D((2, 2))))\n",
        "        \n",
        "      model.add(TimeDistributed(Conv2D(128, (3, 3) , padding='same', activation='relu')))\n",
        "      model.add(TimeDistributed(BatchNormalization()))\n",
        "      model.add(TimeDistributed(MaxPooling2D((2, 2))))\n",
        "        \n",
        "      model.add(TimeDistributed(Conv2D(256, (3, 3) , padding='same', activation='relu')))\n",
        "      model.add(TimeDistributed(BatchNormalization()))\n",
        "      model.add(TimeDistributed(MaxPooling2D((2, 2))))\n",
        "        \n",
        "        #model.add(TimeDistributed(Conv2D(512, (2, 2) , padding='valid', activation='relu')))\n",
        "       # model.add(TimeDistributed(BatchNormalization()))\n",
        "       # model.add(TimeDistributed(MaxPooling2D((2, 2))))\n",
        "\n",
        "      model.add(TimeDistributed(Flatten()))\n",
        "\n",
        "\n",
        "      model.add(LSTM(lstm_cells))\n",
        "      model.add(Dropout(dropout))\n",
        "        \n",
        "      model.add(Dense(dense_neurons,activation='relu'))\n",
        "      model.add(Dropout(dropout))\n",
        "        \n",
        "      model.add(Dense(self.num_classes, activation='softmax'))\n",
        "      optimiser = optimizers.Adam()\n",
        "      model.compile(optimizer=optimiser, loss='categorical_crossentropy', metrics=['categorical_accuracy'])\n",
        "      return model"
      ]
    },
    {
      "cell_type": "code",
      "source": [
        "rnn_cnn1=RNNCNN1()\n",
        "rnn_cnn1.initialize_path(project_folder)\n",
        "rnn_cnn1.initialize_image_properties(image_height=120,image_width=120)\n",
        "rnn_cnn1.initialize_hyperparams(frames_to_sample=18,batch_size=20,num_epochs=20)\n",
        "rnn_cnn1_model=rnn_cnn1.define_model(lstm_cells=128,dense_neurons=128,dropout=0.25)\n",
        "rnn_cnn1_model.summary()"
      ],
      "metadata": {
        "id": "OYv4zLAV2M_V"
      },
      "execution_count": null,
      "outputs": []
    },
    {
      "cell_type": "code",
      "source": [
        "print(\"Total params:\", rnn_cnn1_model.count_params())\n",
        "history_model9=rnn_cnn1.train_model(rnn_cnn1_model, augment_data=True)"
      ],
      "metadata": {
        "id": "k_v0LMaTYs0B"
      },
      "execution_count": null,
      "outputs": []
    },
    {
      "cell_type": "code",
      "source": [
        "plot(history_model19)"
      ],
      "metadata": {
        "id": "1CmZGzlDaVnr"
      },
      "execution_count": null,
      "outputs": []
    },
    {
      "cell_type": "markdown",
      "source": [
        "***For CNN - LSTM model we get a best validation accuracy of 75%***"
      ],
      "metadata": {
        "id": "7ql8xVa9aer6"
      }
    },
    {
      "cell_type": "markdown",
      "source": [
        "***As we see more cases of overfitting, lets augment the data with slight rotation as well and run the same set of models again***"
      ],
      "metadata": {
        "id": "MZKxd2MJaqt5"
      }
    },
    {
      "cell_type": "markdown",
      "source": [
        "# **More Augmentation**"
      ],
      "metadata": {
        "id": "oJmguy7SbGFu"
      }
    },
    {
      "cell_type": "code",
      "source": [
        "class ModelBuilderMoreAugmentation(metaclass= abc.ABCMeta):\n",
        "    \n",
        "    def initialize_path(self,project_folder):\n",
        "        self.train_doc = np.random.permutation(open(project_folder + '/' + 'train.csv').readlines())\n",
        "        self.val_doc = np.random.permutation(open(project_folder + '/' + 'val.csv').readlines())\n",
        "        self.train_path = project_folder + '/' + 'train'\n",
        "        self.val_path =  project_folder + '/' + 'val'\n",
        "        self.num_train_sequences = len(self.train_doc)\n",
        "        self.num_val_sequences = len(self.val_doc)\n",
        "        \n",
        "    def initialize_image_properties(self,image_height=100,image_width=100):\n",
        "        self.image_height=image_height\n",
        "        self.image_width=image_width\n",
        "        self.channels=3\n",
        "        self.num_classes=5\n",
        "        self.total_frames=30\n",
        "          \n",
        "    def initialize_hyperparams(self,frames_to_sample=30,batch_size=20,num_epochs=20):\n",
        "        self.frames_to_sample=frames_to_sample\n",
        "        self.batch_size=batch_size\n",
        "        self.num_epochs=num_epochs\n",
        "        \n",
        "        \n",
        "    def generator(self,source_path, folder_list, augment=False):\n",
        "        img_idx = np.round(np.linspace(0,self.total_frames-1,self.frames_to_sample)).astype(int)\n",
        "        batch_size=self.batch_size\n",
        "        while True:\n",
        "            t = np.random.permutation(folder_list)\n",
        "            num_batches = len(t)//batch_size\n",
        "        \n",
        "            for batch in range(num_batches): \n",
        "                batch_data, batch_labels= self.one_batch_data(source_path,t,batch,batch_size,img_idx,augment)\n",
        "                yield batch_data, batch_labels \n",
        "\n",
        "            remaining_seq=len(t)%batch_size\n",
        "        \n",
        "            if (remaining_seq != 0):\n",
        "                batch_data, batch_labels= self.one_batch_data(source_path,t,num_batches,batch_size,img_idx,augment,remaining_seq)\n",
        "                yield batch_data, batch_labels \n",
        "    \n",
        "    \n",
        "    def one_batch_data(self,source_path,t,batch,batch_size,img_idx,augment,remaining_seq=0):\n",
        "    \n",
        "        seq_len = remaining_seq if remaining_seq else batch_size\n",
        "    \n",
        "        batch_data = np.zeros((seq_len,len(img_idx),self.image_height,self.image_width,self.channels)) \n",
        "        batch_labels = np.zeros((seq_len,self.num_classes)) \n",
        "    \n",
        "        if (augment): batch_data_aug = np.zeros((seq_len,len(img_idx),self.image_height,self.image_width,self.channels))\n",
        "\n",
        "        \n",
        "        for folder in range(seq_len): \n",
        "            imgs = os.listdir(source_path+'/'+ t[folder + (batch*batch_size)].split(';')[0]) \n",
        "            for idx,item in enumerate(img_idx): \n",
        "                image = imread(source_path+'/'+ t[folder + (batch*batch_size)].strip().split(';')[0]+'/'+imgs[item]).astype(np.float32)\n",
        "                image_resized=imresize(image,(self.image_height,self.image_width,3))\n",
        "            \n",
        "\n",
        "                batch_data[folder,idx,:,:,0] = (image_resized[:,:,0])/255\n",
        "                batch_data[folder,idx,:,:,1] = (image_resized[:,:,1])/255\n",
        "                batch_data[folder,idx,:,:,2] = (image_resized[:,:,2])/255\n",
        "            \n",
        "                if (augment):\n",
        "                    shifted = cv2.warpAffine(image, \n",
        "                                             np.float32([[1, 0, np.random.randint(-30,30)],[0, 1, np.random.randint(-30,30)]]), \n",
        "                                            (image.shape[1], image.shape[0]))\n",
        "                    \n",
        "                    gray = cv2.cvtColor(shifted,cv2.COLOR_BGR2GRAY)\n",
        "\n",
        "                    x0, y0 = np.argwhere(gray > 0).min(axis=0)\n",
        "                    x1, y1 = np.argwhere(gray > 0).max(axis=0) \n",
        "                    \n",
        "                    cropped=shifted[x0:x1,y0:y1,:]\n",
        "                    \n",
        "                    image_resized=imresize(cropped,(self.image_height,self.image_width,3))\n",
        "                    \n",
        "                    M = cv2.getRotationMatrix2D((self.image_width//2,self.image_height//2),\n",
        "                                                np.random.randint(-10,10), 1.0)\n",
        "                    rotated = cv2.warpAffine(image_resized, M, (self.image_width, self.image_height))\n",
        "                    \n",
        "                    #shifted = cv2.warpAffine(image_resized, \n",
        "                    #                        np.float32([[1, 0, np.random.randint(-3,3)],[0, 1, np.random.randint(-3,3)]]), \n",
        "                    #                        (image_resized.shape[1], image_resized.shape[0]))\n",
        "            \n",
        "                    batch_data_aug[folder,idx,:,:,0] = (rotated[:,:,0])/255\n",
        "                    batch_data_aug[folder,idx,:,:,1] = (rotated[:,:,1])/255\n",
        "                    batch_data_aug[folder,idx,:,:,2] = (rotated[:,:,2])/255\n",
        "                \n",
        "            \n",
        "            batch_labels[folder, int(t[folder + (batch*batch_size)].strip().split(';')[2])] = 1\n",
        "            \n",
        "    \n",
        "        if (augment):\n",
        "            batch_data=np.concatenate([batch_data,batch_data_aug])\n",
        "            batch_labels=np.concatenate([batch_labels,batch_labels])\n",
        "\n",
        "        \n",
        "        return(batch_data,batch_labels)\n",
        "    \n",
        "    \n",
        "    def train_model(self, model, augment_data=False):\n",
        "        train_generator = self.generator(self.train_path, self.train_doc,augment=augment_data)\n",
        "        val_generator = self.generator(self.val_path, self.val_doc)\n",
        "\n",
        "        model_name = 'model_init' + '_' + str(datetime.datetime.now()).replace(' ','').replace(':','_') + '/'\n",
        "    \n",
        "        if not os.path.exists(model_name):\n",
        "            os.mkdir(model_name)\n",
        "        \n",
        "        filepath = model_name + 'model-{epoch:05d}-{loss:.5f}-{categorical_accuracy:.5f}-{val_loss:.5f}-{val_categorical_accuracy:.5f}.h5'\n",
        "\n",
        "        checkpoint = ModelCheckpoint(filepath, monitor='val_loss', verbose=1, save_best_only=False, save_weights_only=False, mode='auto', period=1)\n",
        "        LR = ReduceLROnPlateau(monitor='val_loss', factor=0.2, verbose=1, patience=4)\n",
        "        callbacks_list = [checkpoint, LR]\n",
        "\n",
        "        if (self.num_train_sequences%self.batch_size) == 0:\n",
        "            steps_per_epoch = int(self.num_train_sequences/self.batch_size)\n",
        "        else:\n",
        "            steps_per_epoch = (self.num_train_sequences//self.batch_size) + 1\n",
        "\n",
        "        if (self.num_val_sequences%self.batch_size) == 0:\n",
        "            validation_steps = int(self.num_val_sequences/self.batch_size)\n",
        "        else:\n",
        "            validation_steps = (self.num_val_sequences//self.batch_size) + 1\n",
        "    \n",
        "        history=model.fit_generator(train_generator, steps_per_epoch=steps_per_epoch, epochs=self.num_epochs, verbose=1, \n",
        "                            callbacks=callbacks_list, validation_data=val_generator, \n",
        "                            validation_steps=validation_steps, class_weight=None, workers=1, initial_epoch=0)\n",
        "        return history\n",
        "\n",
        "        \n",
        "    @abc.abstractmethod\n",
        "    def define_model(self):\n",
        "        pass"
      ],
      "metadata": {
        "id": "yMkKGcUQbDcb"
      },
      "execution_count": null,
      "outputs": []
    },
    {
      "cell_type": "code",
      "source": [
        "#class Test(ModelBuilderMoreAugmentation):\n",
        "#    def define_model(self):\n",
        "#        pass\n",
        "\n",
        "#test_generator=Test()\n",
        "#test_generator.initialize_path(project_folder)\n",
        "#test_generator.initialize_image_properties(image_height=160,image_width=160)\n",
        "#test_generator.initialize_hyperparams(frames_to_sample=30,batch_size=3,num_epochs=1)\n",
        "\n",
        "#g=test_generator.generator(test_generator.val_path,test_generator.val_doc,augment=True)\n",
        "#batch_data, batch_labels=next(g)\n",
        "#fig, axes = plt.subplots(nrows=1, ncols=2)\n",
        "#axes[0].imshow(batch_data[0,29,:,:,:])   \n",
        "#axes[1].imshow(batch_data[3,29,:,:,:])   "
      ],
      "metadata": {
        "id": "woPxnXqTajFu"
      },
      "execution_count": null,
      "outputs": []
    },
    {
      "cell_type": "markdown",
      "source": [
        "# **Model 10-(3,3,3) Filter & 160X160 image resolution - smillar to model2**"
      ],
      "metadata": {
        "id": "b6ZoFshDc3Ec"
      }
    },
    {
      "cell_type": "code",
      "source": [
        "class ModelConv3D10(ModelBuilderMoreAugmentation):\n",
        "    \n",
        "    def define_model(self,filtersize=(3,3,3),dense_neurons=64,dropout=0.25):\n",
        "\n",
        "        model = Sequential()\n",
        "        model.add(Conv3D(16, filtersize, padding='same',\n",
        "                 input_shape=(self.frames_to_sample,self.image_height,self.image_width,self.channels)))\n",
        "        model.add(Activation('relu'))\n",
        "        model.add(BatchNormalization())\n",
        "        model.add(MaxPooling3D(pool_size=(2, 2, 2)))\n",
        "\n",
        "        model.add(Conv3D(32, filtersize, padding='same'))\n",
        "        model.add(Activation('relu'))\n",
        "        model.add(BatchNormalization())\n",
        "        model.add(MaxPooling3D(pool_size=(2, 2, 2)))\n",
        "\n",
        "        model.add(Conv3D(64, filtersize, padding='same'))\n",
        "        model.add(Activation('relu'))\n",
        "        model.add(BatchNormalization())\n",
        "        model.add(MaxPooling3D(pool_size=(2, 2, 2)))\n",
        "\n",
        "        model.add(Conv3D(128, filtersize, padding='same'))\n",
        "        model.add(Activation('relu'))\n",
        "        model.add(BatchNormalization())\n",
        "        model.add(MaxPooling3D(pool_size=(2, 2, 2)))\n",
        "\n",
        "        model.add(Flatten())\n",
        "        model.add(Dense(dense_neurons,activation='relu'))\n",
        "        model.add(BatchNormalization())\n",
        "        model.add(Dropout(dropout))\n",
        "\n",
        "        model.add(Dense(dense_neurons,activation='relu'))\n",
        "        model.add(BatchNormalization())\n",
        "        model.add(Dropout(dropout))\n",
        "\n",
        "\n",
        "        model.add(Dense(self.num_classes,activation='softmax'))\n",
        "\n",
        "        optimiser = optimizers.Adam(lr=0.0002)\n",
        "        model.compile(optimizer=optimiser, loss='categorical_crossentropy', metrics=['categorical_accuracy'])\n",
        "        return model"
      ],
      "metadata": {
        "id": "XCax99mOdnEt"
      },
      "execution_count": null,
      "outputs": []
    },
    {
      "cell_type": "code",
      "source": [
        "conv_3d10=ModelConv3D10()\n",
        "conv_3d10.initialize_path(project_folder)\n",
        "conv_3d10.initialize_image_properties(image_height=160,image_width=160)\n",
        "conv_3d10.initialize_hyperparams(frames_to_sample=20,batch_size=20,num_epochs=30)\n",
        "conv_3d10_model=conv_3d10.define_model(dense_neurons=256,dropout=0.5)\n",
        "conv_3d10_model.summary()"
      ],
      "metadata": {
        "id": "1gdaOfqmo88V"
      },
      "execution_count": null,
      "outputs": []
    },
    {
      "cell_type": "code",
      "source": [
        "print(\"Total Params:\", conv_3d10_model.count_params())\n",
        "history_model10=conv_3d10.train_model(conv_3d10_model,augment_data=True)"
      ],
      "metadata": {
        "id": "APp91HqfpAUh"
      },
      "execution_count": null,
      "outputs": []
    },
    {
      "cell_type": "code",
      "source": [
        "plot(history_model10)"
      ],
      "metadata": {
        "id": "Dj9rz2enpDKd"
      },
      "execution_count": null,
      "outputs": []
    },
    {
      "cell_type": "markdown",
      "source": [
        "# **Model 11 - (2,2,2) Filter & 120x120 Image resolution - similar to Model 3**"
      ],
      "metadata": {
        "id": "dQEmuG2RpOJ4"
      }
    },
    {
      "cell_type": "code",
      "source": [
        "class ModelConv3D11(ModelBuilderMoreAugmentation):\n",
        "    \n",
        "    def define_model(self,filtersize=(3,3,3),dense_neurons=64,dropout=0.25):\n",
        "\n",
        "        model = Sequential()\n",
        "        model.add(Conv3D(16, filtersize, padding='same',\n",
        "                 input_shape=(self.frames_to_sample,self.image_height,self.image_width,self.channels)))\n",
        "        model.add(Activation('relu'))\n",
        "        model.add(BatchNormalization())\n",
        "        model.add(MaxPooling3D(pool_size=(2, 2, 2)))\n",
        "\n",
        "        model.add(Conv3D(32, filtersize, padding='same'))\n",
        "        model.add(Activation('relu'))\n",
        "        model.add(BatchNormalization())\n",
        "        model.add(MaxPooling3D(pool_size=(2, 2, 2)))\n",
        "\n",
        "        model.add(Conv3D(64, filtersize, padding='same'))\n",
        "        model.add(Activation('relu'))\n",
        "        model.add(BatchNormalization())\n",
        "        model.add(MaxPooling3D(pool_size=(2, 2, 2)))\n",
        "\n",
        "        model.add(Conv3D(128, filtersize, padding='same'))\n",
        "        model.add(Activation('relu'))\n",
        "        model.add(BatchNormalization())\n",
        "        model.add(MaxPooling3D(pool_size=(2, 2, 2)))\n",
        "\n",
        "        model.add(Flatten())\n",
        "        model.add(Dense(dense_neurons,activation='relu'))\n",
        "        model.add(BatchNormalization())\n",
        "        model.add(Dropout(dropout))\n",
        "\n",
        "        model.add(Dense(dense_neurons,activation='relu'))\n",
        "        model.add(BatchNormalization())\n",
        "        model.add(Dropout(dropout))\n",
        "\n",
        "\n",
        "        model.add(Dense(self.num_classes,activation='softmax'))\n",
        "\n",
        "        optimiser = optimizers.Adam(lr=0.0002)\n",
        "        model.compile(optimizer=optimiser, loss='categorical_crossentropy', metrics=['categorical_accuracy'])\n",
        "        return model"
      ],
      "metadata": {
        "id": "N-Ksjx0TpcKr"
      },
      "execution_count": null,
      "outputs": []
    },
    {
      "cell_type": "code",
      "source": [
        "conv_3d11=ModelConv3D11()\n",
        "conv_3d11.initialize_path(project_folder)\n",
        "conv_3d11.initialize_image_properties(image_height=120,image_width=120)\n",
        "conv_3d11.initialize_hyperparams(frames_to_sample=16,batch_size=30,num_epochs=30)\n",
        "conv_3d11_model=conv_3d11.define_model(filtersize=(2,2,2),dense_neurons=256,dropout=0.5)\n",
        "conv_3d11_model.summary()"
      ],
      "metadata": {
        "id": "hv8dUJkdp2jz"
      },
      "execution_count": null,
      "outputs": []
    },
    {
      "cell_type": "code",
      "source": [
        "print(\"Total Params:\", conv_3d11_model.count_params())\n",
        "history_model11=conv_3d11.train_model(conv_3d11_model,augment_data=True)"
      ],
      "metadata": {
        "id": "4TMnIV8Jp5iQ"
      },
      "execution_count": null,
      "outputs": []
    },
    {
      "cell_type": "code",
      "source": [
        "plot(history_model11)\n"
      ],
      "metadata": {
        "id": "1j477jUQp9jQ"
      },
      "execution_count": null,
      "outputs": []
    },
    {
      "cell_type": "markdown",
      "source": [
        "# **Model 12 - Adding more layers - Similar to model 4**"
      ],
      "metadata": {
        "id": "OtrtuYI8qCiG"
      }
    },
    {
      "cell_type": "code",
      "source": [
        "class ModelConv3D12(ModelBuilderMoreAugmentation):\n",
        "    \n",
        "    def define_model(self,filtersize=(3,3,3),dense_neurons=64,dropout=0.25):\n",
        "\n",
        "        model = Sequential()\n",
        "        model.add(Conv3D(16, filtersize, padding='same',\n",
        "                 input_shape=(self.frames_to_sample,self.image_height,self.image_width,self.channels)))\n",
        "        model.add(Activation('relu'))\n",
        "        model.add(BatchNormalization())\n",
        "        \n",
        "        model.add(Conv3D(16, filtersize, padding='same',\n",
        "                 input_shape=(self.frames_to_sample,self.image_height,self.image_width,self.channels)))\n",
        "        model.add(Activation('relu'))\n",
        "        model.add(BatchNormalization())\n",
        "        \n",
        "        model.add(MaxPooling3D(pool_size=(2, 2, 2)))\n",
        "\n",
        "        model.add(Conv3D(32, filtersize, padding='same'))\n",
        "        model.add(Activation('relu'))\n",
        "        model.add(BatchNormalization())\n",
        "        \n",
        "        model.add(Conv3D(32, filtersize, padding='same'))\n",
        "        model.add(Activation('relu'))\n",
        "        model.add(BatchNormalization())\n",
        "        \n",
        "        model.add(MaxPooling3D(pool_size=(2, 2, 2)))\n",
        "\n",
        "        model.add(Conv3D(64, filtersize, padding='same'))\n",
        "        model.add(Activation('relu'))\n",
        "        model.add(BatchNormalization())\n",
        "        \n",
        "        model.add(Conv3D(64, filtersize, padding='same'))\n",
        "        model.add(Activation('relu'))\n",
        "        model.add(BatchNormalization())\n",
        "        \n",
        "        model.add(MaxPooling3D(pool_size=(2, 2, 2)))\n",
        "\n",
        "        model.add(Conv3D(128, filtersize, padding='same'))\n",
        "        model.add(Activation('relu'))\n",
        "        model.add(BatchNormalization())\n",
        "        \n",
        "        model.add(Conv3D(128, filtersize, padding='same'))\n",
        "        model.add(Activation('relu'))\n",
        "        model.add(BatchNormalization())\n",
        "        \n",
        "        model.add(MaxPooling3D(pool_size=(2, 2, 2)))\n",
        "        \n",
        "\n",
        "        model.add(Flatten())\n",
        "        model.add(Dense(dense_neurons,activation='relu'))\n",
        "        model.add(BatchNormalization())\n",
        "        model.add(Dropout(dropout))\n",
        "\n",
        "        model.add(Dense(dense_neurons,activation='relu'))\n",
        "        model.add(BatchNormalization())\n",
        "        model.add(Dropout(dropout))\n",
        "\n",
        "\n",
        "        model.add(Dense(self.num_classes,activation='softmax'))\n",
        "\n",
        "        optimiser = optimizers.Adam(lr=0.0002)\n",
        "        model.compile(optimizer=optimiser, loss='categorical_crossentropy', metrics=['categorical_accuracy'])\n",
        "        return model"
      ],
      "metadata": {
        "id": "Tmd0VqG9qMkp"
      },
      "execution_count": null,
      "outputs": []
    },
    {
      "cell_type": "code",
      "source": [
        "conv_3d12=ModelConv3D12()\n",
        "conv_3d12.initialize_path(project_folder)\n",
        "conv_3d12.initialize_image_properties(image_height=120,image_width=120)\n",
        "conv_3d12.initialize_hyperparams(frames_to_sample=16,batch_size=20,num_epochs=30)\n",
        "conv_3d12_model=conv_3d12.define_model(filtersize=(3,3,3),dense_neurons=256,dropout=0.5)\n",
        "conv_3d12_model.summary()"
      ],
      "metadata": {
        "id": "MCOWiZarqolb"
      },
      "execution_count": null,
      "outputs": []
    },
    {
      "cell_type": "code",
      "source": [
        "print(\"Total Params:\", conv_3d12_model.count_params())\n",
        "history_model12=conv_3d12.train_model(conv_3d12_model,augment_data=True)"
      ],
      "metadata": {
        "id": "t6GrNpAAqvGg"
      },
      "execution_count": null,
      "outputs": []
    },
    {
      "cell_type": "code",
      "source": [
        "plot(history_model12)"
      ],
      "metadata": {
        "id": "iW6R0QaIqzpJ"
      },
      "execution_count": null,
      "outputs": []
    },
    {
      "cell_type": "markdown",
      "source": [
        "# **Model 13 - Adding dropouts - Similar to Model 5**"
      ],
      "metadata": {
        "id": "iTHab9JTq3yF"
      }
    },
    {
      "cell_type": "code",
      "source": [
        "class ModelConv3D13(ModelBuilderMoreAugmentation):\n",
        "    \n",
        "    def define_model(self,filtersize=(3,3,3),dense_neurons=64,dropout=0.25):\n",
        "\n",
        "        model = Sequential()\n",
        "        model.add(Conv3D(16, filtersize, padding='same',\n",
        "                 input_shape=(self.frames_to_sample,self.image_height,self.image_width,self.channels)))\n",
        "        model.add(Activation('relu'))\n",
        "        model.add(BatchNormalization())\n",
        "        \n",
        "        model.add(Conv3D(16, filtersize, padding='same',\n",
        "                 input_shape=(self.frames_to_sample,self.image_height,self.image_width,self.channels)))\n",
        "        model.add(Activation('relu'))\n",
        "        model.add(BatchNormalization())\n",
        "        \n",
        "        model.add(MaxPooling3D(pool_size=(2, 2, 2)))\n",
        "        model.add(Dropout(dropout))\n",
        "\n",
        "        model.add(Conv3D(32, filtersize, padding='same'))\n",
        "        model.add(Activation('relu'))\n",
        "        model.add(BatchNormalization())\n",
        "        \n",
        "        model.add(Conv3D(32, filtersize, padding='same'))\n",
        "        model.add(Activation('relu'))\n",
        "        model.add(BatchNormalization())\n",
        "        \n",
        "        model.add(MaxPooling3D(pool_size=(2, 2, 2)))\n",
        "        model.add(Dropout(dropout))\n",
        "\n",
        "        model.add(Conv3D(64, filtersize, padding='same'))\n",
        "        model.add(Activation('relu'))\n",
        "        model.add(BatchNormalization())\n",
        "        \n",
        "        model.add(Conv3D(64, filtersize, padding='same'))\n",
        "        model.add(Activation('relu'))\n",
        "        model.add(BatchNormalization())\n",
        "        \n",
        "        model.add(MaxPooling3D(pool_size=(2, 2, 2)))\n",
        "        model.add(Dropout(dropout))\n",
        "\n",
        "        model.add(Conv3D(128, filtersize, padding='same'))\n",
        "        model.add(Activation('relu'))\n",
        "        model.add(BatchNormalization())\n",
        "        \n",
        "        model.add(Conv3D(128, filtersize, padding='same'))\n",
        "        model.add(Activation('relu'))\n",
        "        model.add(BatchNormalization())\n",
        "        \n",
        "        model.add(MaxPooling3D(pool_size=(2, 2, 2)))\n",
        "        model.add(Dropout(dropout))\n",
        "        \n",
        "        model.add(Flatten())\n",
        "        model.add(Dense(dense_neurons,activation='relu'))\n",
        "        model.add(BatchNormalization())\n",
        "        model.add(Dropout(dropout))\n",
        "\n",
        "        model.add(Dense(dense_neurons,activation='relu'))\n",
        "        model.add(BatchNormalization())\n",
        "        model.add(Dropout(dropout))\n",
        "\n",
        "\n",
        "        model.add(Dense(self.num_classes,activation='softmax'))\n",
        "\n",
        "        optimiser = optimizers.Adam(lr=0.0002)\n",
        "        model.compile(optimizer=optimiser, loss='categorical_crossentropy', metrics=['categorical_accuracy'])\n",
        "        return model"
      ],
      "metadata": {
        "id": "jsDGsz2Cq9Vf"
      },
      "execution_count": null,
      "outputs": []
    },
    {
      "cell_type": "code",
      "source": [
        "conv_3d13=ModelConv3D13()\n",
        "conv_3d13.initialize_path(project_folder)\n",
        "conv_3d13.initialize_image_properties(image_height=120,image_width=120)\n",
        "conv_3d13.initialize_hyperparams(frames_to_sample=16,batch_size=20,num_epochs=25)\n",
        "conv_3d13_model=conv_3d13.define_model(filtersize=(3,3,3),dense_neurons=256,dropout=0.25)\n",
        "conv_3d13_model.summary()"
      ],
      "metadata": {
        "id": "p4KnUjGMrN_h"
      },
      "execution_count": null,
      "outputs": []
    },
    {
      "cell_type": "code",
      "source": [
        "print(\"Total Params:\", conv_3d13_model.count_params())\n",
        "history_model13=conv_3d13.train_model(conv_3d13_model,augment_data=True)"
      ],
      "metadata": {
        "id": "S5qtLDwzrZs1"
      },
      "execution_count": null,
      "outputs": []
    },
    {
      "cell_type": "code",
      "source": [
        "plot(history_model13)"
      ],
      "metadata": {
        "id": "vS7gdYvKrdOd"
      },
      "execution_count": null,
      "outputs": []
    },
    {
      "cell_type": "markdown",
      "source": [
        "# **Model 14 - reducing network parameters - Similar to Model 6**"
      ],
      "metadata": {
        "id": "McgiAog_ri-a"
      }
    },
    {
      "cell_type": "code",
      "source": [
        "class ModelConv3D14(ModelBuilderMoreAugmentation):\n",
        "    \n",
        "    def define_model(self,dense_neurons=64,dropout=0.25):\n",
        "\n",
        "        model = Sequential()\n",
        "        model.add(Conv3D(16, (3, 3, 3), padding='same',\n",
        "                 input_shape=(self.frames_to_sample,self.image_height,self.image_width,self.channels)))\n",
        "        model.add(Activation('relu'))\n",
        "        model.add(BatchNormalization())\n",
        "        model.add(MaxPooling3D(pool_size=(2, 2, 2)))\n",
        "\n",
        "        model.add(Conv3D(32, (2, 2, 2), padding='same'))\n",
        "        model.add(Activation('relu'))\n",
        "        model.add(BatchNormalization())\n",
        "        model.add(MaxPooling3D(pool_size=(2, 2, 2)))\n",
        "\n",
        "        model.add(Conv3D(64, (2, 2, 2), padding='same'))\n",
        "        model.add(Activation('relu'))\n",
        "        model.add(BatchNormalization())\n",
        "        model.add(MaxPooling3D(pool_size=(2, 2, 2)))\n",
        "\n",
        "        model.add(Conv3D(128, (2, 2, 2), padding='same'))\n",
        "        model.add(Activation('relu'))\n",
        "        model.add(BatchNormalization())\n",
        "        model.add(MaxPooling3D(pool_size=(2, 2, 2)))\n",
        "        \n",
        "        model.add(Flatten())\n",
        "        model.add(Dense(dense_neurons,activation='relu'))\n",
        "        model.add(BatchNormalization())\n",
        "        model.add(Dropout(dropout))\n",
        "\n",
        "        model.add(Dense(dense_neurons,activation='relu'))\n",
        "        model.add(BatchNormalization())\n",
        "        model.add(Dropout(dropout))\n",
        "\n",
        "        model.add(Dense(self.num_classes,activation='softmax'))\n",
        "\n",
        "        optimiser = optimizers.Adam(lr=0.0002)\n",
        "        model.compile(optimizer=optimiser, loss='categorical_crossentropy', metrics=['categorical_accuracy'])\n",
        "        return model"
      ],
      "metadata": {
        "id": "GQnTkLF5rmfv"
      },
      "execution_count": null,
      "outputs": []
    },
    {
      "cell_type": "code",
      "source": [
        "conv_3d14=ModelConv3D14()\n",
        "conv_3d14.initialize_path(project_folder)\n",
        "conv_3d14.initialize_image_properties(image_height=100,image_width=100)\n",
        "conv_3d14.initialize_hyperparams(frames_to_sample=16,batch_size=20,num_epochs=30)\n",
        "conv_3d14_model=conv_3d14.define_model(dense_neurons=128,dropout=0.25)\n",
        "conv_3d14_model.summary()"
      ],
      "metadata": {
        "id": "_KYIlU3WsB4w"
      },
      "execution_count": null,
      "outputs": []
    },
    {
      "cell_type": "code",
      "source": [
        "print(\"Total Params:\", conv_3d14_model.count_params())\n",
        "history_model14=conv_3d14.train_model(conv_3d14_model,augment_data=True)"
      ],
      "metadata": {
        "id": "-2MLkIqVsD_h"
      },
      "execution_count": null,
      "outputs": []
    },
    {
      "cell_type": "code",
      "source": [
        "plot(history_model14)"
      ],
      "metadata": {
        "id": "MM6GXlS6sMr7"
      },
      "execution_count": null,
      "outputs": []
    },
    {
      "cell_type": "markdown",
      "source": [
        "# **Model 15 - reducing network parameters - Similar to model 7**"
      ],
      "metadata": {
        "id": "Tzpv1n9zERAw"
      }
    },
    {
      "cell_type": "code",
      "source": [
        "class ModelConv3D15(ModelBuilderMoreAugmentation):\n",
        "    \n",
        "    def define_model(self,dense_neurons=64,dropout=0.25):\n",
        "\n",
        "        model = Sequential()\n",
        "        model.add(Conv3D(16, (3, 3, 3), padding='same',\n",
        "                 input_shape=(self.frames_to_sample,self.image_height,self.image_width,self.channels)))\n",
        "        model.add(Activation('relu'))\n",
        "        model.add(BatchNormalization())\n",
        "        model.add(MaxPooling3D(pool_size=(2, 2, 2)))\n",
        "\n",
        "        model.add(Conv3D(32, (3, 3, 3), padding='same'))\n",
        "        model.add(Activation('relu'))\n",
        "        model.add(BatchNormalization())\n",
        "        model.add(MaxPooling3D(pool_size=(2, 2, 2)))\n",
        "\n",
        "        model.add(Conv3D(64, (2, 2, 2), padding='same'))\n",
        "        model.add(Activation('relu'))\n",
        "        model.add(BatchNormalization())\n",
        "        model.add(MaxPooling3D(pool_size=(2, 2, 2)))\n",
        "\n",
        "        model.add(Conv3D(128, (2, 2, 2), padding='same'))\n",
        "        model.add(Activation('relu'))\n",
        "        model.add(BatchNormalization())\n",
        "        model.add(MaxPooling3D(pool_size=(2, 2, 2)))\n",
        "        \n",
        "        model.add(Flatten())\n",
        "        model.add(Dense(dense_neurons,activation='relu'))\n",
        "        model.add(BatchNormalization())\n",
        "        model.add(Dropout(dropout))\n",
        "\n",
        "        model.add(Dense(dense_neurons,activation='relu'))\n",
        "        model.add(BatchNormalization())\n",
        "        model.add(Dropout(dropout))\n",
        "\n",
        "        model.add(Dense(self.num_classes,activation='softmax'))\n",
        "\n",
        "        optimiser = optimizers.Adam(lr=0.0002)\n",
        "        model.compile(optimizer=optimiser, loss='categorical_crossentropy', metrics=['categorical_accuracy'])\n",
        "        return model"
      ],
      "metadata": {
        "id": "wlWa9fi6EWKm"
      },
      "execution_count": null,
      "outputs": []
    },
    {
      "cell_type": "code",
      "source": [
        "conv_3d15=ModelConv3D15()\n",
        "conv_3d15.initialize_path(project_folder)\n",
        "conv_3d15.initialize_image_properties(image_height=120,image_width=120)\n",
        "conv_3d15.initialize_hyperparams(frames_to_sample=16,batch_size=20,num_epochs=25)\n",
        "conv_3d15_model=conv_3d15.define_model(dense_neurons=64,dropout=0.25)\n",
        "conv_3d15_model.summary()"
      ],
      "metadata": {
        "id": "dwUVxw5sEiJi"
      },
      "execution_count": null,
      "outputs": []
    },
    {
      "cell_type": "code",
      "source": [
        "print(\"Total Params:\", conv_3d15_model.count_params())\n",
        "history_model15=conv_3d15.train_model(conv_3d15_model,augment_data=True)"
      ],
      "metadata": {
        "id": "BHCHAlSnEmXd"
      },
      "execution_count": null,
      "outputs": []
    },
    {
      "cell_type": "code",
      "source": [
        "plot(history_model15)"
      ],
      "metadata": {
        "id": "Bidy7ZTkFNcu"
      },
      "execution_count": null,
      "outputs": []
    },
    {
      "cell_type": "markdown",
      "source": [
        "# **Model 16 - reducing network parameters - Similar to Model 8**"
      ],
      "metadata": {
        "id": "fI-rY8mXFcTk"
      }
    },
    {
      "cell_type": "code",
      "source": [
        "class ModelConv3D16(ModelBuilderMoreAugmentation):\n",
        "    \n",
        "    def define_model(self,dense_neurons=64,dropout=0.25):\n",
        "\n",
        "        model = Sequential()\n",
        "        model.add(Conv3D(8, (3, 3, 3), padding='same',\n",
        "                 input_shape=(self.frames_to_sample,self.image_height,self.image_width,self.channels)))\n",
        "        model.add(Activation('relu'))\n",
        "        model.add(BatchNormalization())\n",
        "        model.add(MaxPooling3D(pool_size=(2, 2, 2)))\n",
        "\n",
        "        model.add(Conv3D(16, (3, 3, 3), padding='same'))\n",
        "        model.add(Activation('relu'))\n",
        "        model.add(BatchNormalization())\n",
        "        model.add(MaxPooling3D(pool_size=(2, 2, 2)))\n",
        "\n",
        "        model.add(Conv3D(32, (2, 2, 2), padding='same'))\n",
        "        model.add(Activation('relu'))\n",
        "        model.add(BatchNormalization())\n",
        "        model.add(MaxPooling3D(pool_size=(2, 2, 2)))\n",
        "\n",
        "        model.add(Conv3D(64, (2, 2, 2), padding='same'))\n",
        "        model.add(Activation('relu'))\n",
        "        model.add(BatchNormalization())\n",
        "        model.add(MaxPooling3D(pool_size=(2, 2, 2)))\n",
        "        \n",
        "        model.add(Flatten())\n",
        "        model.add(Dense(dense_neurons,activation='relu'))\n",
        "        model.add(BatchNormalization())\n",
        "        model.add(Dropout(dropout))\n",
        "\n",
        "        model.add(Dense(dense_neurons,activation='relu'))\n",
        "        model.add(BatchNormalization())\n",
        "        model.add(Dropout(dropout))\n",
        "\n",
        "        model.add(Dense(self.num_classes,activation='softmax'))\n",
        "\n",
        "        optimiser = optimizers.Adam(lr=0.0002)\n",
        "        model.compile(optimizer=optimiser, loss='categorical_crossentropy', metrics=['categorical_accuracy'])\n",
        "        return model"
      ],
      "metadata": {
        "id": "_BVIlJpxFgHg"
      },
      "execution_count": null,
      "outputs": []
    },
    {
      "cell_type": "code",
      "source": [
        "conv_3d16=ModelConv3D16()\n",
        "conv_3d16.initialize_path(project_folder)\n",
        "conv_3d16.initialize_image_properties(image_height=120,image_width=120)\n",
        "conv_3d16.initialize_hyperparams(frames_to_sample=16,batch_size=20,num_epochs=30)\n",
        "conv_3d16_model=conv_3d16.define_model(dense_neurons=64,dropout=0.25)\n",
        "conv_3d16_model.summary()"
      ],
      "metadata": {
        "id": "zKoG61WqFpz9"
      },
      "execution_count": null,
      "outputs": []
    },
    {
      "cell_type": "code",
      "source": [
        "print(\"Total Params:\", conv_3d16_model.count_params())\n",
        "history_model16=conv_3d16.train_model(conv_3d16_model,augment_data=True)"
      ],
      "metadata": {
        "id": "4LtTgeBkFu2i"
      },
      "execution_count": null,
      "outputs": []
    },
    {
      "cell_type": "code",
      "source": [
        "plot(history_model16)"
      ],
      "metadata": {
        "id": "B-viH1HDF0AC"
      },
      "execution_count": null,
      "outputs": []
    },
    {
      "cell_type": "markdown",
      "source": [
        "# **Model 17 - CNN LSTM with GRU - Similar to Model 9**"
      ],
      "metadata": {
        "id": "aFnYW7ykF5hE"
      }
    },
    {
      "cell_type": "code",
      "source": [
        "class RNNCNN2(ModelBuilderMoreAugmentation):\n",
        "    \n",
        "    def define_model(self,lstm_cells=64,dense_neurons=64,dropout=0.25):\n",
        "\n",
        "        model = Sequential()\n",
        "\n",
        "        model.add(TimeDistributed(Conv2D(16, (3, 3) , padding='same', activation='relu'),\n",
        "                                  input_shape=(self.frames_to_sample,self.image_height,self.image_width,self.channels)))\n",
        "        model.add(TimeDistributed(BatchNormalization()))\n",
        "        model.add(TimeDistributed(MaxPooling2D((2, 2))))\n",
        "        \n",
        "        model.add(TimeDistributed(Conv2D(32, (3, 3) , padding='same', activation='relu')))\n",
        "        model.add(TimeDistributed(BatchNormalization()))\n",
        "        model.add(TimeDistributed(MaxPooling2D((2, 2))))\n",
        "        \n",
        "        model.add(TimeDistributed(Conv2D(64, (3, 3) , padding='same', activation='relu')))\n",
        "        model.add(TimeDistributed(BatchNormalization()))\n",
        "        model.add(TimeDistributed(MaxPooling2D((2, 2))))\n",
        "        \n",
        "        model.add(TimeDistributed(Conv2D(128, (3, 3) , padding='same', activation='relu')))\n",
        "        model.add(TimeDistributed(BatchNormalization()))\n",
        "        model.add(TimeDistributed(MaxPooling2D((2, 2))))\n",
        "        \n",
        "\n",
        "        model.add(TimeDistributed(Flatten()))\n",
        "\n",
        "\n",
        "        model.add(GRU(lstm_cells))\n",
        "        model.add(Dropout(dropout))\n",
        "        \n",
        "        model.add(Dense(dense_neurons,activation='relu'))\n",
        "        model.add(Dropout(dropout))\n",
        "        \n",
        "        model.add(Dense(self.num_classes, activation='softmax'))\n",
        "        optimiser = optimizers.Adam(lr=0.0002)\n",
        "        model.compile(optimizer=optimiser, loss='categorical_crossentropy', metrics=['categorical_accuracy'])\n",
        "        return model      "
      ],
      "metadata": {
        "id": "hHV_wphvF_dx"
      },
      "execution_count": null,
      "outputs": []
    },
    {
      "cell_type": "code",
      "source": [
        "rnn_cnn2=RNNCNN2()\n",
        "rnn_cnn2.initialize_path(project_folder)\n",
        "rnn_cnn2.initialize_image_properties(image_height=120,image_width=120)\n",
        "rnn_cnn2.initialize_hyperparams(frames_to_sample=18,batch_size=20,num_epochs=20)\n",
        "rnn_cnn2_model=rnn_cnn2.define_model(lstm_cells=128,dense_neurons=128,dropout=0.25)\n",
        "rnn_cnn2_model.summary()"
      ],
      "metadata": {
        "id": "Eeh8E1zIHNby"
      },
      "execution_count": null,
      "outputs": []
    },
    {
      "cell_type": "code",
      "source": [
        "print(\"Total Params:\", rnn_cnn2_model.count_params())\n",
        "history_model17=rnn_cnn2.train_model(rnn_cnn2_model,augment_data=True)"
      ],
      "metadata": {
        "id": "A3XZgXXEI6jg"
      },
      "execution_count": null,
      "outputs": []
    },
    {
      "cell_type": "code",
      "source": [
        "plot(history_model17)"
      ],
      "metadata": {
        "id": "AHmGc0dYJAEv"
      },
      "execution_count": null,
      "outputs": []
    },
    {
      "cell_type": "markdown",
      "source": [
        "***We see that overfitting is considerably less when we do more augmentation. However there is not much improvement on accuracy***"
      ],
      "metadata": {
        "id": "1y8kHOVQJJge"
      }
    },
    {
      "cell_type": "markdown",
      "source": [
        "# **Model 18 - Transfer Learning**"
      ],
      "metadata": {
        "id": "iFts4pPJJpGm"
      }
    },
    {
      "cell_type": "code",
      "source": [
        "from keras.applications import mobilenet"
      ],
      "metadata": {
        "id": "kHUPMWzIJPFH"
      },
      "execution_count": null,
      "outputs": []
    },
    {
      "cell_type": "code",
      "source": [
        "mobilenet_transfer = mobilenet.MobileNet(weights='imagenet', include_top=False)\n",
        "\n",
        "class RNNCNN_TL(ModelBuilderMoreAugmentation):\n",
        "    \n",
        "    def define_model(self,lstm_cells=64,dense_neurons=64,dropout=0.25):\n",
        "        \n",
        "        model = Sequential()\n",
        "        model.add(TimeDistributed(mobilenet_transfer,input_shape=(self.frames_to_sample,self.image_height,self.image_width,self.channels)))\n",
        "        \n",
        "        \n",
        "        for layer in model.layers:\n",
        "            layer.trainable = False\n",
        "        \n",
        "        \n",
        "        model.add(TimeDistributed(BatchNormalization()))\n",
        "        model.add(TimeDistributed(MaxPooling2D((2, 2))))\n",
        "        model.add(TimeDistributed(Flatten()))\n",
        "\n",
        "        model.add(LSTM(lstm_cells))\n",
        "        model.add(Dropout(dropout))\n",
        "        \n",
        "        model.add(Dense(dense_neurons,activation='relu'))\n",
        "        model.add(Dropout(dropout))\n",
        "        \n",
        "        model.add(Dense(self.num_classes, activation='softmax'))\n",
        "        \n",
        "        \n",
        "        optimiser = optimizers.Adam()\n",
        "        model.compile(optimizer=optimiser, loss='categorical_crossentropy', metrics=['categorical_accuracy'])\n",
        "        return model"
      ],
      "metadata": {
        "id": "dUjiYCujJY-0"
      },
      "execution_count": null,
      "outputs": []
    },
    {
      "cell_type": "code",
      "source": [
        "rnn_cnn_tl=RNNCNN_TL()\n",
        "rnn_cnn_tl.initialize_path(project_folder)\n",
        "rnn_cnn_tl.initialize_image_properties(image_height=120,image_width=120)\n",
        "rnn_cnn_tl.initialize_hyperparams(frames_to_sample=16,batch_size=5,num_epochs=20)\n",
        "rnn_cnn_tl_model=rnn_cnn_tl.define_model(lstm_cells=128,dense_neurons=128,dropout=0.25)\n",
        "rnn_cnn_tl_model.summary()"
      ],
      "metadata": {
        "id": "GSJMJKHsSl_A"
      },
      "execution_count": null,
      "outputs": []
    },
    {
      "cell_type": "code",
      "source": [
        "print(\"Total Params:\", rnn_cnn_tl_model.count_params())\n",
        "history_model18=rnn_cnn_tl.train_model(rnn_cnn_tl_model,augment_data=True)"
      ],
      "metadata": {
        "id": "QBSQApXiSu7f"
      },
      "execution_count": null,
      "outputs": []
    },
    {
      "cell_type": "code",
      "source": [
        "plot(history_model18)"
      ],
      "metadata": {
        "id": "ozwmvMcCSyss"
      },
      "execution_count": null,
      "outputs": []
    },
    {
      "cell_type": "markdown",
      "source": [
        "***We are not training the mobilenet weights and we see validation accuracy is very poor. Let's train them as well and observe if there is performance improvement***"
      ],
      "metadata": {
        "id": "oARUp55bTAvP"
      }
    },
    {
      "cell_type": "markdown",
      "source": [
        "# **Model 19 - Transfer Learning with GRU and training all weights**"
      ],
      "metadata": {
        "id": "dxEPTehsTI7-"
      }
    },
    {
      "cell_type": "code",
      "source": [
        "from keras.applications import mobilenet\n",
        "\n",
        "mobilenet_transfer = mobilenet.MobileNet(weights='imagenet', include_top=False)\n",
        "\n",
        "class RNNCNN_TL2(ModelBuilderMoreAugmentation):\n",
        "    \n",
        "    def define_model(self,gru_cells=64,dense_neurons=64,dropout=0.25):\n",
        "        \n",
        "        model = Sequential()\n",
        "        model.add(TimeDistributed(mobilenet_transfer,input_shape=(self.frames_to_sample,self.image_height,self.image_width,self.channels)))\n",
        " \n",
        "        \n",
        "        model.add(TimeDistributed(BatchNormalization()))\n",
        "        model.add(TimeDistributed(MaxPooling2D((2, 2))))\n",
        "        model.add(TimeDistributed(Flatten()))\n",
        "\n",
        "        model.add(GRU(gru_cells))\n",
        "        model.add(Dropout(dropout))\n",
        "        \n",
        "        model.add(Dense(dense_neurons,activation='relu'))\n",
        "        model.add(Dropout(dropout))\n",
        "        \n",
        "        model.add(Dense(self.num_classes, activation='softmax'))\n",
        "        \n",
        "        \n",
        "        optimiser = optimizers.Adam()\n",
        "        model.compile(optimizer=optimiser, loss='categorical_crossentropy', metrics=['categorical_accuracy'])\n",
        "        return model"
      ],
      "metadata": {
        "id": "Tlcq7Vy8TH-A"
      },
      "execution_count": null,
      "outputs": []
    },
    {
      "cell_type": "code",
      "source": [
        "rnn_cnn_tl2=RNNCNN_TL2()\n",
        "rnn_cnn_tl2.initialize_path(project_folder)\n",
        "rnn_cnn_tl2.initialize_image_properties(image_height=120,image_width=120)\n",
        "rnn_cnn_tl2.initialize_hyperparams(frames_to_sample=16,batch_size=5,num_epochs=20)\n",
        "rnn_cnn_tl2_model=rnn_cnn_tl2.define_model(gru_cells=128,dense_neurons=128,dropout=0.25)\n",
        "rnn_cnn_tl2_model.summary()"
      ],
      "metadata": {
        "id": "h854EehETFJf"
      },
      "execution_count": null,
      "outputs": []
    },
    {
      "cell_type": "code",
      "source": [
        "print(\"Total Params:\", rnn_cnn_tl2_model.count_params())\n",
        "history_model19=rnn_cnn_tl2.train_model(rnn_cnn_tl2_model,augment_data=True)"
      ],
      "metadata": {
        "id": "sWn-_E64T0ye"
      },
      "execution_count": null,
      "outputs": []
    },
    {
      "cell_type": "code",
      "source": [
        "plot(history_model19)"
      ],
      "metadata": {
        "id": "LXHop6oKT7fQ"
      },
      "execution_count": null,
      "outputs": []
    },
    {
      "cell_type": "markdown",
      "source": [
        "# **Consolidated Final Models**"
      ],
      "metadata": {
        "id": "dmGJisFoWDFL"
      }
    },
    {
      "cell_type": "markdown",
      "source": [
        "![image.png](data:image/png;base64,iVBORw0KGgoAAAANSUhEUgAABq8AAALGCAIAAABUIZzaAAAgAElEQVR4nOzdXWwb153w/0ORFEVSJk1JlCzJFevXRinM1Fs78taAkKeOEMSo6xsvsC7giwDurooAQdHu1cK9WGwvk91FgQJ5kgC5yIVz4RvXuy4KrxdZP3+31joLJwpaJ35JKtW2rBeLIi2S4pv4vzjS8YQvI5IzfP9+4AtanBmemTlz5sxvzoslm80KAAAAAAAAAG2go94JAAAAAAAAAFAjRAMBAAAAAACAdkE0EAAAAAAAAGgXRAMBAAAAAACAdkE0EAAAAAAAAGgXtvw/WSyW2qcDAAAAAAAAgImy2Wz+H2kbCAAAAAAA2ks2my0YJQHagSU/91sslrcuzdYlNQCa0c9PjFBowDgyEkxBRoJx5KJ2xtmHKchITeHh/z0qhBj+++v1Tkhh5CKY4ucnRmgbCAAAAAAAALQ1ooEAAAAAAABAuyAaCAAAAAAAALQLooEAAAAAAABAuyAaCAAAAAAAALQLooEAAAAAAABAuyAaCAAAAAAAALQLooEAAAAAAABAu7DVOwEwx5nxAYe9I5PJvv/RY1M2GAy4X9zrEUKYuE0ApeOiRiM4dcTft83ucliFELFEZm4lefHmUr0TBaDhcM9qbZwOAJBaqTwkGtgi/J5O+WF81Hvtdtj4Bre7bB4n2QOoGy5q1N3kxJCMA0ouh3XPgLOO6QHQsLhnNZpTR/x2qyWWXDflFQ6no5WM7fM4bBb52ZSrFWgrrVQetshumOLUEf9IX5f8nEitf7WwdvnWk9JXP320f9DnUKv/+ncPzU9iM9AexrlQ4vz1BZ2FX3tph6/bLoS4/kV46m6kFulDO+GiRvW0fFl3ZnxAhQIXI8l4cr1vm73TxgAjG4IB90vP+2xWixAincl+9KfQ9Ey03olCc+OeBSHE2WOD8jnz/nxcP5Cn7iz5S5483Kfy0tg+T7Pcd1BVwYD7hUC3z22Xdy7p0B5PIrU+H05euLFYx7Sh7rR3kByReDq6lvnjgyj1nNZDtf6Z7e5nsVGHvWPvjjJaQIyPerXXj8PeMT7qNTNxzUN7GAd9jlNH/DoLWzfvRuoNFWAiLmpUT8uXdaqlz8f3Ix9cm79wY/HtK49+9dsH9U1V49jV71QPVDarZVc/rSZrYXzU28JFMfcsaNmtW9wv1J0lf0ntX5rovmNcaxcRRpw+2v/ygR6/p9OWl1sc9o6Rvq43Xt15/GBvXdKGRuDushb7yuO0DfocLx/o0a/rohkRDSwgnckKIWxWy8nDfSWusn/IpV0XylCRlwxALXFRo9parKxTT1OJ1DrdiAra2fO1Mz64vbNeKWkfJw/3HdrjObTHc2Z8oN5pqS7uWTBoIZyUOSGWyLRPGd4+RUS5JieGtG8LQqup2aU1+S8ST8s/2qyW54ZddUogGkgitR6Jp9W/WCKjvhrp6zp9tL+OaYPp6ClcQCiakm0icur6xQQDbtmkP5bIpNezLdON3BQ2q+X00X79PnRAtXFRo9pataxLpNfrnYRGNLbP47B3CCEi8bQsH1wOK93xqk01d5IHv4Vxz4JB126H2ycIqLRPEVEW7bgfodXU/371NKe/ZzDg/vZOd7Feomg3+d3Gx/Z5Dn6zW+aiQZ8jGHDTZbhlUFYWMLO4Jt+nldjP4ts73fLD7FKiuilrKouRpPwgS436JgZtjosa1UNZ14Z2928MyPVoORlaTeX8ETCIexYAU0wEfWrcj8VI8v2PHufHcaZnouevL1z/IqzaCQJaU3cjv7/z7O2CuuOgBRANLEw93QX8W1fuZSGbzmTLGuy55c0sriVSG41KvrtrW30TA3BRo0oo69pQT7ddfrh868l8OJXzR8A47lkAjNs/uNH5N5Fa/+DavM6SU3cj712dq0mi0HymZ6IqWKwzwiCaDl0JCvvjg6hsL61epxRz/GCvHI1V1du2dPxg74DX7nJYVTv2SDy9GEnpTxwmNqeC8jhtcsVYIjO3ktxyrZzf3ea0yQTHEploIvPpzGr12vremYsdGOkWQvi67eOj3gr6LAQD7l39Tr/H7uq0qqkbn8bT8+FUsSrvay/tsFotM4trV6ZDQojjB3uHejplr5mCc2YdP9g70ueQjZ9jiczS09SWk2rV/kjCOC5qVI/xsk6qOCOZtdlgwP3dXdusVoutY6O/lavTevbYoPwcXcu0XlfoCkwEffJIylaBl2892bvDabNaHPaOiaBP3nryBQPuF/d6hBAr0XSxu8yZ8QGHvSOTyb7/0eOCC8g7mroh5rfjeLSc1N4cG/CGmJOk8VHvngGnnBc1ncmGoqk7c/GcDtfq0Dk2p7TWZkshxGez0dbro809CwbJa02n3C63PMlRysVb8EfLzQPjo96Av0vlOjmo2czimrrVtmcRUYrxUa+6xr9aWKt4OxWUGDlF/ZnxATmXcSyRuT8fVzfKEhfLSYm5+QclWommSxmGwmCtwNyKivFIwpZ5Mt9E0Cdf4+UXvw2YG4kGFjY9E/3efq/MZycP9+kUdiN9G4Ms/PHB1lUZba97LY/T5nHa3nh1573H8WJZ8/jB3pyxXV0O654B5+TEkLbtbrHfPbR7W84gGi6H1eWwvnygZ/+gq0qTyl+ZDskcL4TYP+QqN6OfGR/IrwTbrBZft93XbR/q6cx/hTU+6pX1Eq/LJoQ4e2xQW2zJObNef2X4/32+Mj0TDQbc6ixLLod1xGGdnBh6+8qjgkmq15GEcVzUqB6DZZ0wlpFM3Ox2l8339QZuNqtFlaIMRibt2Jww5MHyRq9MNcrbjuJziWx32bY8gOqWlx9TLngqC2yw59nHBrwh5iTptZd2aPObzWrxezr9ns7ebrs2W+7qd+bsqTZbCiG+0euYulswjU2MexaMUNdawWKngvIkR4kXb86PVpAHTh/tzxnPzmHv8Ns7/Z5Oh71DPpm3ZxFRiuHNgUcrbjhcWYmRU9RPTgypLbgcVvnH0hdTKalS/kGJtm02CcwUmavKeK3A3IqK8UiCfp4sSHujjK5ltF81Zm6kp3BRauwVnSGcx0c3cmQknt7yxebYPs/YXo/KUrFEZi6UyJ/LqeDk7hNBn8pY6UxWTvEj+6a5HNaXnvdt+bsqAp0/h9RIX1f15gu/8ygmP3ictomgXjpznDzcpy7gWCKjkq0mNvI4bTpThtmtlsmJITWotjpcQgiHvePFvZ6xfZ6XnvepFwvaBVwOa8Et1/dIwjgualRPxWWdMJaRzN1sIp3VmZBUO69cO/O5N9rCqKrb45Wk9qtqOLR7mzyV2kte3bZUGbISLTDqUwPeEGWSZJ1bTV+ovn1u2DW2z6P+qw5vMeFYa451xT0LVWKkPBFClH7xKpXlgeMHe+XDczqTXYwk5SpzoYS8T6kn87YtIrakDlEomqpgdVMqJ9p4SsWLVTX/oETbNuN0y4VKBlNqBSZWVAxGEkTJWVdrfNSrbpSLkaS2YWDD5kYug6K0fX+K9fxSg7k8Wt66d8bBb3arFrO3/ryqbbKuDXU/N+x6sLyWU6UbHd4YrTOWyGiD3xNB3+iw27Y5hZb+7y5GkjkDRqjo9UhfV5WmB7p2O6z6EewfdJUb9l6MJPObFp864h/p6xK63WfU9fbJn5+qc6dW9DhtY3s9NqslkVr/+Mun6lyodwh+T2f+AanvkYRxXNSoHiNlnZGMZO5mp+5G5GLjo95DezxCiEg8zUBCWqpXpvbh6sp0SF62Nqvl+MFe08duO3XEr6YwzjkdsrZq0/RqydeAN0SVpNsPoyrZ8llCbnb/oFOlRGVLleY2yZbcs1ANBssTIYTLYS3x4lUqywO7Nqdm0pZdai8Wwht5vm2LiC2pWEY8uV7B6sYrJ0M+h9zC/fm4bOA8ts8TT+a+WdxysarmH5TitZd2qJ62Bduqm1UrMLGiIgxEEkrMulpj+zzf+eY29bs5B6FhcyNtA/Woun6xIZxLH7b5+MFeWWKmM9nf3wnn3CanZ6JvX3mkWmS8EOjWfnvycJ+6/HLawV6ZDk3di+g05VC/G0tk8seOvXzriRplpnrTA/3vV0/lB4e94+ThvhLXunhz6T8/W/7g2nz+hX3hxqJ6G6Az1146k526F9Feb9oVZf//X//uofZcfHBtXh3MnT1fO+mNcCRhHBc1qqeyss5IRqr9ZjHg3Wj9l9MaRZUtagET9W3b2OZns7k3xD9tdg7VaT4mGvKGKJOkjThM3Y3cexyXn6vXyrK5cM9qZyN9XT/7wTd0/lU2eoNZ5UnpF2/FeUC1M8oPhV+4sci4b/qCgWcHs4JYgym1CFlufP4wpuJHU3cj+U92+ouRf2rM2dkxPuqV/yaCvtNH+994dacaIXTqXoEhOE2sFZhVUTEYSSgx6yraNyL5oUDRwLmRaKCeO3MbN7aCkWPV2LWUYZvVqC6LkWSxnDSztDG8a8591O+x6/zQ1N1IwctSGurZSLnqb5JD7WP1WqhOz0TnQhu/Hujbemo87YrFvkqkN65hX/E5HKfuRfJfTs5v3g7lvS1/LVXzdjm+dnU0wpGEcVzUqJ7KyjojGan2m21zwYBbVYhzGs7MLG4ezCrMLKzad+Tf1FQNcptuXKABb4gFk6RCWjarRfso27a4Z8F0VSpPdC5eg3nA2qHX8hTFbDd2QZlVi5gLJUppL6+zGPmnxvyezkN7PPLfgZHuwc1WcpF4uuC1L6pZK6i4oiIMRxJKzLrSod3bdEKBSgPmRqKBeqbuRlTkOL+hx4B3I9+XMmyzuvV+WXxGp68WNq4Tm9WiHXRDvfp7uFz4AtOZJ0utWyw3q3XL7RhflvPXF2Tk3ma1mDs0jL1455SCh0UNHRJLZgqWEcXa0jfIkYRBXNSoqgrKOiMZqfabbXO7+p3yQ/4YTNduh3XKlhrQ76rZgDfEYqWces9v8FG2NXDPamdqVL5i/3SaZBpUQXkiil+8FecBmfltVov+8F6oBrNqEcWmtC59MfJPIwitpt67Olfs2q9eraDiikqJdCIJJWZdIcTkxJBs+qcTCmzY3EhNawsPlhN7Bpwir838RNCnBt3YcpQTbRtUnQrT9Ez05QMb03c5bBtZU/t6rdxGpNrfrfvwzI9CCdlFv+KhYbS7Y6s0sq5q1RX/dN2PJAziokZVlVXWGclItd8sBjenDC44aP3yakoOfDNYfGbhyiRS67J0ys9Rasoa7UD+pW+2gsRUuxSKJTPMXq3FPattzYeT+lMt58y/WaIqlSeiyMVrJA/cmYsdGOkWQvg9nW+8uvNRKHFnLsbgkjXQOLWI2uSfK9Oh/+/YYP7fM5ns/371tN2y3GIkKbs7dHfZerfZZMt0X7f9zPhAwVBXVcv5yioqBZkSScinJhvRbxXYsKUZ9a0tXLy59LMffEMIkTOEsxrARXUOMoW6QytmvRsfKaeLbjVcuLH4+ivDcu9eCHSXmPvHR70Bf5fPbdd/S1lLdT+SMIiLGlVVWVm3pfyM1MibbUlj+zxqFs6C4+t/ubAmo4Euh9Xc+RDmw0l5vX9317aczco4kRCi2OyfVUUpVAPcs2CuOpYn5eaBK9Mhl8MqU2WzWkb6ukb6ul4IdM8srjHo25au3Q7L2cBEdYawkGpZi6he/plZXCsWWG/DVurx5NfGtlNzgPg9naeO+PVfUTRaOV+DSILq/OvWbd7esKVZ2+XvCixGkjIoHvB3idthIUQw4JZFRrFHgopl1qvV5n/Lt3zRNb1Zckzx1cKaKk1KeVI6fbRfPlk1lEY4kjCIixpVVW5ZV4oqZaTq5c/Ws3tzPjhrh+VsoUYEWt/eaWY08MKNxTde3WmzWnzd9rPHBlei6YVwst/bOeDtVONS61fQq4RSqDa4Z8FEdSxPKsgDF28uBQPuFwLdauhMv6fT7+kM+Lt0muEgh6uzWgG7WtYiqpd/3F1F4ziJdLtXky7feuJydMgw39BWD+YNVc7XJpLw8ZdPj37LK4RwOazFmk9KjVmaEQ3c2uOVpJq7Wv5FzYYzb/Zs0NUbM+W9q3NV2nLpLt96MtTTKeuvL+716D8pnTriVxfw7NLaX54ktC3VK+scYYpGOJIwiIsaVVVWWVeiKmUkBuoqXc9m2wqb1bLlDajH1IYYxw/2qtfaHqfN47RpX78nUusff/nUxJ8rHaVQbXDPgonqWJ5UlgemZ6LTM9FgwL2r37mzxyFDln5P5+mj/aUP7NWeIvG0vFuZe0vSqmUtonr55/TR/n/597+YmdbWol4hyEGxdd4WNE45X7NIwtTdSG+3XTUCOH6wV2fukQYszegftLUr06GcIZxVbezOXKyULVTwVkGtom07Wu4o7yuxOvQb0nfn0cYR8zhtxab0ltTLh89mVy/cWNQZtKIGGvBIwggualRbiWWdkYxkcBnjq7SV8VGvrLSlM1n9cf3l8g57R7Gru4LRavbucAohIvH0Z7OrodVnE5hE4un78/Ff/+5hLW+RlEK1xz0LJqpxeWJWHpieiV68ufTr3z1UE1sP+hzMPK5vMbJxfuU4A6Wv2Di1CPJPg1DHTc1epTRmOV/LSMLlW0/U8dm7w7nljbKhciPRwJKoV687exzqlVpoNVViiw9t/jt+sLfYYuqrdCarXUVN0dVb5oud6ZmoWlcNDFxf126HVc1j/5Cr2GLjo155kNOZrLldYCrTgEcSBnFRo6pKLOsMZqQab7adqTHaQtHUe1fndP6pqM3+QWfBTZXbkkLdEB8tJ69Mh97/6PG//Ptf5L/3rs5dvLlkYLcqQSlUF9yzYIralyem54EPrs3HEhudDdtwTLeyqDl/hW5VJF/j1CLIPw1CzVzvsHfknIgGLOdrH0lQ+cpmtRzava3ctUT9ciPRwJKoV68Oe4d8pSaEeLCcKH0L6rFwqKfoVIMjfRsxbBUnlp5utjUotu7kxFDR341u/G7OVHR19L9fbXRA8Dhtrs4tHoqKjUZh4kxAJWrAIwkjuKhRbSWWdUYyko4qbbZt+dwbQZCCswlrqaiNWkXSNrAq2Eaj2FWvRn8f8Farq1e5KIVqj3sWTFGX8sT0PJBmxNvSTM9E1bXscdrOjA/oLBwMuF97aYdqoNQ4tQjyTyOYnomq3g/5J6Jhy/laRhJu/XlVRkUd9o7XXtpR4lp1z41EA0syPRNVZaKMNJc7bPP9+Y2XM8XK4jPjA7K9QDqTVdF3SdX2PE5b/vsZNa11QWqmOV+3XefdTi0D+dMz0bnQxh4Vm99HtTYv2NlKHataasAjCSO4qFFtpZR1wlhG0lGlzbYn1RSrlJfMKmpjs1pyLkP1Bji/jYbOVa8ad/i67a+/Mnz22ODpo/2njvjVv7L6f5miXqXQwmakdctXia2HexZMUZfypLI8MBH0nTriL7ikKgFyuii2cxFRzAfX5lW7Lb+nUxvvU4IB96kj/pcP9Pi67aqBUuPUImqWf6Dv0fLmy85ue04uarRyvi6RhKm7kXuPnxWwclgPqZFzI+1jSzUfTmlnZy/rfawQ4trt8J4Bp9yC39N59tjgo+Xk6lpaCOHrtqtRJIUQ9x7Hc/p9XJkOBfxdcqjL54Zdvdtsj1eSidT6cI/D7+mUlcJYIlMwW1+7HR7ucchBNJ8bdg31dKrfFUI47B192+w93XaHvcPlsNasw9H56wtyLNJiC0zdjRzavU0ek0O7t3mcVlnlnQj69gw46zLsfWMeSRjBRY1q27KsE8YyUu03255UIxr19lvH9Ez0e/u98uLNeUk+u5SQ40x7nLbJiaHZpcTqWrrf2znkc9islnQmm1nPqvOi3eDOni65osPe4bB35Ax9PdLXdWiPZy6UqNkQ1PUqha7dDh/a4xFC2KyWs8cG5ePHju2dT56mdQbtbhncs2BcXcqTyvKA12Ub6et649Wdi5Hkw+XEtdvhYMC9s6drpM8hs1wkns7JqG1eRBQzdS8yttcjD5qv2/7ygZ4X93qia5lUJmu3WtxdVm0eUCGJxqlF1Cz/QN/lW0/27nDKo/ftnW7t0Wu0cr5ekYTLt554XVZ5HPYMOMdHvbJfSCPnRqKBpdJeAEKICvLx+x89VvPXeJw2z3CBg//5w1jB29X/3Iu89LxP/rqci1p9lc5kp+5FvtHrGCmSs89fXzgzPiBXKfa7QtNmoTZmltb2DBQeU0n6+Mun8tblsHccGOk+MNKtvkpnsluuXg2NeSRRMS5q1EAphZWRjFT7zbYhFYJRb7/1za0k5Un3fX2QNe1k0y6HVT6QS/KqPzDizo8GCiGerKbSmayMGMaSGSGEq9OaE2Ue9DnOHhus2XR+9SqF5kIJWc/2OG2qYhBPrpv7K42JexZMUZfypII8EEusCyFsVsugzzHoc8gwn5JIrf/PvQID1bVzEVGMHNHv4De7VRBEziWds1g6k739MKoNSTROLaJm+Qf6QtFUzgT3SqOV8/WKJJy/vqDay3/nm9tkNLCRcyM9hQsoNinSo80+XxUPjvDe1bnPH8bUEONaodXU9S/CxcrT6Znor377IP93FyPJX/32gXbc1oKJ/+Da/GezqwUvv3QmG1pNfXw/ktPfRG1HNS8vl/7cUhdvLqk+dOlMNr9x7NTdyNS9iBqhQJG7rEZuSn09eaUnO1NkgZTuihUcSTQCLmphxkWNggyWdVLFGUmf8c0WKyrbh+o3l0ita8f+0/HVQlxdZTnd7t67Oqfyg7IYSX70p9DU3Yg62tpMFQy4ZY1WxlzkXCW/+u0DNfb/7NJGjDKnF2cD3hDLKoUKXlnnry/kHMB0Jhtuud5e3LME96ytLkChuXLzlyx29GpQngiT8sDlW08+fxjLXz6dyS5Gkr/+3cOCTWnapIgo19TdyNtXHhU8nkKIWCJzfz7+q98+yH+EqazEKDG3lJWpapN/IHRLnjtzGz1hbVZLfg/cqpbz5VZUqhpJ0F/s93fC8u82q0V2EG7k3GjJZnP3wWKxvHVpti6paR/BgFs7cUyJDxiSerQoa6381YUQK7EmaCOtPVaV7XKVNN2RrJ6fnxih0OCiNo6MJIxlpNpvtjE1RUYq/apXL9t1mmCcPtovm8PMLq1duLFoakpLUvtSyGCxuaWmyEVGcM/S0cJnv0HKk7LyQGV5tdpFRCkaNiNpj3+Jx6ehahHm5p+H//eoEGL476+bmkbTNGwu0tc45XxDRRLqeB39/MRIftxP0FO4XoxcEgbzTd0vg3I1YDVRarojiariooYpqlTiNWxB2rZKv2xVfxydhpxbtiGqttqXQpR7BnHPak8NUp6UlQcqy6tkMx0VHJyGqkXUIP/AoMa5ABsqAzRUYiR6CgMAADSx7e6Nl7tybBoAqBjlCQC0CaKBAAAADUoNNPPaSzsKLnBmfECO8p7OZJkTBoAOyhMAgEJPYQAAgAZ1fz4u58Lzddt/9oNvROLp6FomlcnarRZ3l1U7L+Tthw3XAwVAQ6E8AQAoRAMBAAAalJyAb/+gy2HvEEJ4nDbtE7sUiac/m41q53UFgHyUJwAAhWggAABA47oyHboyHZoI+rwu27Yuq9VqkX/PZLJP1zJ/eZLguR1AiShPAAAS0UAAAIBGJxv1AIBxlCcAAGYRAQAAAAAAANoF0UAAAAAAAACgXdBTGAAAAAAAtJfhv79e7yQAdUPbQAAAAAAAAKBdEA0EAAAAAAAA2gXRQAAAAAAAAKBdEA0EAAAAAAAA2gXRQAAAAAAAAKBdEA0EAAAAAAAA2gXRQAAAAAAAAKBdEA0EAAAAAAAA2gXRQAAAAACGjI96x0e99U4FAAAoia3eCQAAAADQxM6MD/g9nUKIlVh6eiZa7+S0l2DA/eJejxAik8m+/9FjE7d8ZnzAYe8wfbNAiciBQFURDQQAAAAaiLaR3bXb4WKLnTrit1stseT6xZtLNUlXYcGAW4YCQ6up/FBggySyhW132TzOos90Ro6/PK1CiPFRr04+NB15BpJODiSTAMYRDQTQplRDhrL852fLtHoAUD2nj/YP+hwFv4olMonU+nw4dfnWkxqnCrURDLhfCHTn3JsO7fHEEpnZpUTOeT95uG+kr0t+HtvnmbobqV1Cv+6FQLf88GA5kfNV4ySyPTXj8W/GNKPGyCSAKYgGAmhTDnslA6dud1FsAqgid5e12Fcuh9XlsPq67Xt3OB+FEhduLJr+67JJWi0bAUE5frB37w6nzWrJ/8rlsD437PK6rOevL6g/2jVLOmwF1qoZn9suhEik1q9Mh3K+apxEtqcGPP5bFjINmGY0GjIJYAoeawG0qUfLSdGT+0dbh8XlsAoh0plsLJnJX4uHZAC1kUitJ9Lr2r+4Oq0yVGSzWkb6ul5/ZfjjL5+a2Cbi5OG+PQNOIUTA3/XBtXmzNotSBANuFQpMZ7KLkeTD5YQQwtdt73HbfN12kRcpXggnh3wOm9USS2TqeG86frBXJnt5NZX/bYMksm012vEvpZBptDSjAZFJAFMQDQTQpgp2tRsf9R7a4xFCxJKZ967O1TxRALBhPpzMb/03PurdP+SSY4Q57B1jez3xZMas4QtUa4vKmk7DiBcC3TKmlkit//p3D3O+DQbc3921LeeP126HG+ExeMBrlx++XFjL/7ZBEtm2Gu34l1LINFqa0YDIJIApiAYCAAA0B/kIpNrX2KyW7+33MphpC5CdbYUQXxWKqU3PRBv2LMt2i+lMlqG7AABoIrz7BQAAaCYXby7NLm3EjFwO6/GDvfVND4xTwwWurqXrm5KyTAR98sPTeDMlGwAA0DYQAMoTDLhf3OsRQkTXMtoB3XNMBH0Bf5cQYmZxTQ6sLrt6Wa0W9ZfxUe+eAec2p00+B4ZWUw+WE/mjsOc4frB3wGtXa8USmWgi8+nMasO2HGkWxk9QMODe1e/0e+xqfLd0Jvs0ntaZBPa1l3Zof/HM+IDPbZdD4dyfj2t/y/jGjx/sHerplJ1ME6n1/I6oxw/2jvQ55NCZsURm6WlKZ56K8VFvwN/lcdpkh69Eaj0ST88srtF5pzYu3Fh8/ZVhefBH+grMQVx6hlFlmsO28cg6nFcAACAASURBVJLY1Wk9e2xQLfDZbDSn2VcFuRElKqubtrzG829GZ8YHdLazEk0Xu7TLvb/0bdto0vh0rcBIu/qJFHlllCxyVWPDUDR1Zy7ejE0OK64nqNVNvL50jr/6uRcC3aowjyUycyvJizeXttxy9QqZLdMsNvOqy2FVWT0STy9GUjopb9X8JsyuYdb4qFaWA6tasMj6ksrYkby3HY+Wk9zs0AKIBgJAeZydVhlP8ThtwYC72DPSngGnjKrYrRs1qu2ujZHgvS6bEOLM+IDf06ldxddt93Xbd2zvLDa09tg+z6Hd23Ke8eQ0oy8f6Nk/6KrGHKPtw+AJyl9eCGGzWuRaQz2d+SNRjo96tb84OTEk84wQwuWwejUTWBvf+NljgzLfSg57h5yG4v99vjI9Ew0G3N/b71W/LhMw4rBOTgy9feVR/s6ePto/6PtaBMph7/DbO/2eToe9Y8vnDZjiq4W154ZdQgiXw5pTFpWVYXb1O7V5Qy6p/cs3eh1Td599W0FuxJbSmax87JThoVKoazzn9Akh8k+QVv7yotL7iyqmFsLJchOZU0a99tIO+V/JZrX4PZ1+T2dvt73pnrorricIs68vneMvHT/YK4sRxeWw7hlwTk4M/f6O3qud6hUyW6Z5bJ/n4De7tTcsyeO0eZy2N17dee9xPD/PtHB+EybVMOtyVCvLgdUrWAoehwJZMW8eQqAZ0VMYAMozdTcSS2w0gtg/6Cq4TDDgVjWJ/NqG3WqZnBiSFTXZoioST6czWfmt39N5+mh//jbH9nnG9npUO6zZpTX5T72xHOnrOnXEb3T3UNEJOnm4T9W8Y4mMOjsqq3ictjPjAzo/qg0FmrtxuTuyLhtLZCLxdCK1MVOtw97x4l7P2D7PS8/7VJNA7QIuhzV/y8cP9spQoJz5VCZmLpSQh0gbxERVacuWnT3PQkjlZpjHK4XjOEo49qxZhPGsjoJC0Y0JeU05gKq8KvHbiu8vqtRaiVXeU1iWUfKJXRW56tvnhl1j+zwVb7wupu5GVCm6q99ZcJmC9YQaX18TQZ8KxKQzWXnkZcpdDutLz/uKrVjVQkafzKvq0MUSmblQQptXbVbLc8MunfETWi+/aRmpYdb+qFacA0tRWZIO7d4mj4O2JFSXs0rkSpSxEdAKqLIDQNnmVpJyCP8Bb+H2F6r2H1pN5X+rIikzS2varhAqHjToc+S3Jjj4zY0ZJxcjyZxXu+rN6khfl04zBJSoshMkhFiMJPO71J064h/p6xK6rXWGfA55cu/Px+Uvju3zxJNf63lX8cbV7nzy56eqG69a0eO0je312KyWRGr94y+fqr4zqmWB39OZs7O7+jcCT9oNqs0WayKEakik1mUEx+XIfb9beoaZuhuR5119G4mn9dsfVZwbUcwH1+bfeHWnLAf8ns7XXxn+amGt4jZKv/rtg/w/qjYyi5Hci7Sy+4v2WdrIfUeVUbcfRlXLYhmekKnaP+hsuv6b8+GkvBwGt5ddT6jZ9TU67JYfYomMthn4RNA3OuxWY1kWU9VCphiVV2OJzK0/r2ozhraR+3PDrgfLawWzZUvmN8VgDbPGR9VgDtRXQZJOHfHLW2p+/pQH0KbpgAy0ANoGAkDZvlqIyw8Oe0fBV4s7ezY6UT5YThTcQjqTnboXyRkV5e0rj9T722/vdGu/On6wVzXdyu/lcfnWE/V0l7MiKlPuCbp4c+k/P1v+4Np8fi35wo1F9VZ5fNRb8OdkxfTzhzH1i1N3I2pTBjeudkcbudOuKIcp/PXvHmqrxR9cm1c7q213JjbHNUuk1vOHCLxwY5FxA2spkd44ic7OZzU64xlGR1U33uam7kXUReewdzw37Hr9lWGzWnxPBH1q2KycYbYqvr84bBvP6uq8V0yWUdpn7Km7kXuPN261asLlJnJnLiY/yI78+QuoKOF8+Fk0sJbX18nDfWqwv5wRIa5Mh7S5MV+9ygGVV9OZ7O/vhHNCOdMzUe1t+oVAd7HttF5+06q4hlnjo2okB5ao3CSpgVA/m83N2H96sPEXVcMHWgDRQAAo2/RMVL3M392fO8bT2L6N/lbpTLbY+8NP/vy04Jtn9dCV091yqGfjsWF2qXB48c5cvOCKqEy5J0joNo1RIRvt4DU55kIJnXZABjc+dS+Svzvzm4345ANA/lqq62J+uzMhhLXD0Et7mCtnuDeDGUZfVTfezqbuRj76U0jbl02O7/nGqztPHu4zuHHVBuf2w9zTV/H9pX+zdbw67xUrWEapItFmtRQMqDWy6Zmo6jab/5ZOdRNOZ7I5JX/Nri+/Z2Mj+W1FhWzNd0+vfVxdygE1Y9JiJFksATOb863rBPVaL79plVuBqddRNZgDS1FuklRf6fy11JvObUWGswSaEdFAAKiEepmf32dHxQdVMCVfsfZTDzfbEhYbwLhYwEhVXIqNPYeylHuCSmQv3u1FZ+ZE4xsv+GCgxmmKJTMFHwDiycJP+LLdh81qYXi4xpEpvw2FToYxrqobb2HTM9H3rs59fD+ijQnarJY9A07tBKzlOn20X80rmv+OqhHuL8U6ZqrGQdub8EXX3OZgeT15QbFn3YSL1xN0mHJ9qfP+sEgnBuO9ZU0vB1QO/HJhrdgyqveGzWopNgJgS+Y3pdwKTL2Oag1yYDVOtMH+y0BDaeKSDgDq6PKtJ3t3OG1Wi81qmQj6tM9Xqt6v2lOUTjsQ+9g+j6zHaPvaME9IfRU8QQVpz5rN7GZ0pmy84s59d+ZiB0a6hRB+T+cbr+58FErcmYsxWmV9PV3L6Hzb+LkRWtduh6/dDo+PegP+LvXCyeO0FZvjW9/4qFeNn/W/Xz3N/1Z9bsD7SyyZKTaxbOO7eHPpZz/4htgcVER7v1DdhLecXqNK15e2SZQpwzvUoBzQ/oTOzXd6JvrygY0JX1Vn9hI1dX7b0pY1zFoeVdNzYFmKnWg1FG/+0IoTwY0pTbSvaoBm17LlHQBUWyiaks9pOzRjhKtuwonUegVvNbesb8nht1Ev+idIPr373PZqvDqu6sbLcmU65HJY5UQ6NqtlpK9rpK/rhUD3zOIagwbWmKuzaFutNsmNLeza7bC4HR4f9R4Y6d6cK8Z66oj/wo3FsrYjY/dCiJmlwsP/K9xfTBdaTcnesrv7u1SVQHUTTqTWCw4nUoPry5S2bw1bDqiYDrSMRPSE2Ue1MVtfqsl/vrtrW05pKes8QghmE0YracTrEACawp25uIwGakdRUd2ElwvNJmzclu8ko7pNhFA9p4/2ywY4TbfxCly8uRQMuF8IdKuGS35Pp9/TGfB35c9CgCoJBp5NuZgzlXNb5cbWJtsJqumGi01kX4x2isycWQXycX8x3Xx4Ixqo7Sy8f9AlPxSsJzTL9dXI6cysG519Avna4aheuLEoC1tft/3sscGVaHohnOz3dg54O9Wb/nLfxwCNjGggAFRo6m7k0O5tDnuHzWo5frBXjrikavx/fGC046S2T4fy3tU5g5uFWbQn6NQRv3ouml1a+8uThLZl6Nljg0Y6H1V14xWbnolOz0SDAfeufufOHoesKPs9naeP9hsfAxGl0M71rG2V2Ya5seXNLK3Jlilltc0Z2+dRzf3yp8jMx/3FdGpQEW1nYRXSzR+mrVmurwZPJwMob6lgDVNfOxzV4wd71Ts2j9Pmcdq0LaYTqfWPv8wdbAFoag1xRwGAJvVgOSGf0Aa8dqHpJhxLFJ6WYUvaAVzUFiqotKFKCp4gIcTQ5nPRZ7OrxSaSrlhVN26QjAkKIc6MD8h2goM+R/6AO6iGXWrCoq+3MGrb3NjCQqspsdlPrXQHv7nRR3h2aa3YyBVG7i9qJiKHjV6ZRalBRWRnYW09If+k1Oz6unY7fGjPxlwQ+mPgFlSXciCRLrttWgWrtLCCFZh6HVWDObBK9u5wCiEi8fTM4trOHoeaFDsSTy9GUls2rwaaDjdvAKicmmRNDQwk/zu31bjgxQz3bNSwY4lnHbKmZ6Jq+jM1jDHqouAJGh/1ypfJ6UzW9Oeiqm7cRB9cm1fHpDHHA2oxJw/3qWZi9+efTVhEbmxJFQzXdeqIX7bliSUyOl3bjNxf1ExEjNGm4/HXZxbWqSfU+PpS5703b8pjffUqB7QBo+MHe4stpr5KZ7INEmNqEAUrMHU8qhXnwCpRGfvRcvLKdOj9jx7/y7//Rf577+ocoUC0JG7eAFC56ZmoapVz8nCf6ia8ZaXhtZd2FPy72kL46+01QtGNX9nZ06DD9LSYck+QVGxUHVMmWKzqxk2RboNBhRrE8YO9akTz0Gqq4OQtbZ4bm8vYPo92hs18Ows9xusIBtyq9dafthq2ouL7izbj6ae/nV2ZDsmwqewsrG4i6m1ivtpcX083h4kc6ik8GOXkxJD+FmpfDqgaV7E0CyFG+jay8WKkwveyza7sGmadjqrxHGgu1RJQdvcB2gHRQAAwZD68UYsK9HXJ9hGhEuYPkeMT5/zxzPiAamGRM+zgzOKaWlHn5S0tB81S1glSvWbkw17+WkZG26nqxiswEfSdOuIv+JWa35a+7dUzPup97aUdzw1vzEIQS2Te/+ixdgEjGUZNRVJsquJGy40t4/lh18sHes6MDxSMqZ064lePqbNLiVI2+OJej2zkMhdKbDnTt5H7i2oeSItgHWq2kIPf7FaTuuQPp1Dj6+vB8kZe8jht+ed9cmKo2M9VtZDRp9pBe5y2M+MD+QuoX09nssaHb25S5dYw63VUK86BVaLt7vP6K8Nnjw2ePtp/6ohf/dN2tQZaA3duADBEjRGuBh5W8UF9HqftjVd3ziythVZT3V22oZ5ONer2XCiR85xw7XZ4uMchB+1+btg11NP5aDm5urY5ZpO9o2+bvafb7rB3uBxWujOYovQTpOaTEUIc2r3N47TKzlMTQd+eAafB6mxVN14Br8s20tf1xqs7FyPJh8uJa7fDwYB7Z0/XSJ9DXgIFn3JRgQFvZ84TnavTqsoZIUQskXn7yqOctYxkGDWQk81qOXtsUAaJdmzvfPI0LWdJarTc2GL8ns6XD/R8b7936emzm4iay1IIEVpNyROhb2yfRzuHQ8Hw/Z25mLpOjdxfYomMTF5/mZMdt5UvF9bk4VXXyKPlAg2sanx9XZkOBfxdMqs8N+zq3WZ7vJJMpNaHexx+T6csamKJTP7vVrWQ0XftdnjPgFMGx/2ezrPHBlVe9XXb1XxWQoh7j+PtfCcqt4ZZl6NacQ6skumZ6M6eLvmyzWHvcNg7cibDGenrOrTHMxdKMFUaWgbRQAAwSo0RLoRIZ7Kl1Gg/fxh7bthls1r2DDhzxoZfjCQL1jPOX19QEzV4nDbPcOECvMR+ZNBX7gn6+MunY3s9cuLIAyPdB0a61VfpTFbNB1qZqm68XLHEuhDCZrUM+hyDPocaBVxKpNb/5x7jNJlDPo0U/CqdyT4KJYoNBmckw8yFEjJs4XHa1Irx5LopG0cxf3oYG9tszedyWEcKPf2GVlM57UCLcdiehYzVxK/5tE/1Fd9flqNpGUTY7uaZoiht+EwqVk+o8fX1P/ciLz3vkxnP7+lUNRn5c1P3It/odRTMjVUtZPS9/9FjNWdxsbz6+cNYKTWxVlVBDbNeR7XiHFglT1ZT6UzWZrWkM9lYMiPyXsIJIQZ9jrPHBpmBHa2BOzcAGHVnLq5qMGoAJn2Xbz15spo6MOLWvnjUf8IXQnxwbb7Yu/d0Jvs0nr4/H9+yUxhKUe4JkoNq5ywvhFiMJD+4Nj+2zyMfjVKZr42ypPpbpTN6I+5VdeNCiEyRBVKF/i4fBkb6HDmZMJ3JhqKpD67N6/8WthRdy+ScaEk+nCRS649Xkvoj91eWYaTz1xdOH+3XhpDSmax2kCkjG0cxU3cjU3cjp474tS0BlVgic38+nn/Si13jpcz4KcP6WpXdX75aiMszXjDT6iRS/yud7TSpB8sJFSCbCxXt7m16aa9/kOWk8CoQnPNzQohv9PpztmMkndKWhcyWGeO9q3PHD/bu6u/Kv1hCq6k/PYwVnOaiffJbZTXMuhzVinNgNQqWYMAtY9wyEJm/v6eO+Ef6usRm1+Z2jjijZViy2dzrxGKxvHVpti6pAdCMfn5ihELjjVd3ypeHn82uFntQHx/1qoZU//Lvf5EfxvZ5VDuOsgJ52uFLVmKt0Dez7hnJlBMUDLjV+FmmR2arunEjiRENkB6l7hmpcRjJMKqEKbZiQ+VG09UxFzXClVXW/UUN7/Xx/Uhr5IRGKENqf31teckXVNVCpqxfN7KdKqllRjKxhlmvo2o8PxikgpI6rSBVIHt2aU0ntGqiRiiO0AJ+fmIkP+4naBsIAMYdP9grQ4GJ1Lp+m518Bd+1lqLRar2tqtwTVNWwbEPFfBsqMSjIyDnasoQhA1RJIxzYsu4vcytJ2RBsmCnvzVP7bFBZpaKqhUxVf70dVFbDrNdRrXu1VrVP1Gn0R7N3tBjmFAYAo4Z6NioQyyXMJgwAQMtQE3H2bE58DAAtSQ2Qmj/YAtCMiAYCgCHBwLORWb5cWKtvYgAAqKXpmehiJCmEcNg7JoK+eicHACqhZkl67aUdBRc4Mz4gK/wlThgIND56CgOAId/e6ZYfYolMxd1+AQBoUjOLa7KT3U46CwNoTvfn43KSa1+3/Wc/+EYkno6uZVKZrN1qcXdZtVOy3H5IF3W0CKKBAGCI6hs1t5Ksb0oAAKi9a7fD+4dcHqfN120PBtyM5gag6ciBv/cPuuSsyh6nLX+q9Eg8/dlslHf/aBlEAwHAkFgik0ivJ1LrF28u6S957XZ4z4DTarVE1zK1SRvKwgkCgMq8d3Xu5OE+wcQOQD1QgTHFlenQlenQRNDnddm2dVmt1o0ZmTOZ7NO1zF+eJIgDosUQDQQAQ97/6HGVFkbtcYIAoDJbvhIDUD1UYMwiGwkC7YBZRAAAAAAAAIB2QTQQAAAAAAAAaBdEAwEAAAAAAIB2QTQQAAAAAAAAaBdEAwEAAAAAAIB2QTQQAAAAAAAAaBdEAwEAAAAAAIB2QTQQAAAAAAAAaBdEAwEAAAAAAIB2QTQQAAAAAAAAaBdEAwEAAAAAAIB2Yat3AgAAAAC0mmDAvd1lS6SzU3cj9U4LAAD4GqKBAAAAAEz2QqDb7+mUnwkIAgDQUIgGAgAAADDZnbm4jAbuH3QSDQTa0KkjfrvVEkuuX7y51PibBdoN0UAAAACgKZ064h/p65KfE6n1rxbWLt96Uvrqp4/2D/ocavVf/+6hzgI5IvF0dC3zxwfR6ZlowQWm7kYOjLg9Tpvf0xkMuIstBqBiZ8YHVAvc0v3nZ8s1uB5PHu5TpdPYPo9ZrwSqtFmgDTGLCAAAANCUtrufvdp32Dv27nCWvu74qFcb6XPYO8ZHvTnLuLusxVb3OG2DPsfLB3pOH+0vtsyj5aT8sH/QVXrCAJTIYa/kcX67qxZNguxWi/rssFl0lmyEzQJtiGggAAAA0NzSmawQwma1nDzcV+Iq+4dc2nX1LUaSs0tr8t9iJBmJp9VXgz7HqSP+gmuphooD3rKbLwHY0qPlZCSezvkXS2Tkt+lMNv/bSDx97Xa4BmlbCCdl2RJLZEz8xSptFmhD9BQGAAAAmlsompIdBnf2FO7YmyMYcHucNiFELJFJr2flZx0zi2s5D97BgPt7+70uh1UIMVSkN7EQIrSa8nXbHfYO+vQBpis4MsD4qPfQHo8QIpbMvHd1ruaJ2nDtdrga0boqbRZoQ7QNBAAAAJrbzOKabC9TsMNvvm/vdMsPs0uJyn5xeib6+zsbz+Q2q2Ui6Cu42HJ0oxXh7v6uyn4IAACYjmggAAAA0PQWIxuD9AX8W8fdZEPCdCZb1qwjOaZnoqpPorfISGSPVzZS1dNtr/iHAACAuegpDAAAADS9Pz6IyllBtpxj9PjBXpvVIjQBxIql17cYc3DqbuTot7xCCIe9g5mFtYIB965+p99jd3Va5elIZ7JP4+n5cGrLEO3Jw31+j1327y5lrVKWDwbcL+71CCFWoukLNxYLbufM+IDD3pHJZN//6HHOV6+9tMNqtcwsrl2ZDsklfW67zWqJJTL35+Pyj9XecbUL0bXM+esLxTYyEfTJiLlKbTur6omTGy94OnJ+d3zUu2fA6eu2y82Goqk7c/FiYwtUabPS8YO9Qz2dah+1Y6RKj5aTRl6iAI2DaCAAAADQ9KZnomogv5OH+y7eXCq25EjfxjB/f3xgNDbn6tyYdDgcy31mViLxtAzfDHg7hSAaKIQQZ8YH8oO2NqvF1233dduHejqLDfc2EfSNDrttmmlV1Vq7+rs+/vJpTqSj9OW3u2xbDh+p0jw+6tWO3TY+6pUBF9lEdHJiSOZDIYTLYdW2G63qjjs7rXIXPE6bTuh5z4BTJs9ubfd+clU9cWrj+fkq53dfe2mHT9N22Ga1+D2dfk9nb7c9P+5Wpc0KIcb2eQ5+s1sdAanARdGTvyrQlNq9BAQAAABagxoEUGcukfHRjYhhJJ422FJvfNSrmgjptLGKrm3Rm7jdnDzcpwIrsURGTdasul17nLYz4wP5K04EfQdGutUxD62mZpfWIvG0GjLy+WGXkeVNoY0o5aj2jk/djahN7R8svGvBgFsljxZeWtU4cVuyWy2TE0MyZpdIrcspj9W3zw27xvZ5arbZQ7u3ySOQSK2rfUyk1uW3aoLmlWjRNx9Ac+GWDAAAALSCy7ee7N3htFktci6RgjNvqlEFHy0b6iY8Pur9zje3yc8zS2s6S6YyG72Jt7t59HhmMZL8dGY1JyB76oh/pK9LFOnuPTq8MfdLaDWV01dXrmjVNJ2rYHnjhnwOGbO7Px+XrVPH9nniyYx2maru+NxKcs+AU2w0RC1gV79Tbars3WtdVTpxW5KDG6Qz2dsPo+qNwtg+z9hej0zP/kFnBXORV7DZU0f8DnuHECIST+e0c5RxUpumAzLQGrglAwAAAC0iFE3Jx/KAv0sUigZWNn/I8zvd+4eeNbaydVhUMyIVPihGpxNxe7p4c6lYP9YLNxZff2VYRiVy4rmnjvhlICORWs8ftu/CjcWxfR6P01rx8qaQv/j5w5jKXdqYSw12/KuFuIwGOuwdY/s8+YEk1Wz2wXKFs2m3pGqcuBKlM9mpexHtz03djfR2258bdgkhfO4KZx8qd7N92zb+8tls7m7+6UH00B6P0G1zDTQjegoDAAAALeLOXFx+KNhU59QRv/xQ7vwhLofV47SpfyoUmEit27dqX6a62m05LF370OmjnUhvHC7f12dhVtGKYmGsqbsRbcOlcpc3y1wooRNorvaOT89EVaO/3f25k2uP7fPIuJV+3/b2ZPqJK1FOzE5SKbFZLcGAuwabVWVa/loqxLmNEgythWggAAAA0CKm7kZU9O3k4b6cb1X3SePzh0gOe8dIX9frrwxXNrwXdOSEWVW04quFeCmrl7u8WXQm8y2RwR2fD29EA/MD4io+GIrSTTiX6SeuRMU6AqfVCAMVjTdajc3azO5ZD9QX4W0AAACgdTxYTsjOkjn92iaCPjUwVrnzh3x8P5LTBzAYcO8fdMkhwxz2jkO7t1UwvBek8VGv+mzrKBBx0C5Qyrkrd/l6MX3HhWb0TJvVMhH0adsA9mw2XlNNaFGZLU+ccbFkphqtiYttNpFal8Vjfp/oiaBPftBORQK0AKKBAAAAQOu4eHPpZz/4hhAiZy4RNX/IzKLepB8lmp6JTs9Ex0e9ckQth73j1BH/hRuLxrfcJsZHvQF/l89tL6vBkWr4WaXla6AGO65Gz9yx/VnzQNVNOJFaJ3JdgcpOXLOYDyflu43v7tqWEw2UL1eEEMwmjBZDNBAAAABoKYuRZM5cIsGAW7aISaTWTRwx7drtcMDfJX9Lje+GLZ0+2i+nPS2XGqOtSstXW212/M5cXOZJ7WQRqpvwMrMJl6/iE9csLtxYfOPVnTarxddtP3tscCWaXggn+72dA95OFUTmbQdaDNFAAAAAoKU8XtmIBqqh0769c2PI/PlwefOHbCkSz/g9QmjGd4O+U0f8KrAyu7T2lycJbVO1s8cGdTpIltt3sqFmbqnZjk/djRzavc1h77BZLccP9sq5I1Q3YbMGzWwfRk5cszh+sFe1eZRzJcmmglIitf7xl0/rlDSgWpr+ugUAAACgdWU6tH/QJZu0nDzcd/HmkgoL3pmLmftbsURGfwGZjFKWbBNDm4GVz2ZXG3Bm2yoNAydqu+Nq9MwBr11ougnHEplGHkixMTV4jjXF3h1OIUQknp5ZXNvZ41DzI0fi6cVI6uLNpbqmDqgKooEAAABAq1HDYO3scahmL6HVlOmhEO/m1JzFRnZTC6TXs+b+dDMaH/XKc5HOZEsPrFy7HZbjMwohcmbGMGV5rSq18azNjitfLcRlNFCGdVQ34bkVk9vGtrzKTlxzUfv4aDnZqvsI5OuodwIAAAAAmEy1AXTYO2SzFyHEg+WE6T804N1odVhswk37Zv+76BptA5/JFImNFmuaF9oc7U7NBpNPO9Nructr54zW/l2ZnBgqtp2yVHvHpemZqFrx5OE+1U2YRl4VK/fENRHVElC2JAXaBG0DAQAAgFYzPRP97q5t8ilXNnsxd/4QIUQw4P7efq/qCPzpzGrBxdxdG23NwjGigSKR3gipOOwdY/s8OZPbnhkfKNY0bz6ckmfT47SpsfCU8VHvgZHuRHpdBfXKXV4IEUtk5K/vH3Jp/y6EmJwYMthmsGY7nr9ioK9LtY01sgvtqeIT10S0LUlff2U4kV6PrmVSmWfRz4VwMj+DAc2OaCAAAADQglQ0RDLSMPD5ne79Qy7tX2wdFm0U4POHsWJ9kNUMA0+IxWgmuBBCHNq9zeO0yhDtRNC3Z8CpE1i5fOvJUE+nPJjPDbuGejofLSdX19LdXbYBr12eaO3Eu+UuL4SYXUo8N+wSQnictsmJodmlxOpaut/bOeRz2KyWdCabWc+q4G/D7I/L6wAAIABJREFU7rh2xb07nDarRc0OMR8mB5at4hPXRKZnojt7umTmd9g7HPaOnHlRRvq6Du3xzIUS568v1CmNgPmIBgIAAAAtSEVD5H+N9JHUeeZPZ7L3HsdzWmwpY/s8arGcVkVt6+Mvn47t9disFoe948BI94GRbvVVOpOdWVqTzZTyvXd1TrXR8zhtnuHcR7lHy0kjy2vjbi6HVQZHVMKm7kUOjLgrjgaKGu64Eoqm1Pw56Uy2WC6FvopPXBN5sppKZ7Iy6h1LZoQQrk6rKjylQZ/j7LHB967O1SmNgMmIBgIAAADNTfXmy/EolJBziSxGKpk8IbqWyWkj8+wXU+uxRGY5mtYPMu7YvhGLCUVplrVBRkUPjLhzju1iJPnBtfmxfR4ZW9F2VFTevvLo9NF+v6czJ06xGEnemYvnx1vLXf69q3Onj/YPbs4hqxb+dGZ1eib6/GZ8MCe/qf+mC6W5Ljsu3ZmLq2ggOTBfVU+czsZL/N2chau32WDALcOdMuqdn51OHfHLgrRgd3WgSVmy2dxLxWKxvHVpti6pAdCMfn5ihEIDxpGRYAoyEowjF5notZd2yL6cn82uNsVknbU8+8GAe/vmhMvljkpWbAIQ05evxnBptdzxN17dKQOINc6BLVmMGDlxjezM+ICMGn/+MFYs0qei5LNLaxduLNYmYS2Zi1B7Pz8xkh/3E7QNBAAAAFAlMhSYzmSbIhRYY8VGWixFubGYai9flprt+PGDvVWaQqc9GTlxjUw1INVp9FewySrQ1Cof9wEAAAAAijl+sFd+oJMm6mKoZyPKs8wMNjBmu3ujHVUsUWDKGqAZEQ0EAAAAYD4Vi7kzF69vStCGgoFn49x9ubBW38SgkcUSGfnhtZd2FFzgzPiAzEvMRYNWQk9hAAAAACZTsZhIPM1swqi9b+90yw+xRIYcCB335+NyomRft/1nP/hGJJ6OrmVSmazdanF3WbVzp9x+2Jp9pdGeiAYCAAAAMNkLgW754c6jWH1TgvbU022XH+ZWKplQG+1Djim5f9DlsHcIITxOW/5c6pF4+rPZKGFltBKigQAAAABMdmcuHk+uh2PpVpp7FE0klsgk0uuJ1PrFm0v1Tgsa3ZXp0JXp0ETQ53XZtnVZrVaL/Hsmk326lvnLkwRxQLQeooEAAAAATDZ1NzJ1t96JQBt7/6PH9U4CmgwTT6OtMIsIAAAAAAAA0C6IBgIAAAAAAADtgmggAAAAAAAA0C6IBgIAAAAAAADtgmggAAAAAAAA0C6IBgIAAAAAAADtgmggAAAAAAAA0C6IBgIAAAAAAADtgmggAAAAAAAA0C6IBgIAAAAAAADtgmggAAAAAAAA0C6IBgIAAAAAAADtgmggAAAAAAAA0C6IBgIAAAAAAADtgmggAAAAAAAA0C6IBgIAAAAAAADtgmggAAAAAAAA0C6IBgIAAAAAAADtgmggAAAAAAAA0C6IBgIAAAAAAADtwlbvBAAAAAAAgPIEA+5d/U6/x+7qtNqsFiFEOpN9Gk/Ph1OXbz3RX/fk4T6/x+5x2kpcq5TlgwH3i3s9QoiVaPrCjcWC2zkzPuCwd2Qy2fc/epzz1Wsv7bBaLTOLa1emQ3JJn9tus1piicz9+bj8Y7V3XO1CdC1z/vpCsY1MBH0Bf5cQQqUWaDpEAwEAAAAAaCZnxgf8ns6cP9qsFl+33ddtH+rpfO/qXMEVJ4K+0WG3DKLlrLWrv+vjL59O3Y1Utvx2l01G2XSoNI+Peq/dDqu/j496fd12IYTXZRNCTE4MuRxW+ZXLYZV/rMGOOzutchc8Tlsw4J6eiRbc1J4Bp0ye3UpvSzQr8i4AAAAAAE3j5OE+FRGLJTKzS2vyXyyRkX/0OG1nxgfyV5wI+g6MdKv2dKHV1OzSWiSeTmeyQgiHveP5YZeR5U2hDQXmqPaOT92NqE3tHyy8a8GAWyVvy6aIQMOibSAAAAAAAE1mMZL8dGY1p/3aqSP+kb4uoWmFpzU67JYfQqupnL66ckWrpulcBcsbN+RzyJjd/fn4xZtLQoixfZ54MqNdpqo7PreS3DPgFEIMeAtsRwixq9+pNlX27gENg7aBAAAAAAA0jYs3l/7zs+UPrs3nd2W9cGMxkVqXn8dHvdqvTh3xy0BbIrWeP2zfhRuL178IzyyuVby8KeQvfv4wJkOBQoipuxG1mzXY8a8W4vKDw94xts+Tn8KdPQ754cFyopI9BBoDbQMBAAAAAGgmxYa0E0Ik0usOe4cQQo7Ep/Rt2/hvsTBWzoiB5S5vlrlQQqcHbrV3fHom+t1d2+QWdvd35ezj2D6P/Il0Jsv8IWhqtA0EAAAAAKDV2L/ejVeNdqeav+krd3mz6EzmWyKDOz4f3ugCnN/peHd/l/wQitJNGM2NtoEAAAAAADQxbd9YW0eBsfy0C+g0r6t4+XoxfceFEJdvPdm7w2mzWmxWy0TQp20D2LPZ6vDOXE0jpIDpiAYCAAAAANBkxke9AX+Xz223lTOVhxpcr0rL10ANdjwUTcmGgTu2P2seqLoJJ1LrVeolDdQM0UAAAAAAAJrJ6aP9gz5HBSsm0mVGA8tcvtpqs+N35uIyGuhzPxuCUHUTXmY2YTQ/ooEAAAAAADSNU0f8KiI2u7T2lycJbVO1s8cGPc6iT/o6X5myfFXVbMen7kYO7d7msHfYrJbjB3vlrCaqm/AfHzRu12mgRA10YQMAAAAAAH1DmxGxz2ZXG3Bm24Lj95miljv+YDmxZ8AphBjw2oWmm3AskWnkgRSBEjGnMAAAAAAAzWF81CvHy0tnsqVHxK7dDqvPE0Gf6ctrqTl8zVWbHVfUBMS+brvQdBOeW0mWvhGgYRENBAAAAACgyWTWswX/XqxpXmhztLuAv6vYNrUz8Ja7vDbupv27MjkxVGw7Zan2jkvTM1G14snDfaqb8MWbS2WlFmhMRAMBAAAAAGgOifRGLMxh7xjb58n59sz4QLGmefPhjdiWx2k7frA359vxUe/rrwzvH3JVvLwQIpbIyA85fxdCTE4MGWwzWLMdz18x0NcluwmHmD8ErYJxAwEAAAAAaA5qggshxKHd2zxOq+w2OxH07Rlw6kTcLt96MtTTKSfTeG7YNdTT+Wg5ubqW7u6yDXjtsj+sduLdcpcXQswuJZ4bdgkhPE7b5MTQ7FJidS3d7+0c8jlsVks6k82sZ2XKG3nHtSvu3eG0WS2yh7LQxAeBZkc0EAAAAACApvHxl0/H9npsVovD3nFgpPvASLf6Kp3Jziytyekv8r13dU610fM4bZ7h3IDAo+WkkeW1cTeXwyojgyphU/ciB0bcFUcDRQ13XAlFU35Pp/oJObkw0ALoKQwAAAAAQNOYuhuZuheJxNM5f1+MJH/12wePN6e5SGUKjK/39pVHc6FEOu+rxUjy+hfh/GhXucu/d3VuLpTIX/ijP4Wm7kYym9tR3X5z/pv/Q1q13HHpzlxcfQ5FaRiI1kHbQAAAAAAAmsnU3cjU3Ugw4N7u2nioV5N4yK901j1/fUEUnwDE9OW1C7//0eOCq2yZ5pwla7PjcpuyNaIQ4jGzCaOFEA0EAAAAAKD5TM9EK153y0BYjZcvS812/PjBXhkKTKTW5TCFQGugpzAAAAAAAECuoZ6NQQOXmU0YrYVoIAAAAAAAwNcEA245I4oQ4suFtfomBjAX0UAAAAAAAICv+fZOt/wQS2RKHNYQaBZEAwEAAAAAAL6mp9suP8wxfwhaDrOIAAAAAAAAfE0skUmk1xOp9Ys3l+qdFsBkRAMBAAAAAAC+5v2PHtc7CUC10FMYAAAAAAAAaBdEAwEAAAAAAIB2QTQQAAAAAAAAaBeWbDab+yeLpS5JAQAAAAAAAGCW/LifoG0gAAAAAAAA0D4KzylcMHAIAAVZLAVaGQPlIiPBFGQkGEcuamecfZiCjATjyEUwRbHuv7QNBAAAAAAAANoF0UAAAAAAAACgXRANBAAAAAAAANoF0UAAAAAAAACgXRANBAAAAAAAANoF0UAAAAAAAACgXRANBAAAAAAAANoF0UAAAAAAAACgXdjqnQA0og8//PDhw4cej+fHP/6xKRsMh8PvvfeeEMLEbQIAAAAAAKBclmw2m/snS4E/oq1YLBb5YWZmZmRkxPgGZ2dnA4GA/Fxx7gqHw+FwWP3XlITBFNUrNBYWFtbW1uTn1jvjs7Oz6rPX6/V6vXVMTCMwPSNpj3BZ+cfIqan4R4vRXgVdXV39/f3Gt9lov2guqjEwrnGKI31UjaqhccqQCs6vzGklFt0LCwsffPCBEOLs2bNUQkxnbkYyeLGXtTq5qHE0TnGEplY0I2XzFPwjynX16lV1kCcnJz/55JOyVv/Nb36jXb1KiSxG/fTMzIwpG5yZmdHJclu6evXq5ORkfu595513zEohjDC90FhZWTl//vyJEydyzvjk5OTVq1fN/a3a++STT9588838/Pzmm2/q5GdtmZDj3Llz77zzTrmFTAMyKyPNzMy88847BY/w/Py8zoqVnRr1owXXPX/+/MrKSmU7cvXq1YJXQbnnWlt+vvPOOzX4xfqqOCN98cUXcpdPnDihf9bULf7cuXOV/RYaXN2Loy2VWzXKv7R1NNclbzrjZ9/40a6g6ptTT5icnPziiy/00yl/ovYPGm3CeEaSDD4HffLJJ+fOnctf/dy5c/mlELmo0ZiSi1QF9Q9/+IPxraEZFctIRAOrJeex8MSJE6Wvq42dSTWOeZn+u0aigQVvYFptXmdtBOYWGjphL3U1Ne9JLxgwKiU/b7miPDJNHS01JSNV7wjr5LpPPvlE/7yU+9g/Pz9fsOqvnD9/vsRNnT9/Xrvim2++We1frDthICOpZ3j9/VWLNfUVBx1GcpFipFTRV27VKL9iqa/NM7bBs2/8aFdQ9VVB53Pnzmkznk5NXq1iMDCNYgxmJMnIc9D8/Lz+6jl5j1zUgEzJRepstnnZ3s6KZSR6ClfLW2+99Q//8A9CiBMnTly6dEkI8Yc//OHIkSOVrWtWj90SNU5PYe2h+OlPf7p3717591Ao9Pbbb7/99tvyvysrKzRNryMTC41f/OIXv/zlL9V/33nnnT179sjPt27dkplBasZi6saNG3/9138thDhx4sSPfvSjv/qrv+rq6gqFQrdv3z59+rRarGB+VtfC5OSkuhCk//7v/5YFhTQ5OflP//RPTde7U5iRkdQRFkKcO3fu//yf/yOEiEajly9fVsWFKHSEjZyaTz/99Dvf+Y78/Oabb7788ss+n0/+/Yc//KH8+4kTJ7YMc2v95Cc/kQnWFn1ra2uXLl1SV8HVq1e///3v629Hlb3qbvLmm2/+/Oc/r94vNgIjGem//uu/jh07Jj8Xu7OoZco9rWgidSyOtlRZ1ejdd9+NRCL6W1YX+yeffPLCCy+UlapWYvzsGznaFZxfVdSrZ42FhYWzZ89eunTp3Llz//zP/5z/63fu3PnWt74lmqdgb0bGM5KR56BwOHzmzBl56z9x4sSPf/zjb33rW11dXUKItbW1L7744vLly3/zN3+jzj65qDGZ8pClMhJnqm3RU7jWVAxetcsosQX1ysqKXF77WqY92wZq1yr4xkm1ZGmiRistyaxCQ9uI6Z133snvqbeysqKevU35xRr7wx/+IIq8l9M2LvvNb36Tv4D+a72cbqpb9nNsTMZPqzzCBTOPNnfllxhGTo1Oa7L5+fkKGpGpTF6wUaHakVKanKtGAWovCrYNNPEXG4HBjKROWcHTnaVhYHuoY3Gkr3pVI4ODurSSGhyBYke7svMrc1ROEa0K9oK1KVmOMdZBVRnMSAYvdlUBOHfuXCl1QnJRYzKlOKJtIIplJKKB1aIN5Kknh1KCa6rY1Y5g1Z7RQDUwU7GBrmRVWxTv+4baMKXQUCN2bfkMMz8/37xnXKdCpuptBfeulBu5uiKatHJmPCOtrKzoDHCjiuKCUa3KTo065sXe96hyrPRQmkpnse4/6gFAf/wXFQG8evWqKoQL5i6zfrFBGMxI+qdMHdVmiY2iMvUtjnRUr2qkevzxhtWUWo2+Yke7svMrb1I5Z1xVq/Ir87JG0aQvDpuIWTejCi72Cm5V5KLGZEpxRDQQxTJSh0D1/fjHP5Yffv/732+58LvvviuEOHHiRDv30ZDu378vP6i+ojmGhoZqmBxU17/+67/KD5OTk3/7t3+rs2R/f3/Bro5NQadH2Isvvmhw40eOHFF1x1/+8peffvqpwQ02Ha/Xu3///mLf/uhHP5IftB2rtesWW1Hn1PzHf/yH/FBs0D3VI+PSpUt37twpth1ldnZWJa/YXeD48ePyw/Xr13U29Ytf/EImTL9XiIm/2Bq+//3vy0jNpUuX/uu//ivnW9Uz66c//WmtU4amYqQ40lGlqlE4HP67v/s7+Zl+ZNWmc7QrO7/aIVYU2Sc0340bN2SfwX/8x39kmJ1GZuRiV7eqgj18CyIXAW2IaGAtjI+Pyw/a8acK+vTTT2W9UAUQt/Tpp5++++67P/nJTyyb3nrrrRs3bmy5Yjgc/vDDD9WKv/jFL0pZK+d3f/jDH6rVP/zwQ+3U9cbt2LFDflC3wxyPHj2SHzwej4m/i9qbnZ1VFRf9qQz0VXA5vPvuu2+99ZYK08zOzr777rty3R/+8IcffvjhwsJCzirhcPitt95666239J/i7ty5IxcrJQZklu9///vqAF64cKFmv9sUTB9LMRwOq9qzzvsb1bTwwYMHW27z3r178oPO/APqt7Qjaea4dOmSzJ9bXlBm/WIrUZG+f/u3f9P+/dNPP1WjK+pHTCq4Rc7Ozmpvyj/5yU8+/PDD2dlZw3uDRlRxcVSlqtFvf/tb+eHNN99sxmFnm4vO0a521XdhYUEOZ/nOO++UOJo56qXizLCwsCBvVZOTk9VoXEIuah9lPVjJRyrZsKmgDz/8UH+BS5cuyUcnc0MK0FN6M0KUJaeTr3oa1O9mpRaTja71ewrrTxSlP+9qsRkw5dAS6r/Fflfn8bLYoGY6Wa6UROqPl9G8M8y2BuOFhnbYssq2UNnloHKmzLeq506OnHXn5+fVV6V0Ly0xf6rlKxg3UEt74TRX9w3jGUmfdsKHslYsdmpU/tEfFlaNEVass4+Wat2p38tP/xSrLKo2otNT2JRfbCimZKSCgwOqm47OZVjBLTKrO5e6Tm9TVE/DFkdVqhptOVxAW6n22dc52pWdX/nHnDJcFfvayry8nTHQQW0YzEgVX+yqB3FZvf7JRY3JlOKogp7CFTxY6d99tE9PxSo2ld0WUYpiR5VoYLXkBPJUgf7/s3d/IW5cd+P/Zx9yYRpqOSTfbUnKOtRmi0nLui646xRiug4EEmavmofdQMiN18h3Ld6bGi0PZZdeaWkghSxa34RCJBrfPBJxCEQbHKh3E4gj8VCKFjdUInaR+jxUCjS4V/pdHPL5ncw/jeYc/Vu9XxdmrJ0/RzOfOTPz0ZlzIh4a/U9rEdlAvXN6x3EymUyxWCyXy57GHYFno95Bm+u62Ww2m83KCayvNnq76XS6/DV9u/6KJnHX1HqpPBdCecCe3C7kjgzzSkOuN8m6K0p8OkhkFotFKUM6nVYnhb6sJ/x6dqOmZ9XjfAX9rAzMwvd1IY+uAcaWeSBFi+6ZMUzEoYmZR4s5m2fm6J4fY0aLxG2cbKDJFseKlUDy9x4okRDxCJTsEql38JTP59UixWJRrYpefkZiPKsjxfqtkUR7zPHujryBHv2eezvB8VW/ZYaN/+D/hN8YhsM8kJKd7PLbdl9d/RJF48lKddRvNjDZg5XERuCP33rn5oGPe9Hj3cFQWCCRDRwUfyKv51giUq3LqRWRDdQHivJcHtrttp7L97fjkJJ4nv1qtZp+5kdv138aR7RISpwN9FRGqgrTf6yYxKESjh7zSsNziPuV+HTQI9NxHNd19ZsbPfzC+vkOi0C55sVpDra/v99zGNO+LuRxWjCNoYFeffT8bPz74+hD0282ME59pScfI2aLqKWlKtYLHJENNN/iuLEVSJ72O3HOwWSXSDlh/ftWjQBj5eugL2NYHQnrt0aTNUzQEAz06Pfc2wmOr1Qvsk4Z71VuQuQqwCgxQ2MeSMlOds/zY7PZLJfLuVxO/dSdz+cDfyomisaTleqo32xgsgcrCY/AH031F7ACfwuRTAhXokEICySygYPiT+RJiIdVoP7zJywbqLcjCHtpKyyLIUmKwBPVc9UJ227YjaZ8x7D36RJEl6ehsv4GVpw8C4bAsNLo+XJ6NJPTQY9M/++u3fBB2fQyB2404jXher0uLYZyuZz+w2/ERbqvC7nMPFm3awO9+kjtFNGwq99DE/MV4L4qQD20Io51xCmjot3zNSOygeZbHDe2AklP48peioifxJdI9SHNssbKyKujaBZvjRgm229wRz/m3k5wfD3vN8hW5MZGrYR6ZpisBFKCYJAZisViWM8VgW96EkVjyEoU9fUQYfJgFdH4yROB/mcuWXb8e6SZRGGBRDZwUPyJPP1tef/88tShPySEZQOj+xdTwrJ+ss6wZfVyerYry4a9fijLep6FTLKBir9PpclKcxxthpWGHh4JEg0mp4O+6cA+Wbrh3aVFbDc6cRDYO2Emk4n+KSxZNnCyGtsbBlIEvVqL2IH9HpqYB6XfClB/EcOz6Xa7vb+/r9/ch7287KmlI7KBhlscQxYDSW9K3/NYJ75ERlQXGJWRV0dxWLk1krOb2yoxuKPf197u9/h6XuLLZrNyYyMJaL0Cr9fr9Xo97OYH5iwGUl/B4ARRDQM9L4H5r1ZE0bixEkV9PUSYPFj1bBgUNpRC2A0SbAkLJLKBgxKYyIt4O0D+pGccwrKBUkdHVL56cw99Nvkw4okubB75POKLB85jmA3UX9bTpdPp8X8unQaGlYZhNtDkdIgTmWE/c8mF0P8baXT/zZKv8XNd1zDx5Jl5strPGgZShJgv0PV7aAaUDZR3c4Snd1edHpYS5/6UX3Q2MPEWx5PFQPKERHTCLs5RDpyHdMwYGnl11JOVWyO9dqI5hhjQ0e9rbyc+vio7o69fuoOQS5UntZROp+kDbhBsBVK/waDPk8/nPfPU63WphcIuakTR+LASRck6H0/wYCVx4nk40rubVBOe21G53ZqsPo4mSFggkQ0clMBEXlj6IOzECFxJ/AdLmU0WjzmygX9Bz3bL4QLXb5IN1K9Y6mnc83gW8cOFR61WywbJ5XLcBJswrDRMsoEmp0PMxSO675RlPddLCdo4N0bNZtNznxeYEUiWDZysa6phIIXRX8rr6+frnodG2hJGt8FMUAFGDOWmBpoI7GnOP3iIvwxhRU22xfFkN5D8fTYFMrlEeob2KpfLXJJGbtyqIw9bt0YT2pB80AZ09OPvbYu3vt2vKzHJPsuVK5PJ6A3Bxr9unzhWAilBMMifwu5C9efBmMPNEUWjYiWK4j8XGD5Y6Z/rdzIqjFX8yP2kvpTEOe1MByTsgJINHJSezfoCH+E8tbZhNtD/8BZz2cBCesZb6ElfYeJsYNige+12O3qIxkCe1u86rl4mzCsNORD9dhxrcjrEXDwiGyg3Q/qtmNxj9duvip6L8W+rrwSf5C/IBupDNyQeYTns0MQcRUR+B+r3eVv1Yyi/WxSLRfkK/riVjFJgNrlnNjDBFseW3UKWfYMLBzK5RHa/OdaeHEcuTCM0ttVR196tkWGnvUfYII5+/L09iFtfyT5LTSW3W9JjOC/oWWceSMmCIU6kyR1snDbpRNEIWamOBpENDPuROHBIa/WJelySX8X0vIf6hC4pByfsgD7iYLjy+fzq6qrjOHfu3Jmbm3Mcp9PprK+vO46TTqfn5+ctbuuJJ56wuDZdRFpNsfJFtre3t7a2HMfJ5XJra2v6n1Kp1LVr15566im1My9dutRut1OpVOJSHTt2zLzAMPePf/xjQGsexOlw/vx5NXHr1i1JwH366adq4sUXX+xrbZubmyrgHcd5//33PTEfX6fTKZVKavr06dPJVnI0VKvVs2fPqun9/f2FhYVk6zE8NF999VWy7c7Nzc3NzS0tLYXNoDdb+93vfqcmzp0712g0PHM+ePBATbTbbfXXVCrlrzP72uKUkJPo4sWLMRdJcIlcXFxst9vvvfeeuqg5jqMm8vn8yspKH8XFuLJVHVm8NXrvvffURDqdVnekGJyYe9vure/BwYF6xLh+/frs7KzjOHfu3HEcx3XdxcVFNc/s7Oza2lqpVNra2lpfX+95L42hsf4cpDt16pSauH//fvScRBEChT1YycPR//zP/6gIOTw8VJ/84Ac/cBzn3Llz6r93795Vt0PValV90u+jEyyInzhEX8LaE+kvBKlP5EV6f7be+pvCttoG9vr2XslelJNFIt6Zkt8lJqsN1BFjXmlIqPf7o9Bo3xTuaq3wPAOuOYnauusjuIX9qWeo681P+i3AaNktsL4fzLtjCzw0MUeHDOtTOTG5juj9Qjr9i/86auAWx5bdQIrfrNLKeecftsVW2KAv41kd2b01klWZNFQ8kgZx9Yyzt+0eX2mupdddqq2ZpzaTGp4monaZBJJJMPQc0qob++UGomjkrFRHw3xT2N8vmdwGe5aVh77A1oKwK+yA/oeD4Zqfn5eK++DgwHGc3d1d9d+f/OQncdaQoBWbLKL/GtlqtfpayZB/5/n888/VRDabjdi0/Ibw2WefDaNYGIyf/exnamJnZ8ffrCmCyelgxSuvvKImPv74Y8dxWq3Wzs6O4ziZTEb9gtoXaTEkjfsSUAVwHCdwhNwp0Wq1NjY21LSV1lWBh+axxx7zf+j35z//WU3Yan1z9+5dNfGjH/3IZD3//ve/h7zFI8zWJTKVSi0uLr755ptyc7y8vNzpdKysHCNhsTqyeGu0t7enJlzXTdxQETHF3Nt2b33feOONUqnkuu61a9fkQ2nnruP9mDFkEgzHjx9XE3HuqGXmQETRtDF/sEqlUvKGu2oE7Q2PAAAgAElEQVQVePv2beebr02oJ5SdnR2Vjnj77bcdx3Fd1+5bkoiDbOAIvPzyy2rirbfeqlar6jEyl8vFfJbQUwzSsNZP/uS6rr6INGX6+9//3lexU6mULCstfgcn5rt1jz766KBLgiE4c+aMTL/zzjvxFzQ8HcxJc/dbt245X+cEHcd56aWXEqxNzqyw8Rx6Ojg4kGzgCy+8kGwlk67Val2+fFlVrbZetAw8NHp2Lyz8Op2O3Dc//fTT5iXpdDryMqm8pOM4zv7+fsTgFZJaSqfT6pP9/f2Y50LYFqGzfolcWVmRYCMbOLnsVkcWb41ef/11NZG4VwrEF3NvWzy+e3t76tLTs+MCjCeTYJC3gD/55JOwBT/88EPPzH5E0RSy8mAlD0F3797tdDrqweTHP/6xzCA/LX/++eetVktdIqWBBYaJbOAISBvAnZ0d+bk4fodEjtbk54MPPgib5+bNm2rCc+chjythy0qR/OQsVTn+gXr88cfjbEsuZnoVg4mTSqUkW7G+vl4oFCJm7nQ6u7u78nhscjqYk9a+6gculRN0vpnfjEm6EHUc55lnnklQmGq1euHCBTWdy+Wmsx+oQaQCIw5Nz/CTvqICf97vdDr9NtO+ceOGmpBTRllcXFwK9+yzz6rZTp8+rT6Jn9cL2yI8rF8iT5w4YWU9GBWT6qjVavmzwLZujeSnaMdxnnvuufilQgLx97at49toNC5duuQ4Tj6f97S10XshwDgzCYYf/vCHamJrayvwx6RWqyW/U8rMHkTR1DJ/sPr+97+vJm7fvv23v/1NTetdmctT0rvvvisNKaSBBYYq/kvF6Et0X2OeN/jC+koLW4n+Sn9gBzTyzOa6rqezCb3jQn93Ep4WSRHbjeiKwv/Of4IOlfROB8I62dE74mE88hGyVWnoAxTkcjl/Pyntdls6OgnsDbPf08G838Cu1vVn2NBvQpUwrP8XkzGF6/W6XqtM6Jhu5oEkHdxE1Bthm052aPQQ8o+IrddR/mMqwRy/Mz45ytE9FfrF7PzO4hZHyFaNpMTfdckukbVaLawfHwnm+D08wpYRVkddrc7xxIatWyN5mDfvU/VIsluHxN/bdo9v4MOFqtI99bncxsT7QojLZJcaBoNEXeANYc/71S5RNDas7NL4/QZ2zR6shESgmvDfQ+ohSuQMQdgeZkzh0ZDRdpTXXnutr8Xn5uZyudyVK1ccx1ldXb1///7zzz+verB68ODBW2+9Ja8Kbm5uelqjzM/PZ7NZ1c7l7Nmz+Xz+3Llzx44dq1aru7u76tfLTCYT2CXE3NxcsVhcXl5Wy2azWdmu4zgPHz6s1Wq3bt3a2dnZ3983fKEslUrJtjzfUW3r7t278vJaPp+3+/onRuLGjRvSjOLKlStXrlzJZrPz8/OPPvrov/71r8PDQ2mf5Wi9dJmcDlb89Kc/VRNy1jz//PNhM6ugzWQyP//5z9WvZOrEkbPPcZxisRjRrO+dd97xdBV0+/Ztvd+6TCazubmZ8MtMuP/+7/+WXfHnP/95e3s7bM7jx497fs9Mdmj08Ltw4YLUiv46yn9M5TheuXJFL8z29va9e/cuXrx45swZFcn+kvz+97/vZ8f0MPwtHknJLpFffPHFpUuXXNddW1tbWFiYm5vrdDp/+9vfbt68qXZ+dKdRGFuJq6NGoyFXk88++0wf49vKrVGj0ZDLorQaxoD0tbetHN9CoaC2+Otf/9r/V/UAUiqVDg4OVC2k3rdwpruv4TFkGAy/+tWvVBhsbW397//+72uvvfbkk086jnPv3r3XX39dVU2u67766quBWyeKjir/Q4SQbvusPFi9+OKLajb1r97gwzODDJxt4/uhf/ETh+hLz/ZE+lmRbCU9O3EIa5vQbrf956Tium6z2fQ3v9LFeVnM0/Yh8WCLcaqGiRjj8mjr97BGaDabPbvMc13X3/402elgpW1gV/uBK3pVcXoDDBs/NE6nLa7rTvTg2hG7Lqawmi2Q/kO6yaHpuXhYHSXH1PPjfPSxVrV0v3smuoHbILY4Qs6I2gYq/V4i9cYdful0moaBI2EeRYmrI/3CFBh1hrdGcr5PaCvyITA/+iLB3jY5vvICUMTNgFyw0um0FG/i6vmJYB5IJsEgT3OBIo44UTRWrFRHcR4iPIGUOM+g6BcyJ+jtGf1txZ5rg7mwQCIbOChyCoVVi1JHR7w40DMNUalUAvtuyOVyPatj/xOLlETKFnGdCHz6dV03l8v5S9tsNmWG6FIFfsewJ+1sNstI5OPAeqURdtAzmYz/cqIv1e/pECcye57L3W53f39fNheRM1KFDLu3Czx3hLyC4T/pstlsPp8/AueCeSDF/2nRf8QTHxqlXC77H/7T6XTE/Y2Elidm6vV6YPyrAUCS7Rm5LQt8bBjEFkfIPJB0CV6y7vcSGVjjua7LW5wjZB5FJtVR2JvCwuTWSOY8AleNAbFYhyTb24mPr7oM9cw8ep7zs9ksSZxBsBJIJid74MWo5y/HRNFYsRJFYQ8RusDubhLnGbraT2JhLxT3nAEWhQXSTFe7UCkzMwEfYpx1Oh29j9i+hg6QseeTDTigD12fSqUG+jaTvi0naYExCIOrNPSDHvOIm5wOw0Q8+43J1cfk0LRarYcPH6rpY8eORfdgsLy8rN7WabfbgZXnMCvYUW1xEMYkkJw+9+ek1F1TYuRR1Gg04pyDXEoGYeRHX/R1fDudzh//+Mdvf/vbS0tLcfrPUSuf3Kp+/NkNpMQne18XF6Jo3Iy8OuLm5GgICySygQBMUWnAiqkKpL29PTVan3kvq/CYqkDCgBBF04yjDysIJJgjimBFWCD9x/CLAgDAlHv99dcdx8lkMqQCAQAAAAwZbQMBmKLSgBXTE0jSMLDZbDIeunXTE0gYHKJomnH0YQWBBHNEEaygbSAAAGNBNQwsl8ukAgEAAAAMH20DAZii0oAV0xNIqtdtemIekOkJJAwOUTTNOPqwgkCCOaIIVjCKCIBBodKAFQQSrCCQYI4ommYcfVhBIMEcUQQreFMYAAAAAAAAmHZkAwEAAAAAAIBpQTYQAAAAAAAAmBZkAwEAAAAAAIBpQTYQAAAAAAAAmBZkAwEAAAAAAIBpQTYQAAAAAAAAmBZkAwEAAAAAAIBpQTYQAAAAAAAAmBZkAwEAAAAAAIBpQTYQAAAAAAAAmBZkAwEAAAAAAIBpQTYQAAAAAAAAmBaPjLoAGEeFQuH+/fvHjx9fW1sbdVkmlfV92Ol0bty44TgOxwUAAAAAACQ20+12vR/NBHyIMddoNGQ6lUqlUimTtc3MzKiJer0+NzcXNlun0+l0OvLfiDmnUMx9GF+j0Th58qSaHrczlEoDVhBIsIJAgjmiaJpx9GEFgQRzRBGsCAsk3hSebNVqdXt7e2Zm5qTmxIkT29vben7Qur29vatXr544cULf7szMzO7u7kC3CwAAAAAA4tjb25v52tWrV6vVal+Ll0olffEBFRIjQdvACba9vb2+vh4xQ6VSWVhYSLDm6HZtGxsbW1tbg9juUULbQKBfBBKsIJBgjiiaZhx9WEEgwZyVKPIkDVzXLRaLMZfVn0AVW8+2GCbaBh41BwcH6qx2XTefz9dqtXq9XqlU8vm8zHP27Fn9TV4rtre3VSrQdd1yuVz/WqVSSafTg9suAAAAAABIwHVdx3FKpdLBwUHMRd555x19WRwxjCIy2crl8tLSkvx3bm5uYWHhzJkzZ8+eVZ989NFHFk/dRqMhPyzcuHFjdnZW3/Sbb77pOM7Ozo7jOO+9997Kyoqt7QIAAAAAgGReeeWVUqnkOM5bb721uLjYc/5Op6Oe/TOZzIkTJ9SyOEpoGzipFhcX2+22ngoUCwsLmUxGTR8eHlrc6L1799RELpfTU4HitddeUxP379+3uF0AAAAAAJDMs88+q9oJ7ezsxOnr/6OPPlITv/jFLwZbMowI2cAJFjFw8Pnz5wexxb/+9a9q4tSpU4EzPPnkk4PYLgAAAAAASGxtbU1N3Llzp+fMu7u7juO4rsuQAEfV5GUDDw4O1Ci6MzMzy8vLu7u70cPiVKvV3d3dq1evylA429vb0a/K7+7ubm9vS6u6RqOxu7srWywUCq1Wy7NIp9PZ3t7e3t6ObkB7eHioZrPbZC+ZTqdTKBRkz2xsbPTsQeC73/2umpC0oMeDBw/UxPHjx22V03M4ZBhlNarR3t6eZ/5qtbqxsSFfyj+DX4IgURLsQ/92l5eXZfFCoUCXiwAAAAAAu5577jk1sbq6Gj1ntVpVmQ1JIPbU77PteD7me0pVKBTUN9rY2Dg8PJzEtE+Urk/gh+OgVquFdYGXTqebzaZn/mazKS/M+rmuW6lU/Fup1+tqhnK53O12c7lc4OKeZZvNpvyp3W6HfQUpT+CmLZINFYvFwBkqlUrg98pkMu12W/5br9fDlvLv8G63KwOJ2PqCnsORzWYDj77a5+12O/CIZzKZsPUnCxIl2T6U7cq+8lNfNmxXOON3ho5hkTCJCCRYQSDBHFE0zTj6sIJAgjkrUSRP0OqxVB5+9/f3I5aS2dSDtmclHibPtmP1mO8plWcN5XJ53NI+MYUF0sRkA2u1mn7wcrlcuVzOZrOSH8zlcvr8zWZTTx1mMplisagW0Y+o//BIBBSLRTmK6XQ6m816lvWkw+QECDuv9AyR3Z3joe+rwNPVszPVV5Py6/vNv7g+m2cPyHDG2WzW1ncJPByZTEYvsNqifsT9M+Tzef/KEweJ4T7Ut5tOp8tf07frrzTJBuLII5BgBYEEc0TRNOPowwoCCeasRJEnkSctWtLpdNgi8uApz/UR2UDDZ9uxeszXs4H+ZKInRRiY5ewOMe0TX1hJJiYbGJb163a75XLZ8WWg9JDyJK08qWVPTlfPuTiO47purVaTv+qB5Yk8VQwnPEW9v78f9hUs2t/flxKGNQzUTyf9c3/ry+izXc4BPfUekaFPwH849CLJPne+TsB5WolKgtJ/oLsGQdI124eyZn/lpbc3jIjM3jtuuMawSJhEBBKsIJBgjiiaZhx9WEEgwZyVKPIn8uRxNbDlUFd7iJZ8WUQ20PzZdnwe86VUsoukpVez2VQzS1YnLJ06nLRPX8ICaTKygRINYXu82WzqOTsJO9d1wxpwhiX19Lj0N3/zrFz/XM8BB250EO1F6/W6ZN9zuZzeNi0sVy3R6Sm/4kn2hbUE1k8hPTdvPeJ7Hg5964GJSPk6nt1uEiQm+1C2G5Y2larNk8wlG4gjj0CCFQQSzBFF04yjDysIJJizEkX+RJ48bwY2rFPb9TzqhmUDrTzbjs9jvidHGZi30dM+0Z2n6Rmq0QoLpMnIBsZ8ud0/f1jjuG54QkePgMCj2/369HB8Wb+I7UrQBOaPEgvs1jCTyUTsKDmTw3aO/jJ82M8F3W63WCx6thtWm5joeTgkUxx2tksF5EmPmgSJyT6UZcOSwrKsp9YjG4gjj0CCFQQSzBFF04yjDysIJJizEkX+RJ7+rOqfX56v9UfdsGyglWfb8XnM10sVsbgkYfzzyPe1m/YxFBZIkzGm8NbWlpo4c+ZMX/P/9Kc/DZtHVlUqlfxjBCuzs7OBn0su2TNEzksvvaQmbt265VnkL3/5i5p45ZVXIkrer1OnTvk/3NraunDhwvLycuBwOevr62oibKTwsG+tOzg4UCOO61ZXV69evdpoNHounkxgwb73ve+piYsXL6ZSqZhLOWZBYrIP4y8rJQQAAAAAwNzs7Ky0X/NnDN555x01IQMQR7DybDs+j/m6sAFsHcc5f/68mvCnRD7++GM1YTftMyCPjLoAvenZpcA4iJg/Iimjr+rhw4d9FenixYuBQ0ovLi6qiZ2dnd/85jf61t999101ce7cub62FW1paamrtVVstVqff/75b3/729LX8vn8ysqKzKCnL+fm5pJtdGNjQ51jrutev359cXFxb2/v0qVLjuPs7Ozs7OwUi8WIk8euY8eOJVjKJEhM9qG+3ThjogMAAAAAYNFrr722s7PjOM5bb70lSQzHcQ4PD9Xn2Wy2Z+5loM+2w3/Mj29hYcF1XZVvOTw8nJ+flz9Js7ClpaV+Vzt8E5ANFBGjVideoYp1i3K53JUrVxzH+fjjj/UmhCp9lk6n9VixbnZ2dnZ2tlgsSsJudXX12WeflaSVpzFjArLmbDZ77do19eHS0lK73b5x44b6cWB5eblcLk/ECdCTP0jM96Gi8qcAAAAAAAyN3ozp17/+taQLpM1Tv417Ju7Z1jAX9Morr6h9dffuXcnwtFottc50Oh3nhcuRm6Rs4OnTp+2u8IknnrC7QkdrNXrr1i05hT799FM18eKLL1rfYqDNzU1pIvv++++vra1ZWe329rZabS6X86wzlUpdu3btqaeeWl1ddRzn0qVL7XY7TlvOMTeIIFE8A5z7DTRxDAAAAACYTvl8Xj2537lzR2UDO52OatyToA3TxD3bGj7mS8unt99+W97FlNeEh5b2MTRJ2cD19XVpjGbFIPplk1aj+svC8u59xLvr1mWzWXUyl0olK9nAVqsl/QL853/+Z+A8Kysrt2/fVhnxTz/99Ag0Dxxc5312gxkAAAAAgDikB7PV1VWVz/roo4/UJy+//HK/a5u4Z1vDx3zV9+LOzk6pVKpWq6rbRHlNOE6Xi+NgMkYR6UuCN8yTvZQeRjqMVLlhaS+ayWSG2V5Usu96F4d6P3dh/WWG+fzzz9VEdCcCkgj/7LPP+lr/MJkEick+PAKNJQEAAAAAE21+ft4zloiMifGTn/wkzhrG8Nl2mLmg1157TU188sknzjfTPmO4ZwJNQDZQT74cHh72nF/PuFWr1bDZ5E+u69pN0kmWXeWGpb2ojDg8HLKvZIxtRd5f/vvf/97XCr/66qs4sz366KN9rXYkDIMk8T5MpVKybJxgBgAAAADAOmkD+NZbb1WrVdWKKJfLxUxmjeGz7TBzQTIwsYwbof475LSPiQnIBjqOk8vl1ETgSL6KPnyMzP/BBx+EzX/z5k01YatPPSFZ9p2dnVarJe1FJVyGQN75dxznmWee0f8kZ2zYztnY2Aj8/PHHH1cTt2/fjtj0hx9+qCZ+/OMfxy7vCJgESeJ96GhNR6N3IwAAAAAAAyJtAHd2duQB9uLFi/HXMIbPtkPLBaVSKdnWwcGBpH30MZrH3GRkA2VojvX1dX+Kt9FoXL16VfrmcxznhRdekPkLhYJ/hYVCQb0o7rruIF7qlrdl33jjjfhDdPdlZmamUCiEjW+r9+L57LPP6n+S0ztwZ8qQwX5PP/20miiVSoF71XGcarUqi//whz/s8R1GyiRIEu9DRzscV65cifi9Ykx+XQEAAAAAHD16Pku1u+p3/JAxfLYdZi5I8lS//e1vVdpH9udEmIxs4MLCgqS3zp49u729Xa1WG41GtVrd3d09efKkZ3Doubk5OQyrq6syf6PRODg4uHr1qho9x3Gczc3NQbzULaOFSFbo+eeft76V1dXVEydObGxs7O3tqW93eHhYKpWWl5dlu8ViUX/V2nGc+fl5fWcWCoXDw8NGo6Ev6Hm5WEmlUsViUTat71W16UKhcPbsWTVDPp8f80G1TYIk8T5U25XdqAezfgSvXr36gx/8QHXfAAAAAACAdZLPUqQvvJjG8Nl2mLkgNYSso73D6tmf467rE/jhOAhLryiVSsUzf89Rrv2LdLvder0esXM8a67X62HzSJec0atKLHpvKMViMXDZdrst77p6uK7bbDbL5XLYF4yT7c7lcra+Zs/DITNks9nAGeS7lMtl/1+TBUnXbB92u918Pt9zN9Zqtb52xQiNYZEwiQgkWEEgwRxRNM04+rCCQII5K1HUM3ehP9UmW8kgnm1H8pif4Ilb/+6u68ZcasjCvs5ktA1UNjc3i8WiPwWTz+ebzaYa1Fl37dq1SqXiycopuVwucBFHG1MmLNcTOLOfnlaXfLlFm5ublUolLDeXy+Xq9XrYV1Ct/PwnbT6fLxaLeps+/xdcW1urVCphuchsNlur1Sx2xRj/cBw/fjzw829961sRSyULEsdsHzqOs7KyUqvVAnej67rq8HkaafcVmQAAAAAAKGG5i1/+8pdqIk5SL9BAn22H+Zif4Il7aWlJpqUXxUkxozKF3/hoJuDDsaIPGOJ5DTZQp9PR+9eLs8hk0XeI0+cXlGUT7BaT7Y4bkyAx2YfON3djKpWalPHIdeNfaWAiEEiwgkCCOaJomnH0YQWBBHOTGEXj9mw7hFzQ8vKyelO4Vqv11evi0IQF0kRmAwGMFSoNWEEgwQoCCeaIomnG0YcVBBLMEUXjr1qtqrET0un0m2++OeriBAsLpEl6UxgAAAAAAAAYuQ8++EBNvPjii6MtSQK0DQRgikoDVhBIsIJAgjmiaJpx9GEFgQRzRNGY63Q6J06cUNPNZlMfPGCshAXSI8MvCpTd3d0vv/yy36WeeuqplZWVQZRnQKbkawIAAAAAgCnx0UcfqYlMJjO2qcAItA0cmZmZmWQLTtbRmZKvOeWoNGAFgQQrCCSYI4qmGUcfVhBIMEcUjbmrV6/u7Ow4jrO/v7+4uDjq4oSibeDYyeVyCRrNhQ2wPbam5GsCAAAAAIApce7cuWw2+9RTT41zKjACbQMBmKLSgBUEEqwgkGCOKJpmHH1YQSDBHFEEKxhTGAAAAAAAAJh2ZAMBAAAAAACAaUE2EAAAAAAAAJgWZAMBAAAAAACAaUE2EAAAAAAAAJgWZAMBAAAAAACAaUE2EAAAAAAAAJgWZAMBAAAAAACAaUE2EAAAAAAAAJgWZAMBAAAAAACAaUE2EAAAAAAAAJgWZAMBAAAAAACAaUE2EAAAAAAA4Mja29vb2NiYmZmZmZnZ2Ng4ODgYdYkwYjPdbtf70UzAhwAQhkoDVhBIsIJAgjmiaJpx9GEFgQRzFqNoY2Nja2vL8yEhKvb29v71r3/9v//3/xYXF0ddFvvCAumR4RcFAAAAAAAAg1YoFCQVmM/nZ2dnP/zww2q1OtpSjY+Dg4NLly6p6WazOTs7O9ryDA3ZQAAAAAAAgCNodXVVTdTr9bm5OcdxlpaWRlqi/1+j0XAcR5VqVL766iuZfvjwod2Vj8MXDEO/gQAAAAAAAEeNykY5jpNOp8ctJ3VwcHDy5MmTJ08WCoURFuP06dOu6zqOk8lk7O6iMfmCYWgbCAAAAAAAcGSdPn161EXwkkZ59+/fH2Ex5ubmisXiINY8Jl8wDG0DAQAAAAAAgGlBNhAAAAAAAACYFrwpDAAAAAAAcER0Op0//vGPX375ZbvdVp/cvn1b/jo/P696yvOoVquffPLJ3bt3d3Z21CfZbPZnP/vZ4uJizy3GX7bT6dy4ccNxnHv37vnL5jjOq6++KgP7yhdxXXd+ft5xnEaj8f7775dKpVKp5DhOLpe7ePGi+pPf7u6uvmyhUHj77bdLpVImk3n11VdlKTVb4G7xrEFt/cqVK47juK77yiuvLC0teYYh7usLjtBMt9v1fjQT8CEAhKHSgBUEEqwgkGCOKJpmHH1YQSDBnEkUNRqNkydPRszgWXOr1XrjjTe2trYCZ3Zdd3Nzc2FhIfCv/S57cHBw4cKFiLKVy2UZ9Vi+iPqwUCjIEMm6fD6/srLi+dCz7MbGhl5I2Yq+rzy7xbOG3d1dlQf0qFQqib/gEIQFEm0DAQAAAAAAjohjx465rqtaz/llMhn9v61W6/LlyzJzJpM5f/78o48++tlnn62vrzuOoxrieXJeiZf9/ve/H134733ve/4P//Wvf0k6L51Oq0FRbt++rTa9urr66KOPBjZ4VDypwH4Fbl19Qcdxzp4922w2pblfsi84Al2fwA8BIAyVBqwgkGAFgQRzRNE04+jDCgIJ5qxEUb1eV5mfbDYbNo8kBzOZTLPZ1P/Ubrf11GG73ba4bLlc7lk2Kb/iuu7+/n5gAfybkGUlSyjLNptNmVnfRM+t12o1+Wuz2ZQ15/N5f+HjfMEhCAskRhEBAAAAAACYOtVqVTV5c113fX3d059dKpXa3NyUnNd7771na9kEXNe9ceOGpyNCfRMfffRR4IKq/WClUpFlZ2dnU6lUgq3rHRTOzs5ubm6q6bfffruvtY0DsoEAAAAAAABT5+bNm2pibW0tLEF2/fp1NeHJeZksm8Dvf//7wME31tbW1MQnn3wStmyxWAzr9zCmGzdu+Lcu6yyVSp1Ox2T9w0c2EAAAAAAAYOpIb3o//elPw+Y5c+aMmiiVSq1Wy8qyCczNzQV+Lim5iJ4BI7oUjClsFGBZM9lAAAAAAAAAjLVGoyHTYdkux3H0dn8PHz40X9YufROGCccELl68OOQt2kI2EAAAAAAAAMHS6fRIlo1jCAnHI4lsIAAAAAAAAII98cQTI1kWg0M2EAAAAAAAAMEiuuQb6LL96nek4GlGNhAAAAAAAGC6HDt2LPEiJsvapfdgSDYwPrKBAAAAAAAA00Uf/aNarYbNJn9yXVcWMVnWLtlEJpMZxPqPKrKBAAAAAAAAUyeXy6mJDz74IGyemzdvqom1tTVbyyawu7sb+PmtW7fUxPnz5w03MVXIBgIAAAAAAEydF154QU2sr68XCgX/DIVCQXX857ruc889Z2tZx3FOnz6tJm7fvh2nqFeuXNne3vZvYmdnR037NzFa/X7BIXtk1AUAAAAAAADAsM3NzeVyuStXrjiOs7q6ev/+/eeff/6xxx5zHOfBgwdvvfWW5No2Nzc9vfKZLKsWVxOlUml7e9t1Xcdx7t69e+bMmYWFhcDSrq+v3759+/r1608++eQ///nPDz74YH19Xf2pWCyOW6eBCb7gMJENBAAAAAAAmEZra2tffvmlSqtJcs2jUqkEJrBMlnUcp1gsLi8vq2Vl8XK5HLaes2fPlkqlUqnk+VM+n1e5tnHT1xccMt4UBgAAAAAAOLKOHz8e8ddr165VKpV0Ou3/Uy6XazabEW3ZTJZ1XV3mDKAAACAASURBVLdYLHo++d73vhc488LCQrPZzGaznvnL5fLKyop/fhnCODpRGDFbzDV4ZvYUL/4XHLKZbrfr/Wgm4EMACEOlASsIJFhBIMEcUTTNOPqwgkCCuZFEUafT6XQ68l9513XQyzYajcClGo3GyZMn1bTsjVar9fDhwwRbGaGwLzgEYYFENhCAKSoNWEEgwQoCCeaIomnG0YcVBBLMEUVOSDYQfQkLJN4UBgAAAAAAAKYF2UAAAAAAAABgWpANBAAAAAAAAKYF2UAAAAAAAABgWjwy6gIAAAAAAAAA3zA3N5fL5b788sv5+flRl+WoYUxhAKaoNGAFgQQrCCSYI4qmGUcfVhBIMEcUwQrGFAYAAAAAAACmHdlAAAAAAAAAYFqQDQQAAAAAAACmRXC/gSMpCgAAAAAAAABb6DcQAAAAAAAAmGqPBH7KyDUA4mO4K1hBIMEKAgnmiKJpxtGHFQQSzBFFsCLs9V/aBgIAAAAAAADTgmwgAAAAAAAAMC3IBgIAAAAAAADTgmwgAAAAAAAAMC3IBgIAAAAAAADTgmwgAAAAAAAAMC3IBgIAAAAAAADTgmwgAAAAAAAAMC0eGXUBMDKFQuH+/fvHjx9fW1uzssJOp3Pjxg3HcSyuEwAAAAAAABbNdLtd70czAR/i6JmZmVET9Xp9bm7OfIWNRuPkyZNq2jyEGo1GKpVKpVJ9LSLTVr4RYhpcpdFqtR4+fKimj94x1SO232g/kqwH0uD2cKfT6XQ68t84wZm4MAm21ZN+Zh07dmx2dnZohUlQt/eL2xiYG58oGlA9NoiK5ciwfvQN93Zfi6uAiVmxt1qtP/zhD47jXL58mZsQ6+wGElE0ncbnYoSJFhpIXZ/ADxGoXC7Lnkyn05VKpa/Fi8WivviAChlGNl2v162ssF6vR8RVfPv7+67rxi9bvV7PZrP+2M7n8+1226QkiMl6pdFut/P5vISBfpqUy2W72xq+SqUSGLHZbDYi4PXqwiOTyeRyuX7rnzFkK5CS7eH4K89kMoFHodls2i1MuVxOp9P+ZXO5XOIvUi6XA8+snvFjXph+6/bEEgdSrVZTxXNdN/ryIVf/TCaTbFsYc7aqIz/9PMrlcmGzDa4eG0TFcsRYPPqGe7uvK47nPiGdTtdqtej1q7IN/xlkStgKJKJomg3uYoSpEhZIZAONeG7UXNeNv6yeO1OGfBNmfbvm2cBms+m5XPUsW6VS8V/e9CMS+HwOu+xWGhFpLzmsk5v5Cny604V9tZ4Lqj0z0dlSK4GUeA/35K+gPPw736Qw0dtK8EWazWbg44TI5/MDKkyCut2EYxBIkq+M2Bv6bBN9xiGCSRRFyOfz+omQzWYDZxtcPWa9YjmSbB19k73d7xUnl8upzzOZjB4/EZWtLMKt8oBYCSSiaMpZiSIgLJDIBhqRilIeDPb39xMvO+XZQL2hZcyy6anAbDZbqVTq9Xq9XtfTSX2laJGMxUrDc9eSy+XKX/M8Hdna4jDt7+9LWObz+VqtVq/XK5WK5/kwsFGSfP10Op39Jk9Tr3Q6PaH3ZOaH1WQPR2u327KfXdctFotq5fV6vVarFYtFf8NVK4dbZXjrX6tUKnpGr68vIgvq66zVavqZFZjbMixMgrrdkEkg6aXt+Y24vhxhg7jKyG2SVCaB2cDB1WODqFiOJCtH32Rv93vFkdCSx5Bms6nWENZ+WZpC85PG4JgHElGEQVyMMIXCAolsoBGpo+UWLWYz6Xa7rebXf3uZ2myg3mJFXe1ili2iEYdcwLhEDYGtSkN/1Mnlcv6bm3a7LaleK1scMvWMFxiQemq7WCz6Z5CKInBxz/vyPd9zHE/mh9VkD0eTPHUmk4m5bxMXRq9LAxO7UmFGt1/TyYkT2GJaTj1/esukMInrdkOGgSTXjrA44eIyDQZxlZFqRGqAiGyg9XpsEBXLUWV+9A33dr9XHFWHeypwqfYD76aiszywwjCQiCJ0yczAkrBAIhtoRE/k9dXET+pWvV+Yqc0Gyh6QBFCcssmP52EZWJpvDI2VSkN+YOz5KNJsNsPerhp/ETdkct8W+O2is4GKnBQTenNmJZAS7+EI8gTeb2WSrDBSd4X1KSYHOv4XkStU2CtF8lDhaeFuUphkdbs5w0CKvnYkDgZMFivVkU4iRzXwiT6FB1GPDaJiOarMj77J3k5Qyaio8KxKbqv89a2qnCf0h8MJYutiRBRNM+sXI0ynsED6DweWrK2tqYk7d+70nHl3d9dxHNd1FxYWBlusCZFOp+v1+traWvyxqN59911ZNnCGpaUlNVEqlQ4PD80LiYH63e9+pybS6fTKykrEnLOzs9euXRtKoeyLiPDz588brnxxcVHuHbe2tqrVquEKJ9Eg9vDOzo6a2NzcHEJh/vrXv6qJU6dOBc7w5JNP9lWMRqNRKpXUdNhF58UXX1QTf/rTnywWJkHdPnJLS0sqeVoqlfb29jx/lWD45S9/OeySYZJtbGw4jpNOp+XmJMIg6jHrFQsimOztBFecra0t/4fHjh0LnPng4GB9fd1xnOvXr09QzTyFiCIAg0Y20JrnnntOTayurkbPWa1W1YOZJBB7qlaru7u7V69enfna9vb2wcFBzwU7nU6hUJAFNzY24izl2e7y8rIsXigU9PHprbh8+fKbb74ZPdS9R6fTkYtWREZVfkL/4osvTEqIQWs0GnLjEj3QQbQEZ8ru7u729rbkixuNxu7urlp2eXm5UCi0Wi3PIp1OZ3t7e3t7WzIsgQ4PD9Vsw0xGLy0tyQ68efPm0LZ7hLVaLRWc6XR6OL/ffPe731UT8iTg8eDBAzVx/PjxOCu8d++emogYmkC+mrq/t1KYBHX7mJBM3+uvv65/Xq1WVTC4rhud00lw9Ww0Gvr1+urVq4VCodFoGH8bjF6pVFLXC5MLnCHrFQsiJN7bg77itFqtCxcuOI6Ty+UWFxetrx8WEUUABi5+M0L4eV7yldxT9FgiMptqWR39pnD0aFDRg6uGjber+o+Q/4ZtN+KeNaznsoi46kt02fRtRXfUKJ1hhbWxhxXmR1zv1CzZGpKdKRJIKqRlZDQPz7LNZlP+FOd9rphDNMr8CfoN1Okn/mS9vmEeSNGi93AYeRPHbl9aEYXRj2B0V0ExQ0tajEa/ABgYNnYLI6sa5zeFlcDOAeXLRpyGCa6e3cix1Gu1mvnXQb8sVkdyyZATsOebwhGS1WPdAVQsR5j50U+8t5NdcdTaPOEkYabXtyp+6OhgOAwDiShCl8wMLAkLJLKBRjyJPKm1I1JU/lvAiGygPhSG4ziZTKZYLPoHVw28b9N7YXNdV409qnfoLn+N3q4acMo/qKv/kWaY2cCYD7cxZ4Mh8yMujzfJEi6JzxQJ2mKxKGWQQXv1ZT33YWGdrAk94R7nK+gnbGDYx88GdrUzaLIe6swDKULPPRxGcsTxh4w3L4xeV3tiT37kiF+tSU0Y3ZtkWJEsFibZIeiXlUDy9x4oRy3iESjZ1VPv4Cmfz6tFisWiWhVjlYyExepIjr6cPomzgYnrMcVuxXKEWTn6yfZ2siuOWips/Af/J/zGMBzmgUQUweLFCNMsLJDIBhrxJ/J6jiUidbc8pUdkA/XRoDzXgHa7rbeE8rcAkpJ4Hv9qtZqeN4nerj81E9HsaJyzgZM4osIEsXjEkz33Jj5T9KBV90D6zY3+YO85F3qGlvwwG6dd6v7+fs9hTPvKBsZpwTSGBnf1ibOHw3iq6GazWS6Xc7mcShnn8/l+U65xCuNJcKvjqDeA7atO0zMIEbOFVbwWC9OzbrfCViB5hl6Jcw4mu3rKCevfLWrECStfB32xFUVy3PWTPVk20KQeU+xWLEeYlaOfbG8nu+JImEn2R8Z7lZsQiTrGjB4a80AiimDrYoQpFxZIZAON+BN5kuwLqyXVX/UfXsKygXpjgbDX/cJSFZKJCGzC4Lm0hG037KZQvqPnZnSY2cCYrwBbLBIiGO7enu+tRzM5U/QI8f/u2g0flE0vc+BGI14Trtfr0mIol8vpP/xGZBn6ygbKzJN1u2brPE22hyNKJTVe2BugEZ02JC6M5+V3fdP9dn2gh2vERiNOQ1uFMTnT+9qKlfXoSX/ZhxENAxNfPWWvWik2rLAVRerq4wmbONlAu/WYsFixHGG2jn6CvS0z9HvF8bzfIHPKjY1aG/XMMFkJJKJoytmqjjDlwgKJbKARfyJP71DMP788WuhPAmHZwDhdw4Rl/WSdEQ1PpJye7cqyYQ+3sqzngWeY2cCYmRGygcNhuHv1w5QgR2BypuibDuyTpRvSmVr0dqMTB4G9E2YymegXOpJlAyfrnS9b52myPRxRKj/1A7unnXVgnWlYGH93cskyvPqbqp5Nt9vt/f19/YEh7DQ0L0zPTVhhK5C632xl3/METHz1VB/SB9NYsRJFctfnCYk42UC79ZiHrYrlqLJYh3T73Nv+g+7EvuJ4ejjJZrNyYyM/Reh1b71er9frYTc/MGcxkIiiqWW3OsLUCgsksoFGAhN5ER2KyZ/0tEJYNlAq4ogaVm/xoc8mH0Y8cYXNI59HfPHAecgGTi3D3WuYDTQ5U+JESNjr/5Jh9P9GGt1/szwf+rmuG/aklywbOFltPWydp8n2cESpRD6f94RBvV6XPFFgNsekMPqLgbp0Ot3vmSLv+whPZ7K6wJVbKUz0JmyxFUhd3+GLTtjJbP3OI0eBjMz4MI8iue74U35xsoF26zGdxYrlqLJYh/S7t/V5Elxxul9nZ/QHDeksQu4fPKmldDpNH3CDYCuQiKJpZrE6wjQLCySygUYCE3lhOQKpRj03f4EriZ/Gktlk8ZjDF/gX9Gy3HC5w/cPMBspv5tFNn/oqUq1WywbJ5XKTNTDr8BkecZNsoMmZEnPxiJ49ZVlPIlJus+LcGDWbTc99XmBGIFk2kH4Du7H3cESpoo+mXuX27EMwfmH0m3X15O/JDvTbcVjEuNtq8IqI3utsFSbwNLTObiD5+2wKZHL19Iz6VS6XueiMnHkU+QcPEQn6DTSsx4T1iuVIslWHJNjb8icrVxxFhY00SZZb6EwmozcEIxdsnZVAIoqmnGEU8XgLJSyQyAYa6dmsT/9cZvZUzYbZQP/zW8xlAwvpGVShJ32FYziKiGRm49xwe9rG67i2RbN4xPtt72BypsRcPCIbKDdD+q2Y3GP126+Knqnxb6uvBJ88MZIN1EXv4YhS9VxEIiH+83l0YeSvnrqr3W7rNVWC46s6I5PbwWKxKE8CYeeCxcIMp1K1G0hl3+DCgUyunl3taiX8DTowTIZRJBnewDoh2SgiSrJ6zLOs9YrliLFShyTb23EObl9XHLUt6fpNYk9ut6QzccaQsc48kIgiGEYRj7dQwgLpkbD4gIl8Pr+6uuo4zp07d+bm5hzH6XQ66+vrjuOk0+n5+XmL23riiScsrk0XUX0odr/IIHz11VfxZ474OseOHbNRHPT2j3/8Y0BrHsSZcv78eTVx69YtScB9+umnauLFF1/sa22bm5tbW1tq+v33319bW0tWqk6nUyqV1PTp06eTreRIsrWH/U6dOqUm7t+/b16Y7e1t9adcLucpZCqVunbt2lNPPaUuMZcuXWq326lUKn5R5+bm5ubmlpaWwmbwvI400MJMBDmJLl68GHORBFfPxcXFdrv93nvvqZ3pOI6ayOfzKysrfRQX4+F3v/udmjh37lyj0fD89cGDB2qi3W6rv6ZSqZjnTuJ6jHN5mAa6t+NfcQ4ODtTTx/Xr12dnZx3HuXPnjuM4rusuLi6qeWZnZ9fW1kql0tbW1vr6Osd9fBBFMMfjLXqInziEX1ijIf2tH/WJ9K3g/8XV+pvCttoG9vr2XsNsGxg20qtH2ACOsMv8iMtZ0G97utG+KdzVWuF5BlxzIvsx7Lktf2DHbxsoZ4f5cRmyIRQ4Yg/3XCTibZqYrZXjFEYf4iniJQ4JM1uteOSypfc1ab0wPet2K+wGUsxmXLaugP5BXbh+jYThcXT6F/+lrQT12KgqlgllePRN9rbFK44019JnU23NPAtK/U9bIbtMAokogmJYHQFKWCD9R4L7FfQ0Pz8vtfPBwYHjOLu7u+q/P/nJT+KsIUG2XhZRrRGVVqvV10om5cecxx57TE1IG6hAf/7zn9WEvk8whn72s5+piZ2dHX8ziggmZ4oVr7zyipr4+OOPHcdptVo7OzuO42QyGfULal/kF7zowI6mCuA4TuCQlFMuwR4+fvy4mogTmTJz4sJ8/vnnaiKbzUZUyNLy9LPPPou/xQh3795VEz/60Y9GXphJZOvqmUqlFhcX33zzTfk1a3l5udPpWFk5xtm///3vmHMmqMc4l4fJZG9bvOK88cYbpVLJdd1r167Jh9KwVEcToTFEFAEYArKBg/Lyyy+ribfeeqtarao7tlwuF/OBQc8jVKvVsNnkT67r6otIe6W///3vfRU7lUrJsoeHh30tO0x6di9s/3Q6HblcPf3008MoFpI6c+aMTL/zzjvxFzQ8U8ydO3dOTdy6dcv5OifoOM5LL72UYG1y0oWN9tDTwcGBZANfeOGFZCs5whLsYXmb5pNPPgmb58MPP/TMnLgwMfs3ePTRR+NvqKdOpyMvqMqLP6MqzISyfvVcWVmRwCAbOHH29/cjBpORVG86nVaf7O/vx782JajHOJeHyWRv27ri7O3tqXvgnh0XYDwRRQCGgGzgoEgbwJ2dnY2NDTUdv9chR2vX88EHH4TNc/PmTTXh6U5CnknClpUi+Ulbp9u3b8cu7Aj03D/vvfeemoj+VQ3jIJVKydPR+vp6oVCImLnT6ezu7srjscmZYk4aAu/s7LRaLZUTdL6Z34xJehd1HOeZZ55JUJhqtXrhwgU1ncvlaBLr0XMPdzodf3vqH/7wh2pia2srMCnTarXkhweZOXFhHn/8cTURXQPLffyPf/xj/5r7bRV+48YNNSGnoa3CTBXrV88TJ05YWQ+Gb3FxcSncs88+q2Y7ffq0+kTPwkfrWY+1Wi1/TcW5PEwme9vKFafRaFy6dMlxnHw+7+k1TO+FAOOMKAIwDPFfKoZfdIdintf0wjpEC1uJ3glR4HhP8tjmuq6nRwm940J/nxGeH5MjthvR34R/0Pph9hvo2Zx/IFq96zQ6sBg0W5WGPnxBLmjk+3a7LR2dBHaU2e+ZYt5vYFfrFTRs6DehShjW/4vJmML1el2vcCZ0TDcrVUfiPSyhpXecp8iNb+CODTvuyQojY1KHxXP3m/Wbp3vKiG8RRiLH3weZYWH8Iva/ReaBpIs//Guyq2etVgvro02qxPg9ysEWu1HkER1UJvWY/NUTVNbP5aPN8Ogb7u1kVxz/GgKfO1SF76nt5TYm1tdDbCa7lCiCwi6FFWGBRDbQSHSaQK+jnaCMVc+V6I/32Wy2UqnU6/V6ve7pYjzwqUNv1J3P52u1Wr1eLxaL8nQhVwL/dqVC92y3Xq/XarVisai27vlGibOB9Xrd8xKNXnL98zj7p1ar6c1bwq6gsMhWpSF9FeuHtVgslsvlYrHoeU9Bf1JKfKZYyQbqPT1HnJJdLRWSyWTK5bJ+TulfPHDQAH2glew3eXbahKYCu5aygeZ72F8M/feVdDq9v7+v1lwul2W1rut67sUTFya6Bo6u38K+RTabTafT+Xxe1uYvSWCEmxQmcd1uyDyQdPGzgd1EV0+1W1zXLRaL6hC02+1KpRLnaQ2DYzeKPHpmA5NVHfoVzb9mk3N52pgffZO9neyKI2Tl0c8mUgu122212vi/ISEmw0AiitAlMwNLwgKJbKCRnmkC/b4t2Up69tQQlneQetlP1f7+NlY6z/tigTwNHBJnA+OPdRDxM3ggrknD0e8Rj9BsNnt2hOS6rr9parIzxUo2sKv9Bhu9qjh9PIWNHxqn0xbXdSd6IMiIXReTlT0c+HyuZ7IC97z/ltqkMHFqxcD6LexbRMdPxCOBSWFM6nYTzuiygd3+r56eHw490uk0DQNHwm4UeUQHVeKqIzob2DU4l6eNlaNvsrcTXHEUyQFF3AxIgKkfF3uuE4mZBxJRBPMoArpkAwdEqr+wuk8q4ogfWnvmGiqVSmAHDblcrmed638skZJI2SIuBoG3pK7r5nI5f2mlhZT/dbNo0ZcrfbuBD0X6z1winU5HvKgFu6xXGnq7GF0mkwlrY9tNdKbECdqep3m3293f35fNheV3pJBh93aBp5XQfyL2nBfZbFa1/43Y7kSwEkiJ97Ac6LAjGFglRmdgExemG34WOI6TzWbDDnfYt6jX64FrU4MYRBTDpDCGdXtizkizgd3+r56Bu9d1XZpojZDdKPKQoAp7jE9cdYS9KayvOcG5PG1sHX2TvZ3gitP9uhVCz1cEPL8PZbNZkjiDYCWQiKIpZ6s6wpQLC6SZrvZKgjIzE/AhRq7T6egdwfY1PoAMMJ9sVAF9fPpUKjWeI3K0Wq2HDx+q6WPHjtkdNxbRBldp6LEXM3pNzpRh0r+aM8blHCa7gdTvHl5eXlaDv7fb7YhaLlmAmRzuvpbt+S0M6/OJiNvxuY3pa29PSt01JcYkihKccY1GI86pPRHn8qhYP/qJ93Zf1UKn0/njH//47W9/e2lpKc5tsCrV2N7YHwGjvasRRNFEG5OLESZdWCCRDQRgikoDVowwkPb29tTYefv7+/EH9xw3R+NbmKNGgjmiaJpx9GEFgQRzRBGsCAuk/xh+UQAAGCuvv/664ziZTGaik2hH41sAAAAAGDTaBgIwRaUBK0YVSNKkrtlsTm4nA0fjW1hBjQRzRNE04+jDCgIJ5ogiWEHbQAAAAqgmdeVyeaKTaEfjWwAAAAAYAtoGAjBFpQErRhVIqg/sSe9E/2h8CyuokWCOKJpmHH1YQSDBHFEEKxhFBMCgUGnACgIJVhBIMEcUTTOOPqwgkGCOKIIVvCkMAAAAAAAATDuygQAAAAAAAMC0IBsIAAAAAAAATAuygQAAAAAAAMC0IBsIAAAAAAAATAuygQAAAAAAAMC0IBsIAAAAAAAATAuygQAAAAAAAMC0IBsIAAAAAAAATAuygQAAAAAAAMC0IBsIAAAAAAAATAuygQAAAAAAAMC0IBsIAAAAAAAATItHRl0AjEyhULh///7x48fX1tZGXZapY33ndzqdGzduOI7DAQUAAAAAABFmut2u96OZgA8xDhqNhkynUqlUKmWytpmZGTVRr9fn5ubibL3fjeoFjrOJ6dHvzu+p0WicPHlSTQ///KXSgBUEEqwgkGCOKJpmHH1YQSDBHFEEK8ICiTeFJ0C1Wt3e3p6ZmTmpOXHixPb2tp5uG5yDg4Pl5WW10ThbbDQa/gLPzMwUCoVOpzOEAgMAAAAAACAQbQPH3fb29vr6esQMlUplYWEhwZrjNE9rtVpvvPHG1taWfNKzLVu1Wj179mzYX13XvXHjxuzsbIICHyW0DQT8CCRYQSDBHFE0zTj6sIJAgjmiCFbQNnAiHRwcqFSg67r5fL5Wq9Xr9Uqlks/nZZ6zZ88OqMHd3t7ed77zHT0V2JOeCsxms5VKpV6v1+v1YrGoPiyVSpcvX7ZfVgAAAAAAAMRANnAClMvlYrG4srIyPz8/Nze3sLCwsrJSqVRkho8++sjuFlut1tWrVy9duuQ4juu65XI55oIbGxtqIp/PX7t2bWFhYW5ubm5uznXdZrPpuq7jOKVSaW9vz26BAQAAAAAAEAfZwLG2uLjYbreXlpb8f1pYWMhkMmr68PDQ7nb/8Ic/7OzsOI6Ty+X+8Ic/BBbA7+DgoFQqOY6TTqdXVlY8f52dnf3lL3+ppl9//XWr5QUAAAAAAEAsZAPHXcQYvufPnx/cdtPpdL1eX1tbiz+I8LvvvivLBs4gWcVSqWQ9gwkAAAAAAICexjQbeHBwoAalnZmZWV5e3t3drVarEfNXq9Xd3d2rV6/OfG17e/vg4CBikd3d3e3tbclJNRqN3d1d2WKhUGi1Wp5FOp3O9vb29va2agEX5vDwUM02DgmvTqdTKBRkz2xsbETvFuXy5ctvvvlmX6NbdDod6WEwYlQTac/4xRdfxF95BM9xlPGXZ2Zmrl696n8luVqtbmxsyN6I885yguhSku18z3aXl5dlcQZlBgAAAAAApro+gR8OTa1WU73L+aXT6Waz6Zm/2WxKgsnPdd1KpeLfSr1eVzOUy+Vut5vL5QIX9yzbbDblT+12O+wrSHkCN22RbKhYLAbOoPctqMtkMu12W/5br9d7bqvnzLJL0+l0xHpk/JNcLhfnO0bzHMdsNhsYNupgtdvtwFDJZDJh608WXYrJzm82m2HtK+XLhu0KZxTn70g2iqOHQIIVBBLMEUXTjKMPKwgkmCOKYEVYID0SlnEYicPDwx/84Adq2nVd13VPnTr12Wef3b59u1Qq7ezsnDt3bm1tTeZvtVqXL1+WlnqZTOb8+fOPPvroZ599pobiLZVKpVKpUqmEtVb717/+tbGxoRq1pdPp06dPO46jlnUc5+zZs81mc3Z2Vv13dnY2nU6rDvX+8pe/LC4u+lcYs4mcucPDw+gNHR4eyvC+rutevHjRcZx79+7t7OxsbW1Ft7VM4N69e2pC7cMwsjO//PJLi1vXj2Mmkzlx4oT6po7j7OzsnD59+tVXX5VQ8cywtbX1zDPP+Ds6NIkuk52vbzedTr/88svqc9nupUuXyuVyzM4cAQAAAAAAviF+4nAIpFWgv+GYGtY2m83qH0q7rUwm42k26GkI5mnKpzekchzHdd1arSZ/ldFvHcfJ5/P+YjjhDcr29/fDvoJF+/v7UsKwhoEyg6eo/taXVtoGyp7xHKOw2SJa5MXnP4568fShkNVX9jQvlYaK/gjpGkRX12zny5o9sdf9ZnvDiJDuveNsG8lGcfQQSLCCQII5omiacfRhBYEEc0QRrAgLpDHKBkruJuxV02azqefsJDPium7Ye7thST09deK6rv8FZH3l+uf6O56B7YEsIwAAIABJREFUGx3Ea8L1er38tVwuJ++Quq4b+NJoV0tKesqv6OnOwISUX8+ZY74CbDdp1fM46u/bBuYfZT94jpdJdJnsfNluWLZU9rMnC0w2EEcAgQQrCCSYI4qmGUcfVhBIMEcUwYqwQBqjUUQ+/PBDNfHaa68FzjA7Ozs/Py//vXnzppqIGPf2+vXrauLtt98O2+6NGzfk9VUh736WSiV93IZUKiX5vo8++sizlLwm7LquxdeE33///Utfu3Llinq/NZPJXL9+Pex10T/96U9qQn+xWszOzt64ccNW8ZT79++riVOnTtldc0yBx1Fes3VdV14A173yyitq4v/+7//0z02iy2Tnf/DBB2riF7/4ReAMcsQ/+eSTsJUAAAAAAACEGaNsoPSCd+bMmb7m/+lPfxo2j6yqVCr5xwhW/CkkRRpweUZxfemll9TErVu3PIv85S9/UROSY7IiML+2tbV14cKF5eXlwGFqJfMVlpQM+9aTK/Abfe9731MTFy9eDEzqhe0Hk+gy2fnxl5USAgAAAAAAxDcuo4g0Gg2ZDmuKFTZ/RG5FX9XDhw/7KtLFixdlBAmdDB6ys7Pzm9/8Rt/6u+++qybOnTvX17aiLS0tdbV3dVut1ueff/7b3/629LV8Pq8PgqGnL+fm5iyWJMLx48fVxGeffTY+A1wcO3YswVIm0WWy8/Xt7u3t9bUsAAAAAABAHGPUNlDRO3obzxU6jpPL5dTExx9/LB/Ka8LpdFp/o9m62dnZxcXFYrEo7yyvrq7qiSRPY8bhiPmC8IMHD9RENpsdZHGGxB9dtnb+pXBW1g8AAAAAAKbTuLQNFKdPn7a7wieeeMLuCh3HOX/+vJq4deuWvFD86aefqokXX3zR+hYDbW5uyuui77//fmAvdePmq6++GnURbBpEdCk9s6UDzTgDAAAAAICjauyygevr69euXbO4wkF0r7awsOC6bqlU0l8Wfuedd9RfI3qasy6bzaqe5kql0mizgY8//riauH37dsQRlP71jkYya3Cd99k9CwAAAAAAAJSxe1M4pgT9wSXrQi6MjBOiXhZutVoy1O8wB+iQnJrexaHeXV3Y2CnWPfbYY/6S+P35z39WE0Pr0DABk+gy2flxeswEAAAAAAAwMS7ZQD2Hcnh42HN+PeNWrVbDZpM/ua5rN0kn44SokYWlA0EZcXg4ZF9JH4KKvL/897//fTgl0Y9g2BGRrhUdx3n66aeHUaxEDKMr8c5PpVKybJyzAAAAAAAAoF/jkg10tKE5IhqX6WNlyPwffPBB2Pw3b95UE9bfop2fn1cjSOzs7LRaLZUTdBznzJkzdjcUodPpqNeEHcd55pln9D9JUils52xsbFgvT88j8t5776mJbDY75u3gTKLLZOdLm9Pbt2/HLiwAAAAAAEBcY5QNlKE51tfX/Q2yGo3G1atXpW8+x3FeeOEFmb9QKPhXWCgUVEs013Wfe+456wWW0ULeeOMN9Zqw9STXzMxMoVAIG6ZWH2ji2Wef1f908eJFNRG4Mzc2NgbR4Z1+RA4ODjx/rVarq6uravrll1+2vnW7TKLLZOfLcbxy5UpEs0RaDgIAAAAAgGTGaBSRhYUFGRPj7Nmz2Wz2+eeff+yxx/75z39+8sknV65ccb6Z/5qbm8vlcurz1dXV+/fvq/kdx3nw4MFbb72lMnSO42xubg6iJZqMFiLJneeff976VlQGLZPJ/PznP1cDLj98+LBWq+3u7kojymKx6OmGb35+Xt+Z+Xz+3Llzx44dq1arsmAmkwlLSzUajXv37gX+6c6dO/qflpaWZFo/IhcuXJAj+PDhw7t370oqMJ/Pj3OngYpJdJns/Lm5uWKxuLy87HzzLFB/VYf+1q1bOzs7+/v7i4uLA9wFAAAAAADgSOr6BH44NJ7+7zwqlYpnfj0/GHORbrdbr9cj9oBnzfV6PWwe9bJwz1UlFr03lGKxGLhsu92WV1Y9XNdtNpvlcjnsC8p7sj35l40ucy6Xs7h/eh5HmSGbzQbOIDuhXC77/5osurpmO7/b7ebz+Z57vlar9bUrBmokG8XRQyDBCgIJ5oiiacbRhxUEEswRRbAiLJDG6E1hZXNzs1gs+jMp+Xy+2WwuLCx4Pr927VqlUvFk5ZRcLhe4iKONABuWsgmc2e+1116T6WKx2HNV/drc3KxUKmG5uVwuV6/Xw75CKpUqFov+vFI+ny8Wi/qoF/4veOrUqTjFc13X3+hyc3OzXC77S5VOpyuVit0OHOMfx+PHjwd+/q1vfStiqWTR5ZjtfMdxVlZWarVaYF7VdV113GU4ac964oQ0AAAAAACYWjMqU/iNj2YCPhw+fcCQOC+WdjodvX+98X8XtV/6DnH6/IKy7DB3S6vVevjwoZo+duyY3TGdh8wkugx3vn7cU6nUeI6+MiaVBiYdgQQrCCSYI4qmGUcfVhBIMEcUwYqwQBrfbCCASUGlASsIJFhBIMEcUTTNOPqwgkCCOaIIVoQF0ti9KQwAAAAAAABgQMgGAgAAAAAAANPikVEX4Ijb3d398ssv+13qqaeeWllZGUR5xg37BwAAAAAAYJjoN3CwZmZmki04JYeA/XM0UGnACgIJVhBIMEcUTTOOPqwgkGCOKIIVYYFE28DByuVyCdq+HT9+fBCFGUPsHwAAAAAAgGGibSAAU1QasIJAghUEEswRRdOMow8rCCSYI4pgBWMKAwAAAAAAANOObCAAAAAAAAAwLYLfFB5JUQAAAAAAAADYwpvCAAAAAAAAwFQLHlOYvioBxEcHt7CCQIIVBBLMEUXTjKMPKwgkmCOKYEXY67+0DQQAAAAAAACmBdlAAAAAAAAAYFqQDQQAAAAAAACmBdlAAAAAAAAAYFqQDQQAAAAAAACmBdlAAAAAAAAAYFqQDQQAAAAAAACmBdlAAAAAAAAAYFo8MuoCYGQKhcL9+/ePHz++trZmZYWdTufGjRuO41hcJwAAAAAAACya6Xa73o9mAj7E0TMzM6Mm6vX63Nyc+QobjcbJkyfVtHkINRqNVCqVSqVizt9qtR4+fKimjx07Njs7a1gAxDe4SkM/rFaiFOPMeiA1Gg2Z7qs+6anT6XQ6HflvnOBMXEfp38LWWZCg/IaLD7OK5jYG5sYnigZRAziDrB6PAOtHf5gVoDqyMbfSarX+8Ic/OI5z+fJlYsA6u4GUOIoSLEgUjY/xuRhhooUGUtcn8EMEKpfLsifT6XSlUulr8WKxqC8+oEKGkU3X63UrK6zX6xFxFd/+/r7ruvHLVi6XZX6Tw4HErFca7XY7n88HHtZyueyfXz8Ti8Vi9MpzuZyas9lsDnRV6JetQKpUKtls1n+9y2az5tVdpVLJZDL+lWcymbAwSFZH1et1CTDPtzCJt3K5nE6n/avN5XJxds7Qvr6JxIFUq9VU8VzXbbfbEXNKRZHJZJJtC2POVnXkp5+AuVwubLYB1QADrR6PDItHv98K0D9zBM9K9McKtZVarRZdPBWNw38GmRK2AinxZTTBgkTRuLESRZ7D6qn8i8Vi9D0PjoCwQCIbaMRzR+W6bvxl9dyZMuT7MOvbNc8GNptNz3NmdNmazWbgY63I5/PJSoK+2K00Iq5YcqJ57mM8Z2JgxtA/c2B0WVwV+mUlkAIfdHWJk1D+CsrDHy2J66gBfYvo8kevdphf35BjEEjy4BRdNpktuorA5DKJogj5fF4/BbLZbOBsA6oBBlc9HjFWjn6CCtD/aBBNr38kd5zJZPQDHXF/wi+ag2YeSIkvo8kWJIrGkHkUdWNU/k6MNhBDUK/XeaQakLBAIhtoRE4teTDY399PvOyUZwP1NlkxyybXOdd1y+WyqkFqtZpe5fGoNgQWKw1PuiGXy5W/5rmS6Uv1lZfvKxtosir0yzyQ9vf35cDl8/larVav1yuViucJPMFPoO12W+pq13WLxaJauapzisViYMPVZHWUfAvHcTKZjIp/tQmTb6FfdKQwav/oaw5c7TC/vjmTQNKvRGF7WObp6ydATBbz6shPbpPkbArMBg6oBhhc9Xj0WDn6ySrAXC6X7UUWl+ythJY8hjSbTRVmYe2XpSk098mDYx5IiS+jCRYkisaTlepIjns+n5cHq3w+31cbiEGTixSteQYhLJDIBhrRTy01EbOZdLvdlvu8USUU5MwfeTZQ//1KXbTilE1akLmu6/89So4IT2tDYKvS0J9Jcrmc/5mk3W7Lcdc/9//kFfEDV1/ZQJNVoV/mgaTuJALvZiqVSpxjGkby1JlMJubTcuI6Sn2LwFNAP0f6ulvS6+fAH/ClEg5c7TC/vjnDQJJMTVic0DBwGti6runkPJLqKCIbaLcG6A6yejx6zI/+4CrAwJtttULP2qQMgXdT0VkeWGEYSImjKNmCRNF4snIxinhgabfbcm0a7VOzZADCWs3DRFggkQ00op9afTXxk7pV78BlarOBsgfk3jdO2WSHh73YIg+38RtsIhkrlYb8wNjzIafZbHquE/68fOCNi2fm6Gyg+ariaDab5XKZ1ysUK4EUkauS251+7zPkUbmv+6TEdVS73Y7opkdvoxe/MHKPFdZPmfwk6985Q/765gwDKbrpX7K9gYljpTrSSeSodjoRddEgagBZc9ifElePR5L50R9cBSgvZup3SurweY6d3Fb5b1HU3UvPDlJhyDCQEkdRsgWJovFk5WIU/cAirZQcx+nZTeTgkA0cqLBA+g8HlqytramJO3fu9Jx5d3fXcRzXdRcWFgZbrAmRTqfr9fra2lrMsagajUapVFLTYfvwxRdfVBN/+tOfrBQSA/W73/1OTaTT6ZWVlYg5Z2dnr127FvinZ599Vm5x/vjHP5qUx+KqInznO9+5dOmSGosNVkTUIefPn0+2zp2dHTWxubkZcxGTOiqVSs3Pz4et+ZVXXlETsv44/vrXv6qJU6dOBc7w5JNPhi075K8/cktLS+pRqlQq7e3tef4qe+OXv/zlsEuGSbaxseE4TjqdXlpaip5zEDWArDnsT4mrR/gNrgLsdDpXrlxR03ogbW1t+Wc+duxY4EoODg7W19cdx7l+/TojwI6txFGUeEGiaGqlUin5QeiLL74YbWEwZGQDrXnuuefUxOrqavSc1WpVVdOSQOypWq3u7u5evXp15mvb29sHBwc9F+x0OoVCQRbc2NiIs5Rnu8vLy7J4oVDodDrx1xDH5cuX33zzzbm5ufiL3Lt3T01E9Ioql0B1ucI4azQa8owd3e1xT7/61a/UxJUrVxqNxpisCpOr1Wqp4Eyn0/F/vxlcHTU7Oxt/ZvHd735XTUha0OPBgwdq4vjx4/rn4/b1h0Myfa+//rr+ebVaVXvDdd3onE6Cq2ej0dCv11evXi0UCtQ8R0OpVFI3foYXOCdpDYBhGlwF+N5778mak0VCq9W6cOGC4zi5XG5xcTHBGjAciaNoCNdfoujoOXHiRJzZBnFv0+l0tre3t7e333nnHfXJ7du3tzWtVsvkqyHaI6MuwNGh0urqd5WDg4OIyvHmzZtqQhKIEVqt1htvvOH/uUZV367rbm5uhj2hVavVs2fP6p9sbW1tbW1lMpmetX+r1fqv//ovSdDI4mqi/P+1d78hblz3wsdnL4Vramq5va3KvQ7rS2I2mKTsxgF340KW7BqKE0Z9Y4ddg/Eb7yK/KCSs3jRIhOKl3BcSMeSChbRvTMASsd9Uw40pWGs2EO/W0HjFbTESvqUr7ASpt1QyOPi+2ufFIeeZzr+VZo7+zvfzanY0c+aM5uwZnd+cOadc3vfhdud69EzJHF5st9s8uRpmlUpFLATvMDs1NZVOp0UJv3nzplsvwj4nhWFw//59seDR78buz3/+s1iYm5tTmx9/ddSzZ8+CHGtlZeUXv/iFvRl5/fp1sWDpIjRsp98fonugiOBsbGzI+10nHQP93T0Nw4jFYuY12WxWJFKtVrsqsRg2zWZTXNx0Oh38jRB/NcC+/FWP8M1fBXjjxg2xcPr0afP6eDxuqXPcfPzxx5qm6breeY8EDC3ft1HHHSlFYba5uSkWXnjhBccNevfb5uHDh5a4hHx+Jrz22msKww6woG+gSmfPnhULslllV6/XxX9OOp3et9ZuNpuXLl2S/2nJZLJUKpknVzUMY2ZmRkZSzGq1mgwF6roupiETD6XX1tYuXLiw73FlfxD7pK4LCwv296cGwjzSgQfl/RmhlmyHyHeggjh37pxYSCQStVptSJLCYNVqNVmXdtUg/+///m+x8O///u8+jqu8jpL/LB6P/e2mp6dlp6RLly5ZHrQWi0VR4dujFcN2+n1j7x5Yq9X27Rjo7+5ZqVTEz2Ux2aucQ1a8sMxrO6NOjgXh/dOrQ/5qAG++q0d4U1sBbmxsyB6mlst04sQJzdSeF2TrQIZ+DMOQbZBOjohh4LsUdbsjpSi05Nvluq47PhDq6W+bF1980Tt7bgFKqNH5EIOwsw/Jue9cInJqAjmwq8e4nuZpHC3zDJgnANKcZjmQObHM9FStVuVH+x7XPpmDeeI5y0F9zyJi55E3eRadHGvfdKCEwivub45O+z+RHGbbPs13h7OIBE+qE2J3hssVenf32dra2neiWDeWqywmfsnlcuIRS6FQcBylu0d1lPnHfbdjzzcaDXPlL/7XGo2G+UZj32uoTr9DqgqSZSB2+VV4VFP+7p4yUGv/HsSME0pOB11RVYrkdTfXPN6ziHgIUgO4CVI9jquAV79HFaDHxCOymMmP5HyvcuYoWeq6nY0avgUpSL5Lke8dKUXDScnNyKPBYp4K1e220p/fNswi0lNuBYloYCD2fy0Z7HOrJcWn5png3P4/zRMXus3WJP97LYeTs0M6TjlnaRO6Hddtwnh5jpZfjf2MBpp/EHs0zPZNB0oEvOLmq+nvStn/iTyaTN1GA30n1Qlue2aq7j67u7vyuWUul5M/R3Rd9xFulle/VCq5jfml67olKNajOkpWv/4mtDXH/rR/HMLMba7hoTr9DqkqSPKHaTKZlGfk8c37vnvKy6Ek21BCVSkSP7csxcZ3NDBgDbCnunocVwGvfi8qwH1nM5d1ezwelz9OdF2XnQnEtaae6acgBcl3KQpS/ChFQ0jJzUhezWQymTYx/yZ0CwX27bcN0cCecitIRAMDsccCGo2G/Keyby9Lufm/xS2gIP8/PR7VukX9ZJpu+5rzaTmu3NdtWnq5r6VS6Gc00JxPe/3VarW2trbMDVeigT0V8IqbS46qaODe3l6pVPL+7+gwGug7qU5w2zNTdfeR3TnNksmkv6409qTEJUun05Z+1pY6U3kdZa63g7TbZXmWPB7yD8/pd05VQdr7x172+37zvu+eYqXv+A56QUkpkr/6LEXCXzRQSQ2gtnocV8GvvvIKUG7vUV1b3txMp9MyiCOb6+Zj7e7u7u7uWt49gkIBC5LvUhSk+FGKho2Sm9G+r3WL93+99+31bxuigT3lVpCIBgbiGAvw6MkvPzL39XMLKMj/T48a1vz8x7yZWxXvmL7bcT1O3HGbPkcDZfd1yTw2ogXRwJ4KeMV7FA3cM7XkzXc4H9FAf0lZyJtch0LYNgtedQgeX7Wu691+sebdC4WC5Vrv7u7KOJHlF4/yOsr7ld4Omd8KNIvH4455GJ7T75yqgrRnK0veP2rlZt1u00k7H30WvBTJX2j2ho2/aKCSGkBt9TiulFx9hRWg+WeS29tC5o13d3fNm8lXR+UPGMszoXg8Xq1WA54y7AIWJN+lKHjxoxQNj+DV0V4H0UB5Ee1hB/mpdybt23T724ZoYE+5XUGigYE4xgJkfz1Lz1hZjVqKuGMinUfW7LW5OUTY1Y6W45bdOabf52jgnu2tNzMxXqnHgAV21Wo17SSXy+372yvkAl7x3kUDzWVVXkR/0UAfSbml3KEQvrQVvOpw1Gg0LCGwrmIuci+3n7nmKtfy4FRhHWV+Q9D3Q3hz5E40+y2hAXt38iE5/a6oLUj2wRYdBbl7mod5Ei9sctMZuOClSNb59n9YH9FAJTWAXcDqcVwpqUMUVoCyLPlrJIvrK4PIsn+oeGdQ5ooH58oFL0i+S5Hy+y+laFCUVEceDZZWq2X+cWIJX/Tztw3RwJ5yK0hEAwPZt1ufY7dtS5sqYDTQXpt3uK9jJs37dsKcYP+jgfK45XJZBu9KpZJskXaVH49gDfc2bwqvuL+OCR43OfuDKX/RQB9JWTiGm8XuctZvsxCWuuAFyZv5l3HnX28nu8ifxY4N6eB1lHmQZrc3NfYlT9/yM6vVaplrP0vAaxhOv1tqE5Q/T707Bga5e+6ZniNK9p6Y6KeApUi2gtz+KRz/Gd0oqQG8+asex5XCOiR4BRhwbGVRvcsgsix78ueWHEw8SJ9TOFJVkHyXIrVNJErRQCgpRfs2WCxRP8f1nbAk29VvG6KBPeVWkL7T1QVGhwqFwtLSkqZp9+7dEzOyt9vtRCKhaVo8Hnecutu3H/7whwpTM9u3K5PaE/FtcnJycnJyfn7ebQPH1+LsPE7nwIEDfnKG7v31r39Vm2A8Hs9ms5qmLS0tnTlzJhKJDCqpqamp1dVVy0pRLczNzdk/gnJXrlxZW1sTy7/73e+Wl5dVpfzSSy+JhSdPntg/DVhHVSqVmZkZsby1tTU9Pe0jh5lMRpx7LpeznHgkElldXT1y5Ii4bS0sLLRara6Kd09Pf+COHTsmFubm5jrcxcfdc3Z2ttVq3b59W1wFTdPEQqFQWFxc7CK7GA4fffSRWDhx4kS9Xrd8+tVXX4mFVqslPo1EIm7/dEpqgH31rnoMueAV4O3bt8VCPB4XbYrObW9vi58ZH3zwQTQa1TTt3r174qCzs7Nim2g0ury8bBjG2tpaIpEI8jMJPeK7FCm5/1KKwmByclKGL+7evetYZvhtM546DxzCzi3Qbp/cXY6tYH/PSPmbwqr6Bu539laD6hvoRl4Ft7kyoUrwKy7/C/zNU9Zhdz/xrMl338Buk+qEOTX04e5j7o/Z7S4eXXL8Pc/spI4y9wny/QafefIBj9c0ZO9Xx8ExB3L6/qgtSB1241J1B7QP8e4xkxh6J+B11Lrn+L+ppAbokI/qcVz14WbUeQUoC0C33UJldy1z3SU6gVpqM5kZuoWq1euC5Ps22vmOlKKBU1KKOmmwmPvxyZX9/G1D38CecruC/+Tj9wr2NTU1JYv79va2pmn5fF78+frrr3eSgo/OaHIX85PDZrPZVSLj9DDnyy+/FAs/+clPBpsT7OtnP/uZWMhms/ZuFAGdO3dOLCQSiYCJK0wKAyGfWxqG0eEuhw4dEgudXHG5cSf2raOazWYqlRLLQZ6j/vnPfxYL6XTao5J/++23xcKDBw/kygGe/mhRdfeMRCKzs7PXrl2T48TFYrF2u60kcQyz//u//7OsUVUDdMhH9QjfOqwANzY2xIKu6912C/34448Nw9B13fzygewBasYbMCPK92208x0pReHxgx/8wL6S3zZjj2hgr8iowfXr1yuVivhplcvlOvynEj2xhUql4raZ/EjXdfMusuP3119/3VW2I5GI3LdWq3W171Bpt9uyT7Lsx46hdfz4cbl88+ZNtYlPTk7Kcc0CJq4wKQyErNbcRte2k6/B3r9/322bu3fvWjbe1751VLPZvHTpkrh3BAwEfPPNN51sdvDgQfvKQZ3+yFF+91xcXJSllF/MI2dra8tjwHXZHIrH42LN1taW+VecprQG6JCP6hH+dF4BXr16VSx0++72xsaGCNl0O4MZRoXv22jnO1KKQuXx48diwdyDj982Y49oYK/IPoDZbFY+2u181CFN02TQ4c6dO27b3Lp1SyxYfiXI/1u3fWWW7M6fPy8WNjc3O87s0FlfXxcL8jc3hlkkEpFXKpFIFItFj43b7XY+n+/qFvLuu+/KxAMWbIVJoc/k+K2apr3yyiuOG9j7U7/66qtiYW1tzbHUNZtN+Zxcbrwv7zoqSCDAfhb/8i//Iha8S6wM6r322mty5UBOf0Qpv3sePnxYSTrov9nZ2Xl3p06dEpsdO3ZMrLG0yYPUAM1m00cTa9/qEQp1WAHKzgSapr355pudp1+v1xcWFkT6lpG8zO18jDTft9EOd6QUhY3s5WCJV/DbZsx1/lIx7LxfwpfhPMFtQDS3RMwv6jsOFiMrcV3XLcPNmAcutI8zYnnq63FcjzFKLDMj7w3TuIHym2fsm/5QVWmYBzPO5XL2QZRarZYcVMJxwm6PAiPH7vQuXQqT6oTYnQEyBCVVR6FQcBsaz3vSTFm07MPoyB++jpPluc3V68G7jpLD9LhV/h4cz8I8JaVbgubhycSkgVKfTz84VTWS0Pn0r/7untVq1T6gsCCLgcdoj+gRtaXIwrtQBakB5P+jvVAFqR7DpqdXv/MKUNa93RYDsaNju0Mc3XJo+aumq6NgX737Sn3fRrstfpSigVPylXq3blqtlvkWYLlN9O23jTwQ7fdecCtIzCncQydPnjT/efHixa52F+8krqysaJq2tLT05MmT06dPf//739c07auvvrp+/bqY3lTTtCtXrlheQJ6amkqn0+Ix78zMTKFQOHHixIEDByqVSj6fF08ak8mk47gPk5OTpVIpFouJfdPptDyupmnPnz+vVqufffZZNpvd2tpS8oZXvV5/9OiR40f37t0zf2Se4SiTyTx69Ghubu748eMieyJv8gQ1TfvP//zP4NlD36yvr8veECsrKysrK+l0empq6uDBg8+ePavVarLngtb9SBa6ruu6rmQ4JIVJiX/DrkZbgzfx/ksymXzrrbfEbLD2mqFUKtlnZpSD5a2srFh6W7///vuivl1bW/vf//3fixcv/tu//ZumaY8ePbp69apIVtf1CxcumPfyXUf99re/lRv86U9/ymQybid76NAhS1YdzyISicha3XI3Ebn68ssv5XtDhULB8sZin09/dPm7ez5+/HhhYUHX9eXl5enp6cnJyXa7/Ze//OXWrVvii/IZk/EQAAAgAElEQVQe7RHjx3cNUK/X5e+6Bw8e2CeF9F09olvBK8B6vS5/58vOpJ0oFotix1/96lf2T0XbxDCM7e1tUQuJ9y000ztJGBK+S1Hw4kcpGlf5fN7SNa/VapkDAjs7O5afHH37bSNvPYZhZDIZETT88ssvjx8/3u2oqehC54FD2O3bjcjc18lfIvuO1OAWpG+1Wm7Txuu63mg0HPtYSZ10O7c8BPDdN7DzO4djdzCPc+wqG/Ct2yvuodFo7Dtika7rlrLX4dy+5tmy3DZWmBS6FbwgdTLcldsMrZYJoy1khdl5heO7jnKruh1ZEvE4i05qWrfpBft5+sFpA+obKHR79zT3yrSLx+N0DBwItaXIwrtQ+a4BzD/D7CkHqR7DJvjVD14ByhQcO2W7ke8GufXK2TOVhHg8bp5Imp/NygUsSL5LUcDiRykaKsGro70O4gni8nl0/evPbxv721fe5RCdcytIRAMDkf9abnWfbEF5dPLfN/qws7PjOEBDLpfbt861/+vKnMi8uSVSrVYdfzvqup7L5ey5bTQacgPvXFl4tzPNxzVXHLu7u47ZE2Nyd5UBBKS80tjZ2XG8uMlkcmtry779vv+JkrzN2N+vV54UuqWkIO3s7LiFvRwrLkleerf2sGOVqOu6W4Xju47q/AGJvbL1Pgu3/yxN09LptH38h4GcfnDaQKOBe93fPR2vi67r3b4eCIXUliILWagc4+9BagCPN4X3AlSPYRP86gevAOUu3jWzhQgl7xtAtIQG0uk0QZxeCFiQfJeigMWPUjRUgldHey5RNlkqcrmcY/PKoj+/bSxZtXcBgT9uBWliz3S/ESYmHFZi4NrttnlY6K7e46jX6z72su+uaVokEhm2V5aGPHth0LtKw3xxeXdp7KktSObCo3VQfmKxmHh5odVqeVQjPqriftZRHZ5Ft1+ONOSnLwzPz5iuzj3IXR7KDU8p6la9Xt+3sPmuAUJC4dXvZwXYbrc//fTT733ve/Pz85YBHzzyxi/n3lFVkHyXIh87UoqGzRDejPrw2yZg7AJ2bgWJaCCAoKg0oMQAC9LGxoaYO0/VcKgDMR5nERw1EoKjFIUZVx9KUJAQHKUISrgVpH/qf1YAABgqV69e1TQtmUyOdBBtPM4CAAAAQK/RNxBAUFQaUGJQBUl2qWs0Gp28FzOcxuMslKBGQnCUojDj6kMJChKCoxRBCfoGAgDgQHSpK5fLIx1EG4+zAAAAANAH9A0EEBSVBpQYVEESYxWP+kDF43EWSlAjIThKUZhx9aEEBQnBUYqgBLOIAOgVKg0oQUGCEhQkBEcpCjOuPpSgICE4ShGU4E1hAAAAAAAAIOyIBgIAAAAAAABhQTQQAAAAAAAACAuigQAAAAAAAEBYEA0EAAAAAAAAwoJoIAAAAAAAABAWRAMBAAAAAACAsCAaCAAAAAAAAIQF0UAAAAAAAAAgLIgGAgAAAAAAAGFBNBAAAAAAAAAIC6KBAAAAAAAAQFgQDQQAAAAAAADC4juDzgDGR7vdXl9f1zTt0KFDy8vLg87OqCoWi0+ePFH4HXJdAAAAAACjhaZxT03s7e1ZV004rAT2Va/Xjx49Kpa9i1C9XpfLk5OTvc3WqJmYmBALu7u7Sr6czq+Lb1QaUIKCBCUoSAiOUhRmXH0oQUFCcJSiUWwaDyG3gsSbwuifer2ez+cnJiaOmkxMTGQymWazOejcYcAMw5hwkclkDMNot9seu29sbMjtDcPwPpYohxMTE44FT2FSAAAAADAo5qbN5cuXK5VKV7ub22iXL1/uUSYxEEQD0al6vW7u09etTCZz9OjRlZUV+0eJROLHP/5xtxUTxkytVnP7KJFIxGKxw4cPb2xsuG3z4MEDuRyLxTy21DTt6dOnYuH58+c9TQoAAAAABsXctMlms6lUqvN96/V6LBYz7x4kIIBhQzQQHdne3hZd+YrFor/dE4mEWE4mk+VyuVwul0qleDwut5mZmfHu/IWQiMfjaZNkMik/WlhY2LeznnD16lVV+VGYFAAAAAD0n67rmqYZhrG9vd3hLjdv3jTvizHDLCLoyDfffCMWnjx54juRXC737rvvRiIRuUbX9bm5uaWlJfHn7du3FxcXg+QTY+DcuXPz8/PmNb/85S8//vjjtbU1TdNisVir1TKXIkeGYRiGoeS+pTApAAAAAOi/8+fPi34V169fn52d3Xf7drstOvQkk8nDhw932CcDI4S+geiH48ePV6vV5eVlexBncXFRxllu3LjR96xhBESjUdm3VNO0zz//3GPjQqEgFmKxWMDepgqTAgAAAIBBOXXqlGh3d/jCr2xznT17trc5w4AQDUQ/RCKRqakpt0/Pnz8vFnjgADeRSCSdTotljxEGNU07deqUfAP9008/DXJQhUkBAAAAwAAtLy+LhXv37u27cT6f1zRN1/Xp6eneZgsD0u9oYD6fz2QysjFfLBZjsdjExEQqlTK38C2bybloJyYmYrFYsVj0mL4zyL7BbW9vZzIZebh8Pu84OcaonGC73c5kMplMRg4ZsLm5mTFRcqxoNBo8ETvLF1WpVOSluXz5sn1qiEqlkkqlxAapVMp77gi5Sz6fv3z5snn2204GYmi328ViUe6YSqU6H75BHlf874jdi8Xi2Hdee+211zrc8v333xcLKysrAUe6VZgUAAAAAAzKm2++KRbkUF1uKpWK6KkjA4j7omk8evZsHFcqsbu7Kw5aLpf39vbMkwPIlfbNcrmcY853dnb2PURX+wZUrVbdRhaLx+ONRkNJJvt8gltbW47pS/KqmfOmdVmESqWSvx09WL4o2a3Mcl1ardbe3l6r1bKURiGZTLql32g0HHcRdF33uAQ7OzuOeyWTyVarJf/c3d11PK556hWPy2H/KhR+vRZKUpbXyPEs9kylPZfLeewuvjf5Zzqd3nfj3iWFrvSuiCJUKEgIjlIUZlx9KEFBQnBqG1mitSLbsFtbWx57yc1Ee9m7yUPTeMi5nezAZhFJpVJiTgAPz549k5vF4/Fjx45pmiaHD5uZmWk0Gm7dyoLs60OtVnv55ZfFsq7ruq6/9NJLDx482NzcNAwjm82eOHHCHlYf/hN88cUXvTd44YUXAh5C07T79++LBceYXUDmL0oMgPro0aNsNqtpWjabPXbs2IULFy5duiQefVg2WFtbe+WVV+wTmzSbTbmL2OvkyZMHDx588OCBuARi3omdnR17t+parTYzMyOWxSQqmqaJI66trTn2JHU8bjweP3funFgvj7uwsFAuly1TcIwN+YX/5Cc/2Xfjc+fOie8kkUjouu7xono/kwIAAACAQTl79qxoGnvMJVKv18U26XR638kbaRqPsM4Dh8HJQKzsQycD0o1GQ0Sd9/4xXis2rlarMpFGoyF3LxQKbofwsW8QMll7r6Vyuaz9Y6+iUTxBcRaaS/coe946T9kc8vd+QNEV+xdlfp4gT0eWRkv/TTl9hPbt8xAz+egjmUya99qzdTO07ysvkKXjob1vqf0BiEzZfnHND1UsBx2PvoGyY6Cu6967y+9N7hKPx/fduEdJoSu9K6IIFQoSgqMUhRlXH0pQkBCc2kaWbK3IVqdb+0W2hWWfPo8mD03j4ed2soOJBlrKlsdmuq5bitSe6era4wJB9vVNhpbskQKh0WiYY3Yjd4J7vYwGyrpGbYb3/aLMnYod3wiWFZCloJq/YXuNZtnXUjfJN68dT9YczNVsVZ48rtv7y/KbLJVKbl+F447BKUlZ3mMKhcLut6rVaqlUkl+L46W07C6/N49Ac7fRQN9JoSu9K6IIFQoSgqMUhRlXH0pQkBCc2kaWbK3IZqNb/yF7i9WtyUPTeCS4nezA5hQulUqdzE2zvr5uf91V7mgYhsfwkEH27crdu3fFwsWLFx03iEajbm8XjsQJ9k6z2ZQjmL733ns9OorjFyX7Euu6Lt+wNpMzHf/tb38zr79165ZYWF5edus4/cEHH4iFGzdumNd/8cUXcl/7XtFodH193e0s7ty5IxbcpniXvaDlm9cjamlp6ei3Xn755VgsJnqAp9Npx0vpJhKJyCEpf/Ob3wTJksKkAAAAAGBQZLPRcS4ROZdmJ/OH0DQeaQOLBrpNuGHh1vKXu3sEvILs2xU5AOLx48e73XckTrB3Pv74Y7GQTCZ790q/4xclRzycm5tzrLncvl55uX/605+6HVGWBMMwzNMuy7CjWyjcI9TV+b77jsg5inK53OrqardDYYpBPDVNMwyjk0mi+5MUAAAAAAxENBqV78nZZ++9efOmWJATEHugaTzSBjaLSEBzc3NyoMp+7mtXr9fl8r5DbHZueE6wd4rFovjn1HX9l7/8ZZ+PfuDAAR97mS+3R/VkLgnPnz8XC+bg7OTkpO/jjn0oqlAonDp1StO0v//97w8fPhTPrFZWVr73ve/ZZ3TZ13vvvSf+HRYWFlqtVpB/UoVJAQAAAMBAXLx4UUybaZlLpFarifWdzB9C03jUjWo0cAh5TG4Nu0qlInsmX7lyReH8zkMiHo+LmlRS1VVzYWFBSTpDKxqNilvC5OTk9PT08ePHxVRTS0tL0Wi02z6k8/Pz8lrcvn3bRzyxF0kBAAAAwEDICGA2m/3Vr34l43GyU1GHr3J2iKbxcCIaqMyxY8cGnYWRUalU5FTiW1tbnYwgOXJ++MMf9ihlOYarG7dBKkfU9PR0uVwWFf3Vq1d9vFEubz9LS0tnzpwJ0qdPYVIAAAAAMBCFQkH0zrl3756IBrbbbfEGbjweV9uipGk8nIgGKpNIJFZXVwedixFgDgUWCgVzz+Rx0rsRCkJYzObn53VdNwxDjNnXbUBweno6nU6Le9v6+nqQL1BhUgAAAAAwECdOnBALS0tL4p2nzz//XKyR822qQtN4OA1sFhGEU7PZTKVSYrlQKIzcu5Y+RhuUu5gHRDCPn9oJ+qDJqabkuLZdkbe0RCJhHmlisEkBAAAAQP9NTU1Z5hLJ5/Piz9dff72TFGgajzqigUGZy3GtVhtgToZfs9m8dOmSGIxgFEOB2j8Oj1qpVNw2kx/pum7eRY6/8PXXX3d13EgkIvcNZzGTc1pls1kf38Dk5GQulxPL/uKJvUgKAAAAAAZC9nK4fv16pVIR7fRcLtdhuI2m8agjGqiADA14zORLH6IxCAUK8nLfuXPHbZtbt26JBdmjTZDVltu+suOk3fnz58XC5uZmx5kdH5FIRI4K4e8bePfdd8VCIpEI+B0qTAoAAAAA+k/2Acxms7IdOjc313kKNI1HGtFABU6ePCkWEomEPSher9cvX7486n2I5Bwp/v7fxiYUqGnaz3/+c7GQSCSKxaJ9g2KxKEZG0HVd9mgTZN3qWFRSqZTHkAqnTp0SCysrKx7PXsb48cjp06fFwsrKio9ZqCKRSKlUEssegfs+JwUAAAAA/ReJRCwdm7qdP4Sm8UhjFhEFzBMLzMzMpNPp06dPf//73//73/9+//79lZUVrYPJboacedLxTCYjAvlffvnl8ePHO5kR+Le//a0MmvzpT3/KZDJuWx46dMjy0GDYiBdFxWVdWlp68uSJuNyapn311VfXr1+Xs6dfuXLF0st6amrKXFQKhcKJEycOHDhQqVTy+bz4ipLJpGPFNzk5WSqVYrGY9o/FTHz6/PnzarX62WefZbPZra2tsZybZXp6Wswlomna559/7mPae13XZQoBKUwKAAAAAPpPdmwSLl682NXuNI1HGtFANVZXV1utliipokBbyG5No0v+vyUSCXmO5XK5k33NQZN9ZxT6xS9+YR5QYAgtLy8/ffpUfAmOl1vTtJ2dHcc46aVLlzY3N8UXIuZ0l3RdX19f/+Mf/+j2Fem6LmeCdzuupmk/+MEPOj6VEXP+/Hnx1eXzeR/RQE3TPvjgA1UhPIVJAQAAAECfmftbaJrmI3BG03h09fVNYTmDjHczvsPNLBsH3zegK1eulEol+3ELhUKj0TCX/hE9QV3X5duRcs0LL7zQSd46D9xYxhb1rfMv6tChQ47rv/vd73rstbq6urOzI6dhMsvlcpYrbiZeMi0UCpb1hUKhVCqZz93x8i0uLlar1WQyaf9I1/VcLre7u2vp3d1VmRkGHt/8/Py8WDAMw23yKe9iPzs7K4uxruveQ+QqTAoAAAAABsWtafPee++JBXsTtUM0jUfUxN7ennXVhMNKdM48YYh5xuGxIU9wLM+uW+122zyGXVffScBv0lzSIpHIAKNRVBpQgoIEJShICI5SFGZcfShBQUJwI1eKaBoPJ7eCRDQQQFBUGlCCggQlKEgIjlIUZlx9KEFBQnCUIijhVpCYUxgAAAAAAAAIC6KBAAAAAAAAQFgwp7CmaVo+n3/69Gm3ex05cmRxcbEX+VFuFE9wFPMMAAAAAAAw5Bg3UNM0bWJiwt+Oo/JFjeIJjmKeQyuElQZ6gYIEJShICI5SFGZcfShBQUJwlCIo4VaQ6BuoaZqWy+V8dEM7dOhQLzLTC6N4gqOYZwAAAAAAgCFH30AAQVFpQAkKEpSgICE4SlGYcfWhBAUJwVGKoARzCgMAAAAAAABhRzQQAAAAAAAACAuigQAAAAAAAEBYEA0EAAAAAAAAwoJoIAAAAAAAABAWRAMBAAAAAACAsCAaCAAAAAAAAIQF0UAAAAAAAAAgLIgGAgAAAAAAAGFBNBAAAAAAAAAIC6KBAAAAAAAAQFgQDQQAAAAAAADC4juDzgAA4P/b2Ni4e/fu2tqapmnJZPKdd96ZnZ0ddKYAAAAAwEG73V5fX9c07dChQ8vLy4POztApFotPnjwZwi9nYm9vz7pqwmElALih0lAllUqJOKBZeL5bChKUoCAhOEpRmHH1oQQFCcGNSimq1+tHjx4Vyz4yvLGx8ezZsx/96Efj2gdiYmJCLOzu7k5OTg4kA47Xhb6BAAapWCwuLS11u1er1YpEIr3IzwAVi0UZCiwUCtFo9O7du5VKZbC5AgAAAIBe2N7eXlhYEMuNRiMajQ42P6FCNBDAID158sTHXu12e/yigTIqKp8azc/PDzRHAAAAANAr33zzjVx+/vz5AHMSQkQDAQzS6dOn0+m0ZWWr1RK95HRdn5ubs+81kC7WPVWv18VCPB4fv7MDAAAAAItjx47pum4YRjKZpBHUZ0QDAQzS9PT09PS0ZWW9XhfRwLm5udXV1UHka2COHTs26CwAAAAAQM9NTk6WSqVB5yKk/mnQGQAAAAAAAADQJ0QDAQAAAAAAgLAgGghgtOXz+UwmU6vVxJ/FYjEWi01MTKRSKblSaLfb29vbmUxGbDAxMRGLxfL5vMe8vZbE6/V6Pp+X+xaLxWaz6ZG3er1eLBYvX74sdrl8+XKxWJRDBIosiUPk83mxZnNzM/MtwzAck61UKvl8Xp5FKpUqFovtdjv4VwQAAABgnPhoBElix2736qrRJJoqbg0focPmT7vd9m5GCbVaTWzm2BTqtqklD21u96VSqe3tbe9dBm/PxnElALhRXmns7u6KCiqdTne4Zblc3tvbSyaT5vpNrBQKhYJHTeh4IEviuVzOcd+dnR3HvHkMgVGtVi2H6LCKbjQa8XjcbWPz+fr4igbOfr6ADxQkBEcpCjOuPpSgICE4JaXIRyNIqFaruq477hWPxxuNhtzS3KLZ67LRZNnXrqvmT6PRkB+1Wi23U5MNIkuWfDS1hJ2dHcddkslkq9WSf+7u7rql0FNu3y2ziAAYE6lUSsw9Yre9vb20tCSWk8nkW2+9JZbv3r0rdkkkEkeOHFlcXHTc/dmzZzLxeDwuJvpIJBLi05mZmUajEY1GzbtUKpVYLKZpmq7r58+fF58+e/Ysn88bhvH48eOpqSlN0w4cOCBm0XI8riVy12w2L126JDaOx+Pnzp0T6x88eCAys7CwUC6X5+fnfXxFAAAAAMaJ70ZQrVZ7+eWXxbKu67quv/TSSw8ePNjc3DQMI5vNnjhxYnl52X7EbhtN3rpt/kSj0Xg8ns1mNU17+PDh7OysPc12uy0bRObZLH03tWq12szMjPyu5ubmNE179OhRNptdW1vrpCvlwHQeOAQAR8orDR99A+WTq62tLfFRo9GQT4S2trY0TSsUCvZnROVy2a0+tHTc03Vd9ukT6cuDFgoFy77ysZL9EVC5XLav7OSUZXDQfjjz8yjLOXb4FQ0D7j5QgoKE4ChFYcbVhxIUJAQXvBT5awTt7e3JhkMul3Pc0dxmCdJo8u4b6KP5I88rmUx6fCf2U/PX1NozfVeWI9o7Vw5b30CigQCCUl5p+IgGCm4v7e7t7XmEvdwid+bEdV0394cX5I1B13XLR2J9PB73zr/9WG6nLI/ldmOTbwGUSiW3s/D+igaOuw+UoCAhOEpRmHH1oQQFCcEpKUU+GkEyoObWlmk0GuZ4X5BGk0c00F/zx/xmruO5O74m7LupJWOL9lPb+8dI6BBGA5lFBMCYKJVK5s7eFpFIxO0j0Yld07SvvvrKbZv19XV7t3Z5OMMwHEeWffLkiUeGu3Lnzh2xcPbsWccNZK/1+/fvuyXi/RUBAAAAGCc+GkF3794VCxcvXnTcMRqNilGP7Pw1mhz5a/5EIhEZ7/v8888tu8jXhHVdNzeLfDe1vvjiC7Hg+N50NBpdX193THAYEA0EMCbchrnt3DfffOP2kdsIF/KglhubeNRmGEaxWAyYK0GOuOEWzpM59BgZMPhXBAAAAGCcWBpBsjVx/PjxbpPqttHkwXfz55133hELn332mWWXhw8fioXz588rOVbnOw4hZhEBEEb1el0um/uTd2tubs5xDpD3339fjF+7tLR048aN99577/XXX/d4NOfNnNuNjQ1/iQAAAAAIs30bQeYNfDde7NwaTW6CNH/k5CHZbPbXv/61OR73X//1X2LhxIkTwY9ljmxOTk52lclhQDQQQFjU6/V79+7duHGjq1uRP1NTU1tbW2+88YamaYZhiCMWCoVTp04FvFUsLCyoySIAAACAceevESRHFRw4H82fXC63srKiadrvf/97c7dEOd+x25vOXR2r836Ow4loIIBQMAwjFov184izs7OtVuv27dtLS0tijVgoFAqLi4u+k02n094buN3bAAAAAISK70aQHFVw4Hw0f06ePCkWPvvsMxkN/MMf/iAW3n77bYXHGl1EAwGMv42NDXkXLJfLr776qrnHeCaTkSM+qBWJRBYXF8+cOfPw4cPr16/Ld4cPHjzoewi/1dVVpXkEAAAAMIaCNIISicSQtDt8ZGN6elrXdcMwzC8L37x5U3z605/+VOGxRheziAAYf1evXhUL1Wp1fn6+z4O5RiKR2dnZa9euyZnpY7FYVx3LFY7ZAQAAACAMBtsICiJ480fOE/L73/9e07Rmsyl6ZiSTScv34PtY5gGgms2mz4wODtFAAGOuXq+LMTJ0XR9s1+7FxUU54X230UDZl7BWq6nPGQAAAIAx4q8RZI5wDbDdEbz5I+cJETMLi5igZppxWMmx5I5ff/21j0wOFtFAAGFx5MgRx/VB5hTu1uHDh/3tKJ9ubW5uqssOAAAAgHHWbSMol8uJBY9ZR8zz8PZIwObP1NSUmAglm802m00RE9Q07fjx4wqPJaOBd+7ccdwglUp1lWA/EQ0EMOYOHDggFsSdwPJpsVgUc0spVKvV3CanlzeYbnuknzp1SiysrKxUKhWPQ3eVLAAAAIDx47sRJKfgSCQS9nZHvV6/fPmyHIOvd4I3f+RsIR9//LF4TTidTju2wnwfa25uTiw4flepVEp5S1MhooEAxlw0GhXPhTRN+/DDD2UlXqvVUqmUnPBXocePHy8sLMRiMcMwxHOzdrtdqVRSqZR4wuZ2H/IwOTlZKpXE8szMTCaTqVQq9W/VajXDMC5fvvzyyy9vb28rPyMAAAAAI8R3I2h6elpOrWtud1QqlXw+f/ToURFZ67XgzR85W4gMyZ0+fVrtsaampszfVbFYrNVq4h3tWCwmjiuHiho6ezaOKwHAjfJKY3d3V1RQ6XS6wy2989BoNNzm8NV1fWtrSyyXy+VuE5e1/+7urly5s7PjUevG4/FWq+XvlOU8JB6q1aqPr2gYDH8OMRIoSAiOUhRmXH0oQUFCcMFLkb9GkOAdw9rZ2ZFb+m40dbKvj+aPmYyHdtIa8nesVqvl8SU3Go1yuex47n3jduL0DQQwwmQHeLcqWIhGo+vr6/ImJBUKhVKp9OKLL4o/v/vd7/pI3LKxpmnT09M7Ozv2O6iu64VC4dq1ax4dAw8dOuRxlMXFxWq16nhv1nU9l8vt7u5aBgnu6iwAAAAAjAd/jSDhypUrpVLJ3oIoFAqNRmN6elqu8d1o6mRfH80fs4sXL8pl2fvPjb9jRSKRUqlkjySKL9k8f7Hl3AduQkQK/2HVhMNKAHAzQpVGu92Wk/maJ8zqw+GUH9E8dm8kEun21eMhNEIFCcOMgoTgKEVhxtWHEhQkBKewFAVpBJkbHX1oQHWYk143f/wdS+412C/Kwq0gEQ0EEBSVBpSgIEEJChKCoxSFGVcfSlCQEBylCEq4FSTeFAYAAAAAAADCgmggAAAAAAAAEBZEAwEAAAAAAICwIBoIAAAAAAAAhAXRQAAAAAAAACAsiAYCAAAAAAAAYUE0EAAAAAAAAAgLooEAAAAAAABAWBANBAAAAAAAAMKCaCAAAAAAAAAQFkQDAQAAAAAAgLAgGggAAAAAAACEBdFAAAAAAAAAICyIBgIAAAAAAABhQTQQAAAAAAAACAuigQAAAAAAAEBYEA0EAAAAAAAAwoJoIAAAAAAAABAWRAMBAAAAAACAsPjOoDMAANA0TdvY2Hj27NmPfvSj2dnZQecFAAAAwMijiQE3E3t7e9ZVEw4rAcCNkkojk8kkEglN07a2tkJ4r9re3n7jjTfEcqPRiEajg83PQHD3gRIUJARHKQozrj6UoCAhuOCliCYGNPeCxJvCAIbLN998M+gsDID5rJ8/f3FechUAAB7oSURBVD7AnAAAAAAYAwNpYtTr9Xq93p9jIQiigQAweMeOHdN1XdO0ZDI5OTk56OwAAAAAGG39b2Jsb28fPXr06NGjxWKxD4dDEIwbCACDNzk5WSqVBp0LAAAAAGOi/00M2RvxyZMn/TwufKBvIAAAAAAAABAWRAMBAAAAAACAsOBNYQCjrVKp3L9/3zAMwzA0TUsmk6+88sqZM2cikYjbLu12++HDh1988cXm5qbYS9d1XddPnjw5PT3tuEs+n3/69Kmu61NTU5qmFYvFGzduGIaRTCYvXLggVto3q9frv/vd71ZWVsQhzp8/Pz8/7zaZl9h3ampKjO7hcfSukpXf0p07d+T5ptNpywanT592O3cAAAAAo6inTQyp3W6vr69rmvbo0SOxZnNz07zBhQsXHJPqtinnr1EmmkKJRELTtHg8fu7cufn5eUs2bt26tba2JvLw1ltvWTYwq9fr9+7d29zczGazIsG5ublTp06N3uDvezaOKwHAjZJKQ8anyuVyh7s0Go14PO5WubmlUygUPKrEdDpt32V3d9ecZjKZdDyQZbNcLud4iJ2dHY9D2L/MIMmKb8mS4c5PvM/s5w74QEFCcJSiMOPqQwkKEoILXop618Sw2Nra8m5r2JtmPppy/hpl9m4QmqbF4/FWq7W3t9dqtRzbSslk0vFMPcZhrFarnXxX/ae5FCT6BgIYSc1m89KlS+IhknjCI9Y/ePBAPPZZWFgol8uWpzrb29tLS0tiWTz2Ect3794Vz4ISicSRI0cWFxfdjptKpcSWHp49eyY3i8fjx44dEymLT2dmZhqNRofP2YIn++GHH8rHVvJbunnzplip6/rc3Jymaa+99lq3+QEAAAAw0pS0XF588UXvDV544QXzn/6acmbdNsqSyeThw4cfPXokGkHZbPbYsWMXLlyQ2bBssLa29sorr1hahZVKJRaLad/2nRRfy7Nnz/L5vGEYjx8/lp0TR0PngUMAcKSk0ui2b6B8hlMoFCwf7ezsyCpOPPORxGOrQqFgWb+3t1cul90qRvl8SXaw39raEh81Gg2ZlPnhm9jY/ICo0WjI3e157uTBnY9k5UnZu/7JL3B4nmJx94ESFCQERykKM64+lKAgIbjgpahHTQwPHq0PM39NOd+Nst3dXXsOZTrxeLzRaMgNzG+SWTIgOzOaE5TJ2lcOCbeCRDQQQFBKKo2uooHyJuHWhVtW4qVSyfKRPQ4oudXvljuKW4d582a6rptvKpZs67rusa/CZOWN1r6XTDaXy7l8H/3G3QdKUJAQHKUozLj6UIKChOCCl6IeNTE8dBIN9N2UU9UoM7+h7JgHGW20HEKsjMfjbqc2nNwKEnMKAxg9d+7cEQtnz5513ED2Kr9//77lI4/ZRUTHeE3TvvrqK7dtSqVSJ7NtrK+v23vUyx0Nw2i32/smEjxZ2X/evpcc5lb0jQcAAAAQQj1qubgJ0pSTgjTK5IvJuq7Ld6LNzp8/Lxb+9re/2T998uTJvscdCUQDAYweWWu73QNkpb/vcBKOvvnmG7eP7LNxeWfAbXd/99ReJEs0EAAAAAitHrVc3ChpygVplMlBDOfm5hx7irh9IaJToWEYxWKxk6MPOWYRATBi6vW6XN7Y2FCYWqvVCpjavubm5noRfXNLNh6Pi3Fw2+225VZXq9XEguM0WwAAAADCrBctF7VNOX8OHDjgb8f3339ftK2WlpZu3Ljx3nvvvf766x5vng05ooEARtjCwoKPver1+r17927cuDH23eLOnTsn7liffvrp8vKy+aNPPvlELDCbMAAAAIA+89eUG6Cpqamtra033nhD0zTDMERbslAonDp1So7CNEKIBgIYYfv2a7PP8m4YhpgYPgzm5+d1XTcMY2Vl5enTp6+99tqxY8cePXp08+ZNESWMx+NyYA4AAAAA6A8fTbmBm52dbbVat2/fXlpaEmvEQqFQWFxcHGjWukY0EMAIW11d7Wr7jY0NGQosl8uvvvqqeVSITCbjOI7s6KpUKrL/o/3U4vH4r3/9675nCgAAAEDYdduUGxKRSGRxcfHMmTMPHz68fv26fHf44MGDHY5mOCSYRQTAiAkyNMPVq1fFQrVanZ+fdxsgdmykUilN09LpdLVazeVycn06nd7a2rp27drYfwMAAAAAhsTojrJnEYlEZmdnr127VigUxJpYLKZ2upVeIxoIYMREIhH51EVOhdGJer0uOsrpuj6E3c6Vk+d7+vTpqamp5eXlvW+trq7Ozs4OOoMAAAAAQsR3U25oLS4uJpNJsUw0EAB66/z582Jhc3PTx+5HjhxxXN+HOYX76auvvhIL9+/fH2xOAAAAAEAL3JQbQocPHx50FvwgGghg9Jw6dUosrKysVCoVt80sj5vkXPLZbLbZbFo2LhaLa2trSrM5YMePHxcLKysrly9fzmQyhmFsmNTr9cHmEAAAAMDYOHbsmFjwiPT5a8oNXK1W29jYcPxInuxovQfNLCIAhsvNmzcfPHjg+JF8w3dycrJUKon5QGZmZtLp9OnTp7///e+LzZ4/f16tVj/77LNsNru1tSVfiY1Go/F4XIzz+uGHH77//vsitVqt9sknn4xZKFDTtEgksrOzMzMzo2maOGtHpVJptMa7BQAAADCEJicnxYJhGJlMRrQyvvzyy+PHj09PT8ttfDTlBu7x48cLCwu6ri8vL09PT09OTrbb7b/85S+3bt0SozOl02migQDgn0fc6tChQ3K8P13XC4WCmNDdYyLgH/zgB+Y/f/3rXz958sQwjGw2azmQrusffPDBG2+8ESj3Q+Zf//VfdV03DEPX9bm5OU3TNjc35SzDQiwWS6fTIzqlFwAAAIDhISN9iURCNtPK5bJ5G39NucH6l3/5F03TDMOwNKaEeDx+6dKlvmcqEN4UBjAUOpnW4yc/+Yn5z8XFxWq1KgdtNdN1PZfL7e7uWpKNRqPr6+vpdNqyfaFQKJVKL774ovjzu9/9rvlT+Yqxdx+6DjezbLzvvr6Tbbfbly5dEqHA9fX11dXV1dXVUqkk5xKRd+VEIuHRSx8AAADAyOlFE2Nfuq6XSiXLmhdeeMGymY+mnPJG2aFDhxzXWxqDwvT09M7Ojj3DIrJ57dq10eoYqGnaxN7ennXVhMNKAHAzDJWGeQi8SCSyb13cbrfllE+yQ/uYKRaL4oHbzs6O7JlvYRiGeHZXLpfn5+f7mj+bYShIGAMUJARHKQozrj6UoCAhuFEvRbKBtm9rq9um3GCZG5LaKLQl3QoS0UAAQVFpDKeJiQmx4HF1NjY2FhYWNKKBGCMUJARHKQozrj6UoCAhOEoRlHArSLwpDADhJSdsEQNhAAAAAADGHtFAABhPclSLfD7vuEGxWBSj9uq67vYqMQAAAABgzPCmMICgqDSGU61We/nll+Wf6XR6amrq4MGDz549q9Vq5tm7qtVqJ7O49BoFCUpQkBAcpSjMuPpQgoKE4ChFUIJxAwH0CpXG0KrVah999FE2m3XbIJ1OX7hwIRqN9jNXbihIUIKChOAoRWHG1YcSFCQERymCEkQDAfQKlcaQq9Vqjx8//p//+Z+nT5+KNYcOHXrppZdeffXVIYkDChQkKEFBQnCUojDj6kMJChKCoxRBCaKBAHqFSgNKUJCgBAUJwVGKwoyrDyUoSAiOUgQlmFMYAAAAAAAACDuigQAAAAAAAEBYEA0EAAAAAAAAwoJoIAAAAAAAABAWRAMBAAAAAACAsCAaCAAAAAAAAIQF0UAAAAAAAAAgLIgGAgAAAAAAAGFBNBAAAAAAAAAIC6KBAAAAAAAAQFgQDQQAAAAAAADCgmggAAAAAAAAEBZEAwEAAAAAAICwIBoIAGoUi8VMJpPP5wedEQAAAABQY2NjI5VKTUxMTExMpFKp7e3tQecICkzs7e1ZV004rAQAN1QawsTEhFjY3d2dnJwcbGZGEQUJSlCQEBylKMy4+lCCgoTghqQUpVKptbU1y8phyBg65FaQvtP/rAAAAAAAAGCYFYtFGQosFArRaPTu3buVSmWwuYIS9A0EEBSVhkDfwIAoSFCCgoTgKEVhxtWHEhQkBDcMpYgGzhhwK0iMGwgAAAAAAID/r16vi4V4PE4ocPwQDQQAAAAAAICDY8eODToLUI9oIAAAAAAAABAWRAMBAAAAAACAsGBOYQCD126319fXNU177bXX5ufnHbcpFotPnjw5dOjQ8vKy/dN6vX7v3r3Nzc1sNqtpWjwen5ubO3XqlMcIF5VK5f79+4ZhGIahaVoymXzllVfOnDkTiUS8s3r79m15oGQy+c4778zOznZzuq6Z+fLLL0Wymqal0+mf/exnHinn8/mnT5/quj41NaVpWr1e/93vfreysqJpmq7r58+fn5+fj0ajATMGAAAAYNR13txot9uffvrp06dPW62WWLO5uSk/nZqa0nW9P3lGTzGnMICgglca9Xr96NGjmqal0+nV1VW3o4gF+4RWhmHEYjHHvarVqgiWmTWbzQ8//FDeCC3K5bJbRLJSqczMzNjXJ5PJRCJx+PBhtxx6aDabH3/88dramuOnuq5fuXJlenrasl5+YyK3+XxexAEtdnZ27PsOLe4+UIKChOAoRWHG1YcSFCQEp6oUddvckA0NN5Tt0eJWkOgbCGC0VSoVEQoUHeJEb7hnz57l83nDMB4/fmyJBjabzUuXLon+gPF4/Ny5c2L9gwcPEomEpmkLCwuOAcFarSZDgbquz83NaZr26NGjbDa7trZWqVR8ZN6cGU3TksnkyZMnDx48KDMjui56BPWePXuWSqXE3T0ej4shfsW+mqbNzMw0Gg16CAIAAAAh5KO5ceDAAV3X5S4WyWSyPzlHz+3ZOK4EADfBK43d3V1RI6XTaY+jCLu7u+b18Xjccf3e3l65XLavlDewQqFg+WhnZ0cepdVqWT6VXeKTyaR5fbVatfSWtx/UjcxMMplsNBrmj1qtlvlea8mP/MYEXder1ar8tNFoyCzZT3NocfeBEhQkBEcpCjOuPpSgICE4JaXId3Njr7M2GoafW0FiFhEAo00OFGh/OXd+ft6yslKpiG50yWRycXHRsv309HShUBDLn3/+ufmj7e1t8XxM9KU3fzQ1NbW+vu5j+AyZGV3XE4mEpQdfJBK5cuWKTPb27dtu6ei6vr6+bu4CGY1GZSZv3LjRbcYAAAAAjDpVzQ2MJaKBAMbBkydPOtnszp07YuHs2bOOG8gXhO/fv29e/8UXX4gFxzlMotGomAWlK7du3ZJpuk1d8sEHH4gFj6De+vq6/V1g2dXfMIx2u91t3gAAAACMNFXNDYwlooEARpt4U9gwjGKxuO/GckA9t2H4ZFjNMs5u5zt2Th7ipz/9qds2x48fFwuGYTSbza4OLR/0EQ0EAAAAwkZVcwNjiVlEAIy2999/X7wsvLS0dOPGjffee+/11193fPZVr9fl8sbGRueHMEfTOp8s2Js5Mx6RRPOJPH/+vKtDzM3NuY3+CwAAAGCM9aG5gZFGNBDAaJuamtra2nrjjTe0b6fE0jStUCicOnXKI3K3sLDQ+SEG27cuHo+LcCcAAAAAqEVzI5yIBgIYebOzs61W6/bt20tLS2KNWCgUCvapQoR0Ou2dpnlSjsH64Q9/OOgsAAAAABhPNDfCiWgggHEQiUQWFxfPnDnz8OHD69evy3eHDx486Djb7+rqat/z6JNlBEMAAAAAUIXmRjgxiwiAIdJqtYLsHolEZmdnr127VigUxJpYLCbf83WbSGtf5jeOVY2te+DAgT7sAgAAACCEaG7AG9FAAENE1YOpxcXFZDIpls3RQNlPsFardZWg3PHrr79WkkPzUL6VSsVtM/mRrus+pi0GAAAAEEI0N+CNaCCAwTN3vjPPfiWlUqlu0zx8+LB95fnz58XC5uZmV6nJaOCdO3ccN/CRw1wu552mpmm3bt0SC8vLy92mDwAAACC0aG7AA9FAAENBduW7efOm5aNUKuXWZ7BWq21sbDh+JON95heET506JRZWVlY8HpHZew7Ozc2JhUQiYd/RI4cefv7zn8s0i8WifYNisSiS1XX9zTff7DZ9AAAAAKFFcwMeiAYCGApnz54VC4lEIpVKVSqVer2+sbERi8XW1tZ0XY/H4/a9Hj9+vLCwEIvFDMMQnQrb7XalUkmlUoZhaJqWTqfN0cDJyclSqSSWZ2ZmMpmMOJBQq9UMw7h8+fLLL7+8vb1tPtDU1JSchnhmZqZYLNZqtXq9bhiGyKFmCmh2aHJyUj6vW1paMmdme3v78uXLcorkK1eu+B70EAAAAEAI0dyAh4m9vT3rqgmHlQDgRlWlkclkEomEfb2u6+vr65988on4dHd3V75ZXKlUZmZm3BKMx+P/8R//Yb+xFYtFeedzU61Wp6amzGva7faFCxdEkNExh3/84x8XFhYsOdyX21lLOzs709PTlpX1ev3o0aNi2e3Llyl3lZ8B4u4DJShICI5SFGZcfShBQUJwvW5kSY7NDc3U4kin06urq8FzgoFwK0j0DQQwLFZXV2XHPalQKHzyySfRaPTQoUNijXmuq+np6Z2dHXunPF3XC4XCtWvXHJ9xLS4uVqtVx658uq7ncrnd3V1LKFDTtEgkUiqV5GzF5hyWSiXzmLtdzca1urq6s7Pj2PMxl8s1Gg3He7M8hBzQ0AOzgwEAAADh5K+5YSYbYhgn9A0EEJTySkNOJNJ5j7Z2uy3nDu5qR/OkJZFIpMMe8j5yuC/fpzA2uPtACQoSgqMUhRlXH0pQkBCc8lJEcyOc3AoS0UAAQVFpQAkKEpSgICE4SlGYcfWhBAUJwVGKoARvCgMAAAAAAABhRzQQAAAAAAAACAuigQAAAAAAAEBYEA0EAAAAAAAAwoJoIAAAAAAAABAWRAMBAAAAAACAsCAaCAAAAAAAAIQF0UAAAAAAAAAgLIgGAgAAAAAAAGFBNBAAAAAAAAAIC6KBAAAAAAAAQFgQDQQAAAAAAADCgmggAAAAAAAAEBZEAwEAAAAAAICwIBoIAAAAAAAAhAXRQAAAAAAAACAsiAYCAAAAAAAAYUE0EAAAAAAAAAgLooEAAAAAAABAWHxn0BkAAFfNZvP58+dieXJycrCZAQAAAABgDNA3EMDQabfbxWIxFov9+Mc/PvqtiYmJy5cvb2xs2Lff2NiY+JZhGN6J5/N5sWWz2expUgAAAAAADCGigQCGi2EYhw8fXlpasgfjstnswsJCLBarVCrm9Q8ePJDLsVjMMWIoPX36VCzIXoc9SgoAAAAAgCFENBDAEEmlUrFYTP6Zy+XK30qn02KlYRgzMzMeiVy9elVVfhQmBQAAAADAMCAaCGBYFIvFtbU1sZzL5Vqt1vLy8vy3VldXW61WqVTaNx3DMPZ9ybdDCpMCAAAAAGAYEA0EMBRqtdrS0pJYLhQKy8vLkUjEsk0kEtF1vdFoyH6CFoVCQSzEYrF2ux0kPwqTAgAAAABgeBANBDAUPvroI7EQj8cXFxc9toxGo6urq44fnTp1Kh6Pi+VPP/00SH4UJgUAAAAAwPAgGghg8Or1ejabFcsyBufP+++/LxZWVlbq9fqQJAUAAAAA/ddut7e3tzOZTCwWm5iYmJiYiMVi+XzeMjGjI7Fj53t1sn273c5kMplMxmPCxmKxmMlk8vm8/aN8Pp/JZGq1mtxSnFcqlZIre33i8hS8B5Wq1WpiM0vGhsWejeNKAHATvNKQowHquu5jd/ni8O7urvnPdDq978a9Swrd4u4DJShICI5SFGZcfShBQUJwSkqRHP7IkWMbR6hWq7quO+4Vj8cbjYbv7Xd3d/c9utzX0s6S+5bL5b29vWQyaT6QWNmHE280GnJlq9VyS0pmb2dnx22bPtBcChJ9AwEM3v3798XC+fPng6d27tw5sZBIJAI+h1GYFAAAAAD0zfb2thyZPZlMlr8lo1SJRKJYLNp3rNVqL7/8suj4put6Lpcrl8vpdFqEybLZ7G9/+9sg2yuRSqXkFJQWvT7xaDQqk/rDH/7gmId2uy2zNz097fs0e+c7g84AAGiyooxGo8FTm5yczOVyKysrmqZ99NFH165dG4akAAAAAKDPCoXCmTNnzDM0zs/Pv/XWWwsLC5qmLS0t2QdtTyQSYiGXyy0vL8u9VldXNzY2FhYWnj59GmT74K5evSpidltbW7Ozs5qmNZvNf/7nfzZv09MTf+edd0Qb9ubNm/Pz8/YcPnz4UCYV9Gx7g76BAAbMPGPvsWPHlKT57rvvioVsNru9vT0kSQEAAABAf8zOzrZarcXFRXNETJifn5fDtVtGSN/Y2BCBtng8LiNi5h0bjYb5Xdput1dCHHFnZ0eEAjVNi0aj8jT7cOLHjx8XC9lsttls2nN4/fp1sTA3N+fnDHuPaCCAATNHA1WJRCJyLMLf/OY3Q5IUAAAAAPSNPRwmyX4YX331lXn93bt3xcLFixcdd4xGo1NTU763V6VUKnm8gdvrE49EIrLT3+9//3vLls1mU0ySqet6L85dCaKBAMaTruvi0Y1hGB7zVfU5KQAAAAAYHt988435TzmIk+z+5q3b7VUJ3t8w4ImfPHlSLNjnPpbxQSXD4vcI0UAAY+u9994TCwsLCwF7ICpMCgAAAAD6r27SarUcN5DLHt3rfG8/KMpPXNO06elp2WXEMuHkZ599JhYchxQcEkQDAQzY5OSkXLb01g7IPCrE7du3hyQpAAAAAOiPer1eLBZjsdjExMRRE7cJeQXZ9ulQt9v3QR9OXHb9+/LLL+VK+ZpwPB5XMklmjxANBDBE/vrXv6pNUNbmS0tLAfv0KUwKAAAAAHrNMIyjR48uLS2J+TE61+3sjqpmg1SlPycuu/7duHFDrpSvCb/99ttdHbrPiAYCGLx0Oi0WZJ9qVaanp2Xi6+vrQ5IUAAAAAPTUxsZGLBYTy+VyudFo7JnIpo2jRCLR1bG63b6n+nbi0WhUdBkxDKNSqYiVskn75ptv+sl9vxANBDB4P/vZz8RCNpu1TPQe3Llz58RCIpEImLjCpAAAAACgd65evSoWqtXq/Pz8sL216jh+nxL9PHE5AfH9+/c102vCyWRymAdS1IgGAhgG5mmbbt68qTbxyclJOft7wMQVJgUAAAAAPVKv18VLsrquT01NdbiXeUh3y8wYSrY38x6/z7f+nLgkW7IrKyua6TXhd955p/NEBoJoIIDBi0QihUJBLCcSiWKx6LFxu93O5/Ndjdz37rvvysQ3Nzd951NtUgAAAADQU0eOHHFc79Y1T/Z+8Bhxz/yaVLfbm+Nujq9bpVIpt3S60usTFyKRiNxxe3tbviY8OzvbVW77j2gggKGwuLgoJmjXNG1packx3tdutzc2Ng4fPryystJVNDASiZRKJbHc7TiyvUsKAAAAAHrhwIEDYiGbzTabTcunxWLRrWveyZMnxUIikZBj4Un1ev3y5cvm16S63V7TtGQyKRbsr1ulUqmAfQb7duL2HX/zm9+I14RlfHCYEQ0EMCzW19dlQHBlZeXw4cOZTMYwjI2NDcMwMpnM4cOHFxYWxAbdjsKg67pMPCCFSQEAAACAcnKCC03TPvzwQ/n2a61WS6VSS0tLbjua506cmZnJZDKVSqVer1cqlXw+f/ToURHw8r29pmlnz54VC4lEIpVKie3F1B9ra2u6rsucD/OJm3cUzUPZWUTGB4fano3jSgBwo7DSaDQa8kmRG13Xq9WqeS9Za+/u7nokvrW1ZU7HcWOFSaFb3H2gBAUJwVGKwoyrDyUoSAgueClqNBpunRh0XZctmnK5bN/Xu1G2s7MTcHu3iX11XW80Gm6Nst3dXbnlkJy4IIe9EofwyFv/uX1X9A0EMESi0eiVK1d2dnYca+FkMrm1tVUqldyGg5Xdwh3Nzs7Kl3x1XffuXagwKQAAAADos2g0ur6+bo+7FQqFUqn04osvij+/+93v2ve9cuVKqVSyx9QKhUKj0Zieng64/erqqmxPmTf+5JNPotHooUOHxBpLo0z+6f2qVj9PXJifn5fL58+f98jb8JgQkcJ/WDXhsBIA3PSu0nAbbhZjibsPlKAgIThKUZhx9aEEBQnBKSxF7XZbjrrebauq2xaZ7+170dzr54nHYjHxpnC1Wu18LuM+cCtIRAMBBEWlASUoSFCCgoTgKEVhxtWHEhQkBEcpGiGVSmVmZkbTtHg8fu3atUFn5x+4FSTeFAYAAAAAAAD8uHPnjlh4++23B5uTztE3EEBQVBpQgoIEJShICI5SFGZcfShBQUJwlKJR0W63Dx8+LJYbjUY0Gh1sfizoGwgAAAAAAAAo8/nnn4uFZDI5bKFAD0QDAQAAAAAAgK599tlnYuGdd94ZbE66wpvCAIKi0oASFCQoQUFCcJSiMOPqQwkKEoKjFI2KfD7/9OnTI0eOLC4uDjovDphTGECvUGlACQoSlKAgIThKUZhx9aEEBQnBUYqgBOMGAgAAAAAAAGFHNBAAAAAAAAAIC+c3hQeSFQAAAAAAAACqdDpuIAAAAAAAAICxxJvCAAAAAAAAQFgQDQQAAAAAAADCgmggAAAAAAAAEBZEAwEAAAAAAICwIBoIAAAAAAAAhMX/A90CxQ+fSjGIAAAAAElFTkSuQmCC)"
      ],
      "metadata": {
        "id": "71DzuUE4UHJm"
      }
    },
    {
      "cell_type": "markdown",
      "source": [
        "# **Loading model and Testing**"
      ],
      "metadata": {
        "id": "LsSe_sfJWOku"
      }
    },
    {
      "cell_type": "code",
      "source": [
        "import time\n",
        "from keras.models import load_model\n",
        "model = load_model('conv3d_model-10-0.39118-0.86425-0.59927-0.86000.h5')"
      ],
      "metadata": {
        "id": "78EqWBuPWN4K"
      },
      "execution_count": null,
      "outputs": []
    },
    {
      "cell_type": "code",
      "source": [
        "test_generator=ModelConv3D10()\n",
        "test_generator.initialize_path(project_folder)\n",
        "test_generator.initialize_image_properties(image_height=160,image_width=160)\n",
        "test_generator.initialize_hyperparams(frames_to_sample=20,batch_size=5,num_epochs=1)\n",
        "\n",
        "g=test_generator.generator(test_generator.val_path,test_generator.val_doc,augment=False)\n",
        "batch_data, batch_labels=next(g)"
      ],
      "metadata": {
        "id": "15K8YYt1UOIJ"
      },
      "execution_count": null,
      "outputs": []
    },
    {
      "cell_type": "code",
      "source": [
        "batch_labels"
      ],
      "metadata": {
        "id": "_fDS3Z3tYsWS"
      },
      "execution_count": null,
      "outputs": []
    },
    {
      "cell_type": "code",
      "source": [
        "print(np.argmax(model.predict(batch_data[:,:,:,:,:]),axis=1))"
      ],
      "metadata": {
        "id": "0nMCyg3bYyhO"
      },
      "execution_count": null,
      "outputs": []
    }
  ],
  "metadata": {
    "accelerator": "GPU",
    "colab": {
      "collapsed_sections": [],
      "name": "Gesture_recognition.ipynb",
      "provenance": []
    },
    "kernelspec": {
      "display_name": "Python 3",
      "name": "python3"
    },
    "language_info": {
      "name": "python"
    }
  },
  "nbformat": 4,
  "nbformat_minor": 0
}